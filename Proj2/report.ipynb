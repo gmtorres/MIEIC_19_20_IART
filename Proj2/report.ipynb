{
 "cells": [
  {
   "cell_type": "markdown",
   "metadata": {},
   "source": [
    "# Machine Learning - Football Events\n",
    "### Project 2\n",
    "\n",
    "#### Authors : \n",
    "* Gustavo Torres, up201706473@fe.up.pt\n",
    "* Joaquim Rodrigues, up201704844@fe.up.pt\n",
    "* Miguel Rosa\n"
   ]
  },
  {
   "cell_type": "markdown",
   "metadata": {},
   "source": [
    "## Abstract\n",
    "\n",
    "This project aims to build predictive machine learning models, with focus on classifiers and apply them to a football dataset, with the use of supervised learning. Machine learning consist in the capability of machines recognize certain patterns in the data with being previously programmed. Predictive models allow to predict the certaing features about the data given an input. Football is a rather random competition where a team can win a match and right after lose against the exact same team in the same conditions. Combining the two of this is this project's objective, combine predictive machine learning models with the randomness of football and it's events, to be able to predict several features of football games and events.\n",
    "\n"
   ]
  },
  {
   "cell_type": "markdown",
   "metadata": {},
   "source": [
    "## 1. Introduction\n",
    "\n",
    "In the context of curricular unit IART, Inteligncia Artificial, of MIEIC, Mestrado Integrado em Informática e Computação, our group were asked to make a project about Machine Learning, being able to choose from several options  where we would like to focus on. The group decision was to work on a classification problem using supervised learning, where the goals is to learn and classify/predict several features about the data, given input features. There was suggestions about the dataset we could work on, and we choose to work in a dataset about football games and its events.\n",
    "\n",
    "Supervised learning is a major branch of machine learning algorithms, possibly the most used as of the writing of this paper, where the model learns by example and from there it can predict, based on previous seen data, the output of new data. During the training the models is fed with input data and its associated output, learning and identifying complex patterns in the data and to what output it maps to, so it can predict unseen data.\n",
    "\n",
    "Supervised learning can be divided into 2 categories: classification and regression. This paper focus majorly in classification where the models tries to correctly identify to which class/category the data maps to. One of the most used approches to classification consists od binary data, whether a feature is true or not, for example, whether a shoot is goal or not. In this paper, several classifier models are used, with particular emphasis on K-Nearest Neighbors, Suport Vector Machines, Random Forest Classifiers and Neural Networks. In regression the models tries to map the feature in a continuos space, and can be used to predict quantities or used in statistics.\n",
    "\n",
    "The dataset choosen is about football because it is a theme our group is interested on and would make our analysis more meaningful. Football is possibly the most popular sport around the world and like many sports, it is inherently random, its result are very unpredictable and so its events, which make the sport so interesting to so many around the world, nevertheless it is the sport the most people bet on.\n",
    "\n",
    "Firstly, an exploratory dataset analysis, including class distribuion, values range and class analysis, was made in order to know the information avaialble and get familiar with the data we would work on and to identify possible problems where we could apply supervised learning and predict features from the dataset.\n",
    "\n",
    "After the problems have been choosen, a data preprocessing was made in order to select meaning and useful features for the problem we were trying to predict, from handling NULL values, standardizing data and even creating new tables to hold new processed information (data transform). Now it was possible to train our classifier models and compare its result against the test data, using several metrics and erros.\n",
    "\n",
    "Finally graphs and tables were made to support the results and compare the models.\n"
   ]
  },
  {
   "cell_type": "markdown",
   "metadata": {},
   "source": [
    "## 2. Dataset\n",
    "\n",
    "The dataset choosen is about football games and its events, and can be accesed [here](https://www.kaggle.com/secareanualin/football-events). It is hard to find a good database about football games and event, containg so many and so detailed information. The information was parsed using a regex from the description of the event resulting in a total 18 features about each game and 22 about each event. Some features are dependent on other features so they only have a value associated dependeding on the value of other features, for exemple, the shot_outcome only has a value when the event_type is an attemp (value  = 1), otherwise it is NULL.\n",
    "\n",
    "The dataset consisting of a total of 10112 games and 941009 events, during 5 years, from the season 2011/2012 to 2016/2017 of the 5 major european leagues, England, Spain, France, Germany, Italy."
   ]
  },
  {
   "cell_type": "code",
   "execution_count": 1,
   "metadata": {},
   "outputs": [],
   "source": [
    "import numpy as np\n",
    "import pandas as pd\n",
    "\n",
    "import seaborn as sns\n",
    "import matplotlib.pyplot as plt\n",
    "%matplotlib inline\n",
    "\n",
    "#load data from files\n",
    "events = pd.read_csv('./data/' + 'events.csv')\n",
    "ginf = pd.read_csv('./data/' + 'ginf.csv')"
   ]
  },
  {
   "cell_type": "code",
   "execution_count": 2,
   "metadata": {},
   "outputs": [
    {
     "name": "stdout",
     "output_type": "stream",
     "text": [
      "<class 'pandas.core.frame.DataFrame'>\n",
      "RangeIndex: 941009 entries, 0 to 941008\n",
      "Data columns (total 22 columns):\n",
      " #   Column         Non-Null Count   Dtype  \n",
      "---  ------         --------------   -----  \n",
      " 0   id_odsp        941009 non-null  object \n",
      " 1   id_event       941009 non-null  object \n",
      " 2   sort_order     941009 non-null  int64  \n",
      " 3   time           941009 non-null  int64  \n",
      " 4   text           941009 non-null  object \n",
      " 5   event_type     941009 non-null  int64  \n",
      " 6   event_type2    214293 non-null  float64\n",
      " 7   side           941009 non-null  int64  \n",
      " 8   event_team     941009 non-null  object \n",
      " 9   opponent       941009 non-null  object \n",
      " 10  player         880009 non-null  object \n",
      " 11  player2        291310 non-null  object \n",
      " 12  player_in      51715 non-null   object \n",
      " 13  player_out     51738 non-null   object \n",
      " 14  shot_place     227459 non-null  float64\n",
      " 15  shot_outcome   228498 non-null  float64\n",
      " 16  is_goal        941009 non-null  int64  \n",
      " 17  location       467067 non-null  float64\n",
      " 18  bodypart       229185 non-null  float64\n",
      " 19  assist_method  941009 non-null  int64  \n",
      " 20  situation      229137 non-null  float64\n",
      " 21  fast_break     941009 non-null  int64  \n",
      "dtypes: float64(6), int64(7), object(9)\n",
      "memory usage: 125.6+ MB\n"
     ]
    }
   ],
   "source": [
    "events.info()"
   ]
  },
  {
   "cell_type": "code",
   "execution_count": 3,
   "metadata": {},
   "outputs": [
    {
     "name": "stdout",
     "output_type": "stream",
     "text": [
      "<class 'pandas.core.frame.DataFrame'>\n",
      "RangeIndex: 10112 entries, 0 to 10111\n",
      "Data columns (total 18 columns):\n",
      " #   Column     Non-Null Count  Dtype  \n",
      "---  ------     --------------  -----  \n",
      " 0   id_odsp    10112 non-null  object \n",
      " 1   link_odsp  10112 non-null  object \n",
      " 2   adv_stats  10112 non-null  bool   \n",
      " 3   date       10112 non-null  object \n",
      " 4   league     10112 non-null  object \n",
      " 5   season     10112 non-null  int64  \n",
      " 6   country    10112 non-null  object \n",
      " 7   ht         10112 non-null  object \n",
      " 8   at         10112 non-null  object \n",
      " 9   fthg       10112 non-null  int64  \n",
      " 10  ftag       10112 non-null  int64  \n",
      " 11  odd_h      10112 non-null  float64\n",
      " 12  odd_d      10112 non-null  float64\n",
      " 13  odd_a      10112 non-null  float64\n",
      " 14  odd_over   977 non-null    float64\n",
      " 15  odd_under  977 non-null    float64\n",
      " 16  odd_bts    977 non-null    float64\n",
      " 17  odd_bts_n  977 non-null    float64\n",
      "dtypes: bool(1), float64(7), int64(3), object(7)\n",
      "memory usage: 1.1+ MB\n"
     ]
    }
   ],
   "source": [
    "ginf.info()"
   ]
  },
  {
   "cell_type": "code",
   "execution_count": 4,
   "metadata": {},
   "outputs": [],
   "source": [
    "## Utility function to plot bar plots with similar configuration\n",
    "def plot_barplot(data, x_ticks, x_labels, y_labels, title, color='muted', num=10, figsize=8):\n",
    "    ## Set standard style as whitegrid (this also could be customized via param)\n",
    "    sns.set_style(\"whitegrid\")\n",
    "    ## Set a figure with custom figsize\n",
    "    plt.figure(figsize=(num, figsize))\n",
    "    ## Plottin data\n",
    "    ax = sns.barplot(x = [j for j in range(0, len(data))], y=data.values, palette=color)\n",
    "    ## Setting ticks extracted from data indexes\n",
    "    ax.set_xticks([j for j in range(0, len(data))])\n",
    "    ## Set labels of the chart\n",
    "    ax.set_xticklabels(x_ticks, rotation=45)\n",
    "    ax.set(xlabel = x_labels, ylabel = y_labels, title = title)\n",
    "    ax.plot();\n",
    "    plt.tight_layout()"
   ]
  },
  {
   "cell_type": "code",
   "execution_count": 5,
   "metadata": {},
   "outputs": [
    {
     "data": {
      "image/png": "[encoded data removed]",
      "text/plain": [
       "<Figure size 2880x288 with 2 Axes>"
      ]
     },
     "metadata": {
      "needs_background": "light"
     },
     "output_type": "display_data"
    }
   ],
   "source": [
    "## Shot place goals\n",
    "g_shot_place = pd.Series(['Bottom left corner','Bottom right corner','Centre of the goal','Top left corner','Top right corner'], index=[[item for item in range(1, 6)]])\n",
    "## Shot place not goals\n",
    "ng_shot_place = pd.Series(['Bottom left corner','Bottom right corner','Centre of the goal','Top centre of the goal','Top left corner','Top right corner'], index=[[item for item in range(1, 7)]])\n",
    "\n",
    "on_target_attemps = events[(events.event_type == 1) & (events.shot_outcome == 1)]\n",
    "goal_shot_places = on_target_attemps[(on_target_attemps.is_goal == 1)].iloc[:,[-8]].groupby('shot_place')['shot_place'].count()\n",
    "not_goal_shot_places = on_target_attemps[(on_target_attemps.is_goal == 0)].iloc[:,[-8]].groupby('shot_place')['shot_place'].count()\n",
    "\n",
    "plt.figure(figsize=(40, 4))\n",
    "plt.subplot(131)\n",
    "plt.bar(g_shot_place, goal_shot_places.ravel(),color=(0.2,0.6,0.2,1))\n",
    "plt.xlabel('Place of goal',fontweight='bold', color = 'orange', fontsize='17')\n",
    "plt.subplot(132)\n",
    "plt.bar(ng_shot_place, not_goal_shot_places.ravel(),color=(0.6,0.2,0.2,1))\n",
    "plt.xlabel('Place of missed goal',fontweight='bold', color = 'orange', fontsize='17')\n",
    "del g_shot_place\n",
    "del ng_shot_place"
   ]
  },
  {
   "cell_type": "code",
   "execution_count": 6,
   "metadata": {},
   "outputs": [
    {
     "data": {
      "image/png": "[encoded data removed]",
      "text/plain": [
       "<Figure size 1440x288 with 3 Axes>"
      ]
     },
     "metadata": {
      "needs_background": "light"
     },
     "output_type": "display_data"
    }
   ],
   "source": [
    "bodypart = pd.Series(['Right foot','Left foot','Head'], index=[[item for item in range(1, 4)]])\n",
    "goal_bodypart = on_target_attemps[(on_target_attemps.is_goal == 1)].iloc[:,[-4]].groupby('bodypart')['bodypart'].count()\n",
    "not_goal_bodypart = on_target_attemps[(on_target_attemps.is_goal == 0)].iloc[:,[-4]].groupby('bodypart')['bodypart'].count()\n",
    "goal_bodypart/not_goal_bodypart\n",
    "\n",
    "plt.figure(figsize=(20, 4))\n",
    "plt.subplot(131)\n",
    "plt.bar(bodypart, goal_bodypart.ravel(),color=(0.2,0.6,0.2,1))\n",
    "plt.xlabel('Body part goal',fontweight='bold', color = 'orange', fontsize='17')\n",
    "plt.subplot(132)\n",
    "plt.bar(bodypart, not_goal_bodypart.ravel(),color=(0.6,0.2,0.2,1))\n",
    "plt.xlabel('Body part miss',fontweight='bold', color = 'orange', fontsize='17')\n",
    "plt.subplot(133)\n",
    "plt.bar(bodypart, (goal_bodypart/not_goal_bodypart).ravel(),color=(0.2,0.2,0.6,1))\n",
    "plt.xlabel('Body part goal/miss ration',fontweight='bold', color = 'orange', fontsize='17')\n",
    "del goal_bodypart\n",
    "del not_goal_bodypart"
   ]
  },
  {
   "cell_type": "code",
   "execution_count": 7,
   "metadata": {
    "scrolled": true
   },
   "outputs": [],
   "source": [
    "leagues = pd.Series(['Bundesliga' , 'Premier League' , 'League 1', ' Serie A' , 'La Liga'], index=[[item for item in range(1, 6)]])\n",
    "merge = events.merge(ginf, how=\"left\");\n",
    "fouls_per_league = merge[(merge.event_type == 3)].groupby('league')['league'].count()\n",
    "cards_per_league = merge[(merge.event_type == 4) |(merge.event_type == 5) | (merge.event_type == 6)].groupby('league')['league'].count()\n",
    "games_per_league = ginf.groupby('league')['league'].count()\n",
    "fouls_per_game_per_league = fouls_per_league/games_per_league\n",
    "cards_per_game_per_league = cards_per_league/games_per_league\n"
   ]
  },
  {
   "cell_type": "code",
   "execution_count": 8,
   "metadata": {
    "scrolled": true
   },
   "outputs": [
    {
     "data": {
      "image/png": "[encoded data removed]",
      "text/plain": [
       "<Figure size 432x288 with 1 Axes>"
      ]
     },
     "metadata": {
      "needs_background": "light"
     },
     "output_type": "display_data"
    }
   ],
   "source": [
    "\n",
    "x = np.arange(len(leagues))  # the label locations\n",
    "width = 0.35  # the width of the bars\n",
    "\n",
    "fig, ax = plt.subplots()\n",
    "rects1 = ax.bar(x - width/2, fouls_per_game_per_league, width , label='Fouls per game')\n",
    "rects2 = ax.bar(x + width/2, cards_per_game_per_league, width, label='Cards per game')\n",
    "\n",
    "# Add some text for labels, title and custom x-axis tick labels, etc.\n",
    "ax.set_ylabel('Frequency')\n",
    "ax.set_title('Number of cards and fouls per leagues')\n",
    "ax.set_xticks(x)\n",
    "ax.set_xticklabels(leagues)\n",
    "ax.legend()\n",
    "\n",
    "def autolabel(rects):\n",
    "    \"\"\"Attach a text label above each bar in *rects*, displaying its height.\"\"\"\n",
    "    for rect in rects:\n",
    "        height = round(rect.get_height(),2)\n",
    "        ax.annotate('{}'.format(height),\n",
    "                    xy=(rect.get_x() + rect.get_width() / 2, height),\n",
    "                    xytext=(0, 3),  # 3 points vertical offset\n",
    "                    textcoords=\"offset points\",\n",
    "                    ha='center', va='bottom')\n",
    "autolabel(rects1)\n",
    "autolabel(rects2)\n",
    "\n",
    "fig.tight_layout()\n",
    "\n",
    "plt.show()\n",
    "#delete\n",
    "del fouls_per_game_per_league\n",
    "del cards_per_game_per_league"
   ]
  },
  {
   "cell_type": "code",
   "execution_count": 9,
   "metadata": {
    "scrolled": true
   },
   "outputs": [
    {
     "name": "stdout",
     "output_type": "stream",
     "text": [
      "[0 1 2 3 4]\n"
     ]
    },
    {
     "data": {
      "image/png": "[encoded data removed]",
      "text/plain": [
       "<Figure size 432x288 with 1 Axes>"
      ]
     },
     "metadata": {
      "needs_background": "light"
     },
     "output_type": "display_data"
    }
   ],
   "source": [
    "seasons = ['2012' , '2013' , '2014' , '2015' , '2016' , '2017'];\n",
    "\n",
    "upsets = ginf[((ginf.fthg > ginf.ftag) & (ginf.odd_h/ginf.odd_a > 1.8)) | ((ginf.fthg < ginf.ftag) & (ginf.odd_a/ginf.odd_h > 1.8))]\n",
    "\n",
    "x = np.arange(len(leagues))  # the label locations\n",
    "print(x)\n",
    "width = 0.55  # the width of the bars\n",
    "\n",
    "fig, ax = plt.subplots()\n",
    "\n",
    "i = 0\n",
    "for season in seasons:\n",
    "    upsets_per_season_per_league = upsets[upsets.season == int(season)].groupby('league')['league'].count()\n",
    "    rects = ax.bar(x - width/2 + i*width/len(season) , upsets_per_season_per_league, width / len(season), label=season)\n",
    "    autolabel(rects)\n",
    "    i = i + 1\n",
    "    \n",
    "    \n",
    "ax.set_ylabel('Frequency')\n",
    "ax.set_title('Number of upsets per league per year')\n",
    "ax.set_xticks(x)\n",
    "ax.set_xticklabels(leagues)\n",
    "ax.legend()\n",
    "\n",
    "fig.tight_layout()\n",
    "\n",
    "plt.show()\n",
    "del upsets"
   ]
  },
  {
   "cell_type": "code",
   "execution_count": 10,
   "metadata": {
    "scrolled": false
   },
   "outputs": [
    {
     "data": {
      "text/plain": [
       "Text(0.5, 0, 'Average gouls per game')"
      ]
     },
     "execution_count": 10,
     "metadata": {},
     "output_type": "execute_result"
    },
    {
     "data": {
      "image/png": "[encoded data removed]",
      "text/plain": [
       "<Figure size 2880x432 with 2 Axes>"
      ]
     },
     "metadata": {
      "needs_background": "light"
     },
     "output_type": "display_data"
    }
   ],
   "source": [
    "ginf_extra = ginf.copy()\n",
    "ginf_extra['dif'] = ginf_extra['fthg'] - ginf_extra['ftag']\n",
    "ginf_extra['total'] = ginf_extra['fthg'] + ginf_extra['ftag']\n",
    "\n",
    "conditions = [ginf_extra['dif'] > 0 , ginf_extra['dif'] == 0, ginf_extra['dif'] < 0]\n",
    "choices = [1 , 0 , -1]\n",
    "ginf_extra['result'] = np.select(conditions,choices,default=np.nan)\n",
    "homeResult = ginf_extra.groupby('result')['result'].count()\n",
    "\n",
    "gouls_per_league_per_game = ginf_extra[['total','league']].groupby('league')['total'].sum()/games_per_league\n",
    "\n",
    "results = ['Lose' , 'Draw' , 'Win']\n",
    "\n",
    "plt.figure(figsize=(40, 6))\n",
    "plt.subplot(131)\n",
    "plt.bar(results, homeResult.ravel(),color=(0.2,0.6,0.2,1))\n",
    "plt.xlabel('Result of the home team',fontweight='bold', color = 'orange', fontsize='17')\n",
    "plt.subplot(132)\n",
    "plt.bar(leagues, gouls_per_league_per_game.ravel(),color=(0.2,0.6,0.2,1))\n",
    "plt.xlabel('Average gouls per game',fontweight='bold', color = 'orange', fontsize='17')\n",
    "\n"
   ]
  },
  {
   "cell_type": "code",
   "execution_count": 11,
   "metadata": {
    "scrolled": false
   },
   "outputs": [],
   "source": [
    "shots = events[events.event_type == 1]"
   ]
  },
  {
   "cell_type": "code",
   "execution_count": 14,
   "metadata": {
    "scrolled": true
   },
   "outputs": [],
   "source": [
    "most_offensive_player = shots.groupby('player')['player'].count().sort_values(ascending = False)\n",
    "most_effective_player = (shots[shots.is_goal == 1].groupby('player')['player'].count().where(lambda x : x>20).dropna()/most_offensive_player).dropna().sort_values(ascending = False)"
   ]
  },
  {
   "cell_type": "code",
   "execution_count": 15,
   "metadata": {},
   "outputs": [
    {
     "data": {
      "text/plain": [
       "player\n",
       "gonzalo rodriguez      0.305556\n",
       "bas dost               0.262774\n",
       "dario cvitanich        0.258621\n",
       "javier hernandez       0.250000\n",
       "miroslav klose         0.248780\n",
       "                         ...   \n",
       "philippe coutinho      0.073892\n",
       "lorenzo insigne        0.071066\n",
       "pedro leon             0.069307\n",
       "radja nainggolan       0.055556\n",
       "alessandro diamanti    0.054404\n",
       "Name: player, Length: 291, dtype: float64"
      ]
     },
     "execution_count": 15,
     "metadata": {},
     "output_type": "execute_result"
    }
   ],
   "source": [
    "most_effective_player"
   ]
  },
  {
   "cell_type": "markdown",
   "metadata": {},
   "source": [
    "After an analysis over the dataset and an acknowkledge of the distribution, meaning and relations of its features has been done, the group decided to look with more detail into de following predictive problems:\n",
    "* Predict the winning team\n",
    "* Predict the moment of the first goal\n",
    "* Predict whether both teams score\n",
    "* Predict whether there will be more or less than 2.5 goals\n",
    "* Predict whether an attemp will result in a goal\n",
    "* Predict whether an attemp will result in a save\n",
    "\n",
    "These problems were choosen because ofthe existence of data and features alligned with the problem we are trying to build a model and predict and because of its meaning. The first 4 problems are classical betting options, where many people bet in these options. The last two problems rely on the prediction of whether an attemp will result in goal or not, also known as Expected Goals Model, or whether an attemp will result in a save or not, based in the previous model, allowing then to further data analysis about players and teams."
   ]
  },
  {
   "cell_type": "markdown",
   "metadata": {},
   "source": [
    "## 3. Problems\n",
    "\n",
    "In this section it will be discussed the approach to each of the problems mentioned previously and an evaluation of the results obtain. There is a different approach to each of these problems given that they predict different features and different data can be extracted from each problem, which will be discussed. Several models were compared in order to find the one that fits better to a given problem."
   ]
  },
  {
   "cell_type": "markdown",
   "metadata": {},
   "source": [
    "### 3.1 Predict the winning team\n",
    "#### Approach"
   ]
  },
  {
   "cell_type": "markdown",
   "metadata": {},
   "source": [
    "#### Experimental Evaluation"
   ]
  },
  {
   "cell_type": "markdown",
   "metadata": {},
   "source": [
    "### 3.2 Predict the moment of first goal\n",
    "#### Approach"
   ]
  },
  {
   "cell_type": "code",
   "execution_count": null,
   "metadata": {},
   "outputs": [],
   "source": []
  },
  {
   "cell_type": "markdown",
   "metadata": {},
   "source": [
    "#### Experimental Evaluation"
   ]
  },
  {
   "cell_type": "code",
   "execution_count": null,
   "metadata": {},
   "outputs": [],
   "source": []
  },
  {
   "cell_type": "markdown",
   "metadata": {},
   "source": [
    "### 3.3 Predict whether both teams score\n",
    "#### Approach"
   ]
  },
  {
   "cell_type": "code",
   "execution_count": null,
   "metadata": {},
   "outputs": [],
   "source": []
  },
  {
   "cell_type": "markdown",
   "metadata": {},
   "source": [
    "### 3.4 Predict the whether there will be more or less than 2.5 goals\n",
    "#### Approach"
   ]
  },
  {
   "cell_type": "code",
   "execution_count": null,
   "metadata": {},
   "outputs": [],
   "source": []
  },
  {
   "cell_type": "markdown",
   "metadata": {},
   "source": [
    "#### Experimental Evaluation"
   ]
  },
  {
   "cell_type": "code",
   "execution_count": null,
   "metadata": {},
   "outputs": [],
   "source": []
  },
  {
   "cell_type": "markdown",
   "metadata": {},
   "source": [
    "### 3.5 Predict whether an attemp will result in a goal\n",
    "#### Approach"
   ]
  },
  {
   "cell_type": "markdown",
   "metadata": {},
   "source": [
    "#### Experimental Evaluation"
   ]
  },
  {
   "cell_type": "markdown",
   "metadata": {},
   "source": [
    "### 3.6 Predict whether an attemp will result in a save\n",
    "#### Approach"
   ]
  },
  {
   "cell_type": "markdown",
   "metadata": {},
   "source": [
    "#### Experimental Evaluation"
   ]
  },
  {
   "cell_type": "markdown",
   "metadata": {},
   "source": [
    "## 4. Conclusion"
   ]
  },
  {
   "cell_type": "markdown",
   "metadata": {},
   "source": [
    "## References"
   ]
  },
  {
   "cell_type": "code",
   "execution_count": null,
   "metadata": {},
   "outputs": [],
   "source": []
  }
 ],
 "metadata": {
  "kernelspec": {
   "display_name": "Python 3",
   "language": "python",
   "name": "python3"
  },
  "language_info": {
   "codemirror_mode": {
    "name": "ipython",
    "version": 3
   },
   "file_extension": ".py",
   "mimetype": "text/x-python",
   "name": "python",
   "nbconvert_exporter": "python",
   "pygments_lexer": "ipython3",
   "version": "3.8.2"
  }
 },
 "nbformat": 4,
 "nbformat_minor": 4
}
