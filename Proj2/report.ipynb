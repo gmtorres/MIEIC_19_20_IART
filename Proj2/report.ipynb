{
 "cells": [
  {
   "cell_type": "markdown",
   "metadata": {},
   "source": [
    "# Machine Learning - Football Events\n",
    "### Project 2\n",
    "\n",
    "#### Authors : \n",
    "* Gustavo Torres, up201706473@fe.up.pt\n",
    "* Joaquim Rodrigues, up201704844@fe.up.pt\n",
    "* Miguel Rosa , up201706956@fe.up.pt\n"
   ]
  },
  {
   "cell_type": "markdown",
   "metadata": {},
   "source": [
    "## Abstract\n",
    "\n",
    "This project aims to build predictive machine learning models, with focus on classifiers and apply them to a football dataset, with the use of supervised learning. Machine learning consist in the capability of machines recognize certain patterns in the data with being previously programmed. Predictive models allow to predict the certaing features about the data given an input. Football is a rather random competition where a team can win a match and right after lose against the exact same team in the same conditions. Combining the two of this is this project's objective, combine predictive machine learning models with the randomness of football and it's events, to be able to predict several features of football games and events.\n",
    "\n"
   ]
  },
  {
   "cell_type": "markdown",
   "metadata": {},
   "source": [
    "## 1. Introduction\n",
    "\n",
    "In the context of curricular unit IART, Inteligncia Artificial, of MIEIC, Mestrado Integrado em Informática e Computação, our group were asked to make a project about Machine Learning, being able to choose from several options  where we would like to focus on. The group decision was to work on a classification problem using supervised learning, where the goals is to learn and classify/predict several features about the data, given input features. There was suggestions about the dataset we could work on, and we choose to work in a dataset about football games and its events.\n",
    "\n",
    "Supervised learning is a major branch of machine learning algorithms, possibly the most used as of the writing of this paper, where the model learns by example and from there it can predict, based on previous seen data, the output of new data. During the training the models is fed with input data and its associated output, learning and identifying complex patterns in the data and to what output it maps to, so it can predict unseen data.\n",
    "\n",
    "Supervised learning can be divided into 2 categories: classification and regression. This paper focus majorly in classification where the models tries to correctly identify to which class/category the data maps to. One of the most used approches to classification consists od binary data, whether a feature is true or not, for example, whether a shoot is goal or not. In this paper, several classifier models are used, with particular emphasis on K-Nearest Neighbors, Suport Vector Machines, Random Forest Classifiers and Neural Networks. In regression the models tries to map the feature in a continuos space, and can be used to predict quantities or used in statistics.\n",
    "\n",
    "The dataset choosen is about football because it is a theme our group is interested on and would make our analysis more meaningful. Football is possibly the most popular sport around the world and like many sports, it is inherently random, its result are very unpredictable and so its events, which make the sport so interesting to so many around the world, nevertheless it is the sport the most people bet on.\n",
    "\n",
    "Firstly, an exploratory dataset analysis, including class distribuion, values range and class analysis, was made in order to know the information avaialble and get familiar with the data we would work on and to identify possible problems where we could apply supervised learning and predict features from the dataset.\n",
    "\n",
    "After the problems have been choosen, a data preprocessing was made in order to select meaning and useful features for the problem we were trying to predict, from handling NULL values, standardizing data and even creating new tables to hold new processed information (data transform). Now it was possible to train our classifier models and compare its result against the test data, using several metrics and erros.\n",
    "\n",
    "Finally graphs and tables were made to support the results and compare the models.\n"
   ]
  },
  {
   "cell_type": "markdown",
   "metadata": {},
   "source": [
    "## 2. Dataset\n",
    "\n",
    "The dataset choosen is about football games and its events, and can be accesed [here](https://www.kaggle.com/secareanualin/football-events). It is hard to find a good database about football games and event, containg so many and so detailed information. The information was parsed using a regex from the description of the event resulting in a total 18 features about each game and 22 about each event. Some features are dependent on other features so they only have a value associated dependeding on the value of other features, for exemple, the shot_outcome only has a value when the event_type is an attemp (value  = 1), otherwise it is NULL.\n",
    "\n",
    "The dataset consisting of a total of 10112 games and 941009 events, during 5 years, from the season 2011/2012 to 2016/2017 of the 5 major european leagues, England, Spain, France, Germany, Italy.\n",
    "\n",
    "There are two files, one with each of the available games, and other one with each of the major events of the previous games. Each game has a unique identifier that is shared with each event of that game, making it possible to map an event to a game and even joing data as needed."
   ]
  },
  {
   "cell_type": "code",
   "execution_count": 1,
   "metadata": {},
   "outputs": [],
   "source": [
    "import numpy as np\n",
    "import pandas as pd\n",
    "\n",
    "import seaborn as sns\n",
    "import matplotlib.pyplot as plt\n",
    "import copy\n",
    "\n",
    "%matplotlib inline\n",
    "\n",
    "#load data from files\n",
    "events = pd.read_csv('./data/' + 'events.csv')\n",
    "ginf = pd.read_csv('./data/' + 'ginf.csv')"
   ]
  },
  {
   "cell_type": "code",
   "execution_count": 2,
   "metadata": {},
   "outputs": [
    {
     "name": "stdout",
     "output_type": "stream",
     "text": [
      "<class 'pandas.core.frame.DataFrame'>\n",
      "RangeIndex: 941009 entries, 0 to 941008\n",
      "Data columns (total 22 columns):\n",
      " #   Column         Non-Null Count   Dtype  \n",
      "---  ------         --------------   -----  \n",
      " 0   id_odsp        941009 non-null  object \n",
      " 1   id_event       941009 non-null  object \n",
      " 2   sort_order     941009 non-null  int64  \n",
      " 3   time           941009 non-null  int64  \n",
      " 4   text           941009 non-null  object \n",
      " 5   event_type     941009 non-null  int64  \n",
      " 6   event_type2    214293 non-null  float64\n",
      " 7   side           941009 non-null  int64  \n",
      " 8   event_team     941009 non-null  object \n",
      " 9   opponent       941009 non-null  object \n",
      " 10  player         880009 non-null  object \n",
      " 11  player2        291310 non-null  object \n",
      " 12  player_in      51715 non-null   object \n",
      " 13  player_out     51738 non-null   object \n",
      " 14  shot_place     227459 non-null  float64\n",
      " 15  shot_outcome   228498 non-null  float64\n",
      " 16  is_goal        941009 non-null  int64  \n",
      " 17  location       467067 non-null  float64\n",
      " 18  bodypart       229185 non-null  float64\n",
      " 19  assist_method  941009 non-null  int64  \n",
      " 20  situation      229137 non-null  float64\n",
      " 21  fast_break     941009 non-null  int64  \n",
      "dtypes: float64(6), int64(7), object(9)\n",
      "memory usage: 125.6+ MB\n"
     ]
    }
   ],
   "source": [
    "events.info()"
   ]
  },
  {
   "cell_type": "markdown",
   "metadata": {},
   "source": [
    "The events info consists of the following fields:\n",
    "* id_odsp - unique id of game of event\n",
    "* id_event - unique id of the event\n",
    "* sort_order - choronological order of event in the game\n",
    "* time - minute of event\n",
    "* text - description of event\n",
    "* event_type - primary event(\n",
    "0\tAnnouncement\n",
    "1\tAttempt\n",
    "2\tCorner\n",
    "3\tFoul\n",
    "4\tYellow card\n",
    "5\tSecond yellow card\n",
    "6\tRed card\n",
    "7\tSubstitution\n",
    "8\tFree kick won\n",
    "9\tOffside\n",
    "10\tHand ball\n",
    "11\tPenalty conceded)\n",
    "* event_type2 - secundary event\n",
    "(12 - Key Pass\n",
    "13 - Failed through ball\n",
    "14-Sending off\n",
    "15-Own goal)\n",
    "* side - side of event\n",
    "(1\tHome\n",
    "2\tAway)\n",
    "* event_team - team that produced the event\n",
    "* oponnent - team that the event team played against\n",
    "* player - name of player involved in event\n",
    "* player2 - name of player involved in secundary event\n",
    "* player_in - player that came in (only in substitutions)\n",
    "* player_out - player that came ot (only in substitutions)\n",
    "* shot_place - location of the shot\n",
    "(1\tBit too high\n",
    "2\tBlocked\n",
    "3\tBottom left corner\n",
    "4\tBottom right corner\n",
    "5\tCentre of the goal\n",
    "6\tHigh and wide\n",
    "7\tHits the bar\n",
    "8\tMisses to the left\n",
    "9\tMisses to the right\n",
    "10\tToo high\n",
    "11\tTop centre of the goal\n",
    "12\tTop left corner\n",
    "13\tTop right corner)\n",
    "* shot_outcome - possible shot outcome\n",
    "(1\tOn target\n",
    "2\tOff target\n",
    "3\tBlocked\n",
    "4\tHit the bar)\n",
    "* is_goal - whether if is goal or not\n",
    "* location - location of where the event happened\n",
    "(1\tAttacking half\n",
    "2\tDefensive half\n",
    "3\tCentre of the box\n",
    "4\tLeft wing\n",
    "5\tRight wing\n",
    "6\tDifficult angle and long range\n",
    "7\tDifficult angle on the left\n",
    "8\tDifficult angle on the right\n",
    "9\tLeft side of the box\n",
    "10\tLeft side of the six yard box\n",
    "11\tRight side of the box\n",
    "12\tRight side of the six yard box\n",
    "13\tVery close range\n",
    "14\tPenalty spot\n",
    "15\tOutside the box\n",
    "16\tLong range\n",
    "17\tMore than 35 yards\n",
    "18\tMore than 40 yards\n",
    "19\tNot recorded)\n",
    "* bodypart - bodypart of event\n",
    "(1\tright foot\n",
    "2\tleft foot\n",
    "3\thead)\n",
    "* assist_method - in case of asisted shot\n",
    "(0\tNone\n",
    "1\tPass\n",
    "2\tCross\n",
    "3\tHeaded pass\n",
    "4\tThrough ball)\n",
    "* situation - situation of event\n",
    "(1\tOpen play\n",
    "2\tSet piece\n",
    "3\tCorner\n",
    "4\tFree kick)\n",
    "* fast_break - whether it was a fast break or not"
   ]
  },
  {
   "cell_type": "code",
   "execution_count": 3,
   "metadata": {
    "scrolled": true
   },
   "outputs": [
    {
     "name": "stdout",
     "output_type": "stream",
     "text": [
      "<class 'pandas.core.frame.DataFrame'>\n",
      "RangeIndex: 10112 entries, 0 to 10111\n",
      "Data columns (total 18 columns):\n",
      " #   Column     Non-Null Count  Dtype  \n",
      "---  ------     --------------  -----  \n",
      " 0   id_odsp    10112 non-null  object \n",
      " 1   link_odsp  10112 non-null  object \n",
      " 2   adv_stats  10112 non-null  bool   \n",
      " 3   date       10112 non-null  object \n",
      " 4   league     10112 non-null  object \n",
      " 5   season     10112 non-null  int64  \n",
      " 6   country    10112 non-null  object \n",
      " 7   ht         10112 non-null  object \n",
      " 8   at         10112 non-null  object \n",
      " 9   fthg       10112 non-null  int64  \n",
      " 10  ftag       10112 non-null  int64  \n",
      " 11  odd_h      10112 non-null  float64\n",
      " 12  odd_d      10112 non-null  float64\n",
      " 13  odd_a      10112 non-null  float64\n",
      " 14  odd_over   977 non-null    float64\n",
      " 15  odd_under  977 non-null    float64\n",
      " 16  odd_bts    977 non-null    float64\n",
      " 17  odd_bts_n  977 non-null    float64\n",
      "dtypes: bool(1), float64(7), int64(3), object(7)\n",
      "memory usage: 1.1+ MB\n"
     ]
    }
   ],
   "source": [
    "ginf.info()"
   ]
  },
  {
   "cell_type": "markdown",
   "metadata": {},
   "source": [
    "The games info consists of the following fields:\n",
    "* id_odsp - unique id of game\n",
    "* link_odsp - link to oddsportal page\n",
    "* adv_stats - whether the game has adveanced stats or not\n",
    "* data - date of game\n",
    "* league - club league\n",
    "* season - year of the game\n",
    "* country - host of league\n",
    "* ht - home team\n",
    "* at - awat team\n",
    "* fthg - full time home goals\n",
    "* ftag - full time away goals\n",
    "* odd_h - odd of home team winning\n",
    "* odd_d - odd of draw\n",
    "* odd_a - odd of away team winning\n",
    "* odd_over - odd of over 2.5 total goals\n",
    "* odd_under - odd of under 2.5 total goals\n",
    "* odd_bts - odd of both teams scoring\n",
    "* odd_bts_n - odd of both teams not to score\n",
    "\n",
    "Keep in mind that the odds represent the highest odds in the market."
   ]
  },
  {
   "cell_type": "code",
   "execution_count": 4,
   "metadata": {},
   "outputs": [],
   "source": [
    "## Utility function to plot bar plots with similar configuration\n",
    "def plot_barplot(data, x_ticks, x_labels, y_labels, title, color='muted', num=10, figsize=8):\n",
    "    ## Set standard style as whitegrid (this also could be customized via param)\n",
    "    sns.set_style(\"whitegrid\")\n",
    "    ## Set a figure with custom figsize\n",
    "    plt.figure(figsize=(num, figsize))\n",
    "    ## Plottin data\n",
    "    ax = sns.barplot(x = [j for j in range(0, len(data))], y=data.values, palette=color)\n",
    "    ## Setting ticks extracted from data indexes\n",
    "    ax.set_xticks([j for j in range(0, len(data))])\n",
    "    ## Set labels of the chart\n",
    "    ax.set_xticklabels(x_ticks, rotation=45)\n",
    "    ax.set(xlabel = x_labels, ylabel = y_labels, title = title)\n",
    "    ax.plot();\n",
    "    plt.tight_layout()"
   ]
  },
  {
   "cell_type": "code",
   "execution_count": 5,
   "metadata": {},
   "outputs": [
    {
     "data": {
      "image/png": "[encoded data removed]",
      "text/plain": [
       "<Figure size 2880x288 with 2 Axes>"
      ]
     },
     "metadata": {
      "needs_background": "light"
     },
     "output_type": "display_data"
    }
   ],
   "source": [
    "## Shot place goals\n",
    "g_shot_place = pd.Series(['Bottom left corner','Bottom right corner','Centre of the goal','Top left corner','Top right corner'], index=[[item for item in range(1, 6)]])\n",
    "## Shot place not goals\n",
    "ng_shot_place = pd.Series(['Bottom left corner','Bottom right corner','Centre of the goal','Top centre of the goal','Top left corner','Top right corner'], index=[[item for item in range(1, 7)]])\n",
    "\n",
    "on_target_attemps = events[(events.event_type == 1) & (events.shot_outcome == 1)]\n",
    "goal_shot_places = on_target_attemps[(on_target_attemps.is_goal == 1)].iloc[:,[-8]].groupby('shot_place')['shot_place'].count()\n",
    "not_goal_shot_places = on_target_attemps[(on_target_attemps.is_goal == 0)].iloc[:,[-8]].groupby('shot_place')['shot_place'].count()\n",
    "\n",
    "plt.figure(figsize=(40, 4))\n",
    "plt.subplot(131)\n",
    "plt.bar(g_shot_place, goal_shot_places.ravel(),color=(0.2,0.6,0.2,1))\n",
    "plt.xlabel('Place of goal',fontweight='bold', color = 'orange', fontsize='17')\n",
    "plt.subplot(132)\n",
    "plt.bar(ng_shot_place, not_goal_shot_places.ravel(),color=(0.6,0.2,0.2,1))\n",
    "plt.xlabel('Place of missed goal',fontweight='bold', color = 'orange', fontsize='17')\n",
    "del g_shot_place\n",
    "del ng_shot_place\n",
    "del goal_shot_places\n",
    "del not_goal_shot_places"
   ]
  },
  {
   "cell_type": "markdown",
   "metadata": {},
   "source": [
    "We can clearly see that we lower corners are the places where more frequent end in goals, whereas, the center ends up in a miss more often, maybe because the goalkeeper positions himself in the center, to is easier to stay there and harder to reach the corners, however the top corners are much easier to miss than the lower, so player bet on the lower ones."
   ]
  },
  {
   "cell_type": "code",
   "execution_count": 6,
   "metadata": {},
   "outputs": [
    {
     "data": {
      "image/png": "[encoded data removed]",
      "text/plain": [
       "<Figure size 1440x288 with 3 Axes>"
      ]
     },
     "metadata": {
      "needs_background": "light"
     },
     "output_type": "display_data"
    }
   ],
   "source": [
    "bodypart = pd.Series(['Right foot','Left foot','Head'], index=[[item for item in range(1, 4)]])\n",
    "goal_bodypart = on_target_attemps[(on_target_attemps.is_goal == 1)].iloc[:,[-4]].groupby('bodypart')['bodypart'].count()\n",
    "not_goal_bodypart = on_target_attemps[(on_target_attemps.is_goal == 0)].iloc[:,[-4]].groupby('bodypart')['bodypart'].count()\n",
    "goal_bodypart/not_goal_bodypart\n",
    "\n",
    "plt.figure(figsize=(20, 4))\n",
    "plt.subplot(131)\n",
    "plt.bar(bodypart, goal_bodypart.ravel(),color=(0.2,0.6,0.2,1))\n",
    "plt.xlabel('Body part goal',fontweight='bold', color = 'orange', fontsize='17')\n",
    "plt.subplot(132)\n",
    "plt.bar(bodypart, not_goal_bodypart.ravel(),color=(0.6,0.2,0.2,1))\n",
    "plt.xlabel('Body part miss',fontweight='bold', color = 'orange', fontsize='17')\n",
    "plt.subplot(133)\n",
    "plt.bar(bodypart, (goal_bodypart/not_goal_bodypart).ravel(),color=(0.2,0.2,0.6,1))\n",
    "plt.xlabel('Body part goal/miss ratio',fontweight='bold', color = 'orange', fontsize='17')\n",
    "del goal_bodypart\n",
    "del bodypart\n",
    "del not_goal_bodypart\n",
    "del on_target_attemps"
   ]
  },
  {
   "cell_type": "markdown",
   "metadata": {},
   "source": [
    "Here we compare tha attemps of goal that were on target, meaning that there was no intersection from the other teams players and the shoot went to the target. \n",
    "With this data we can conclude that most players are right foot, because is the most used foot in the dataset. Attemps with head are the less frequent, maybe because is easier to play football at ground level than do an assist for the head, however we can cleary see in the last graph that Head is the most effective bodypart when attempting to score a goal, with an effectiveness greater than 50%."
   ]
  },
  {
   "cell_type": "code",
   "execution_count": 7,
   "metadata": {
    "scrolled": true
   },
   "outputs": [],
   "source": [
    "leagues = pd.Series(['Bundesliga' , 'Premier League' , 'League 1', ' Serie A' , 'La Liga'], index=[[item for item in range(1, 6)]])\n",
    "merge = events.merge(ginf, how=\"left\");\n",
    "\n",
    "games_per_league = ginf.groupby('league')['league'].count()\n",
    "fouls_per_league = merge[(merge.event_type == 3)].groupby('league')['league'].count()\n",
    "fouls_per_game_per_league = fouls_per_league/games_per_league\n",
    "del fouls_per_league\n",
    "cards_per_league = merge[(merge.event_type == 4) |(merge.event_type == 5) | (merge.event_type == 6)].groupby('league')['league'].count()\n",
    "cards_per_game_per_league = cards_per_league/games_per_league\n",
    "del cards_per_league"
   ]
  },
  {
   "cell_type": "code",
   "execution_count": 8,
   "metadata": {
    "scrolled": false
   },
   "outputs": [
    {
     "data": {
      "image/png": "[encoded data removed]",
      "text/plain": [
       "<Figure size 432x288 with 1 Axes>"
      ]
     },
     "metadata": {
      "needs_background": "light"
     },
     "output_type": "display_data"
    }
   ],
   "source": [
    "\n",
    "x = np.arange(len(leagues))  # the label locations\n",
    "width = 0.35  # the width of the bars\n",
    "\n",
    "fig, ax = plt.subplots()\n",
    "rects1 = ax.bar(x - width/2, fouls_per_game_per_league, width , label='Fouls per game')\n",
    "rects2 = ax.bar(x + width/2, cards_per_game_per_league, width, label='Cards per game')\n",
    "\n",
    "# Add some text for labels, title and custom x-axis tick labels, etc.\n",
    "ax.set_ylabel('Frequency')\n",
    "ax.set_title('Number of cards and fouls per game per leagues')\n",
    "ax.set_xticks(x)\n",
    "ax.set_xticklabels(leagues)\n",
    "ax.legend()\n",
    "\n",
    "def autolabel(rects):\n",
    "    \"\"\"Attach a text label above each bar in *rects*, displaying its height.\"\"\"\n",
    "    for rect in rects:\n",
    "        height = round(rect.get_height(),2)\n",
    "        ax.annotate('{}'.format(height),\n",
    "                    xy=(rect.get_x() + rect.get_width() / 2, height),\n",
    "                    xytext=(0, 3),  # 3 points vertical offset\n",
    "                    textcoords=\"offset points\",\n",
    "                    ha='center', va='bottom')\n",
    "autolabel(rects1)\n",
    "autolabel(rects2)\n",
    "\n",
    "fig.tight_layout()\n",
    "\n",
    "plt.show()\n",
    "#delete\n",
    "del fouls_per_game_per_league\n",
    "del cards_per_game_per_league"
   ]
  },
  {
   "cell_type": "markdown",
   "metadata": {},
   "source": [
    "As we can see, Premier League is where less fouls happen, maybe because player avoid physical contact or the referee is less likely to mark a foul. However we can the that La Liga is the second least place where fouls happen, however is where the most cards are given."
   ]
  },
  {
   "cell_type": "code",
   "execution_count": 9,
   "metadata": {
    "scrolled": true
   },
   "outputs": [
    {
     "name": "stdout",
     "output_type": "stream",
     "text": [
      "[0 1 2 3 4]\n"
     ]
    },
    {
     "data": {
      "image/png": "[encoded data removed]",
      "text/plain": [
       "<Figure size 432x288 with 1 Axes>"
      ]
     },
     "metadata": {
      "needs_background": "light"
     },
     "output_type": "display_data"
    }
   ],
   "source": [
    "seasons = ['2012' , '2013' , '2014' , '2015' , '2016' , '2017'];\n",
    "\n",
    "upsets = ginf[((ginf.fthg > ginf.ftag) & (ginf.odd_h/ginf.odd_a > 1.8)) | ((ginf.fthg < ginf.ftag) & (ginf.odd_a/ginf.odd_h > 1.8))]\n",
    "\n",
    "upsets_both = ginf[(((ginf.fthg == 0) | (ginf.ftag == 0)) & (ginf.odd_bts_n/ginf.odd_bts > 1.2))]\n",
    "\n",
    "x = np.arange(len(leagues))  # the label locations\n",
    "print(x)\n",
    "width = 0.55  # the width of the bars\n",
    "\n",
    "fig, ax = plt.subplots()\n",
    "\n",
    "i = 0\n",
    "for season in seasons:\n",
    "    upsets_per_season_per_league = upsets[upsets.season == int(season)].groupby('league')['league'].count()\n",
    "    rects = ax.bar(x - width/2 + i*width/len(season) , upsets_per_season_per_league, width / len(season), label=season)\n",
    "    autolabel(rects)\n",
    "    i = i + 1\n",
    "    \n",
    "    \n",
    "ax.set_ylabel('Frequency')\n",
    "ax.set_title('Number of upsets per league per year')\n",
    "ax.set_xticks(x)\n",
    "ax.set_xticklabels(leagues)\n",
    "ax.legend()\n",
    "\n",
    "fig.tight_layout()\n",
    "\n",
    "plt.show()\n",
    "del upsets"
   ]
  },
  {
   "cell_type": "markdown",
   "metadata": {},
   "source": [
    "Upset is when a team is likely to lose the game, however it win, also called the 'underdog team', it also represents the unexpected wins and shows the randomness of the sport. We can see that Bundsliga is less likely to have an upset, and Premier League has the most upsets, and can be interpreted as the most fair league, where there are least differences between teams."
   ]
  },
  {
   "cell_type": "code",
   "execution_count": 10,
   "metadata": {
    "scrolled": true
   },
   "outputs": [
    {
     "data": {
      "image/png": "[encoded data removed]",
      "text/plain": [
       "<Figure size 2880x432 with 2 Axes>"
      ]
     },
     "metadata": {
      "needs_background": "light"
     },
     "output_type": "display_data"
    }
   ],
   "source": [
    "ginf_extra = ginf.copy()\n",
    "ginf_extra['dif'] = ginf_extra['fthg'] - ginf_extra['ftag']\n",
    "ginf_extra['total'] = ginf_extra['fthg'] + ginf_extra['ftag']\n",
    "\n",
    "conditions = [ginf_extra['dif'] > 0 , ginf_extra['dif'] == 0, ginf_extra['dif'] < 0]\n",
    "choices = [1 , 0 , -1]\n",
    "ginf_extra['result'] = np.select(conditions,choices,default=np.nan)\n",
    "homeResult = ginf_extra.groupby('result')['result'].count()\n",
    "\n",
    "gouls_per_league_per_game = ginf_extra[['total','league']].groupby('league')['total'].sum()/games_per_league\n",
    "\n",
    "results = ['Lose' , 'Draw' , 'Win']\n",
    "\n",
    "plt.figure(figsize=(40, 6))\n",
    "plt.subplot(131)\n",
    "plt.bar(results, homeResult.ravel(),color=(0.2,0.6,0.2,1))\n",
    "plt.xlabel('Result of the home team',fontweight='bold', color = 'orange', fontsize='17')\n",
    "plt.subplot(132)\n",
    "plt.bar(leagues, gouls_per_league_per_game.ravel(),color=(0.2,0.6,0.2,1))\n",
    "plt.xlabel('Average gouls per game',fontweight='bold', color = 'orange', fontsize='17')\n",
    "\n",
    "del ginf_extra\n",
    "del homeResult\n",
    "del gouls_per_league_per_game"
   ]
  },
  {
   "cell_type": "markdown",
   "metadata": {},
   "source": [
    "Here, on the first graph, we can see the 'home team' factor where a team is more likely to win when playing at home, and we can see the number is significantly higher.\n",
    "On the second one, we see that the average goals per game a little higher than 2.5, which is why there is interest in knowing whether a game will have 3 or more goals, or less than 3. Bundesliga has the highest goals per game, and Luague 1, the least."
   ]
  },
  {
   "cell_type": "code",
   "execution_count": 11,
   "metadata": {
    "scrolled": false
   },
   "outputs": [],
   "source": [
    "shots = events[events.event_type == 1]"
   ]
  },
  {
   "cell_type": "code",
   "execution_count": 12,
   "metadata": {
    "scrolled": false
   },
   "outputs": [],
   "source": [
    "most_offensive_player = shots.groupby('player')['player'].count().sort_values(ascending = False)[:5]\n",
    "most_scoring_player = shots[shots.is_goal == 1].groupby('player')['player'].count().where(lambda x : x>60).dropna().sort_values(ascending = False)\n",
    "most_effective_player = (most_scoring_player/most_offensive_player.dropna()).sort_values(ascending = False)[:5]\n",
    "del shots"
   ]
  },
  {
   "cell_type": "code",
   "execution_count": 13,
   "metadata": {
    "scrolled": false
   },
   "outputs": [
    {
     "data": {
      "image/png": "[encoded data removed]",
      "text/plain": [
       "<Figure size 2520x576 with 3 Axes>"
      ]
     },
     "metadata": {
      "needs_background": "light"
     },
     "output_type": "display_data"
    }
   ],
   "source": [
    "\n",
    "plt.figure(figsize=(35, 8))\n",
    "plt.subplot(131)\n",
    "plt.bar(most_offensive_player.index.values, most_offensive_player.ravel(),color=(0.2,0.6,0.2,1))\n",
    "plt.xlabel('Players with most chances',fontweight='bold', color = 'orange', fontsize='17')\n",
    "plt.subplot(132)\n",
    "plt.bar(most_scoring_player[:5].index.values, most_scoring_player[:5].ravel(),color=(0.2,0.6,0.2,1))\n",
    "plt.xlabel('Players with most goals',fontweight='bold', color = 'orange', fontsize='17')\n",
    "plt.subplot(133)\n",
    "plt.bar(most_effective_player.index.values, most_effective_player.ravel(),color=(0.2,0.6,0.2,1))\n",
    "plt.xlabel('Most effective player',fontweight='bold', color = 'orange', fontsize='17')\n",
    "\n",
    "del most_offensive_player\n",
    "del most_scoring_player\n",
    "del most_effective_player"
   ]
  },
  {
   "cell_type": "markdown",
   "metadata": {},
   "source": [
    "In here we can compare 5 offensive players with the highest stats in the offensive side. Cristiano Ronaldo is the player that had the most opportunities however in the one least sucessful in converting them into goals, in terms of ratio. Lionel Messi had less changes than Ronaldo, however scored more goals, making him the most effective player."
   ]
  },
  {
   "cell_type": "code",
   "execution_count": 14,
   "metadata": {},
   "outputs": [
    {
     "data": {
      "image/png": "[encoded data removed]",
      "text/plain": [
       "<Figure size 2520x576 with 2 Axes>"
      ]
     },
     "metadata": {
      "needs_background": "light"
     },
     "output_type": "display_data"
    }
   ],
   "source": [
    "goals = events[(events.is_goal == 1)]\n",
    "moments = goals.groupby(\"id_odsp\").first()[['time']]\n",
    "moments1 = moments.groupby(\"time\")['time'].count()\n",
    "\n",
    "plt.figure(figsize=(35, 8))\n",
    "plt.subplot(131)\n",
    "plt.bar(moments1.index.values, moments1.ravel(),color=(0.2,0.6,0.2,1))\n",
    "plt.xlabel('Minute of first goal',fontweight='bold', color = 'orange', fontsize='17')\n",
    "\n",
    "col = 'time'\n",
    "conditions = [moments[col] < 15 , moments[col] <=30 , moments[col] <=40 , moments[col] <=60 , moments[col] > 60]\n",
    "choices = [1 , 2 , 3, 4 , 5]\n",
    "moments['time_moment'] = np.select(conditions,choices,default=np.nan)\n",
    "moments = moments[['time_moment']].groupby(\"time_moment\")['time_moment'].count()\n",
    "moments\n",
    "\n",
    "plt.subplot(132)\n",
    "plt.bar(['0-14','15-30','31-40','40-60','60-90+'], moments.ravel(),color=(0.2,0.2,0.6,1))\n",
    "plt.xlabel('Moment of first goal',fontweight='bold', color = 'orange', fontsize='17')\n",
    "del moments1\n",
    "del moments"
   ]
  },
  {
   "cell_type": "markdown",
   "metadata": {},
   "source": [
    "Here we can see the minute of the first goal and to which interval it maps ('0-14','15-30','31-40','40-60','60-90+').\n",
    "The first goal is more likely in the first minutes and tends to decrease along the macth."
   ]
  },
  {
   "cell_type": "code",
   "execution_count": 15,
   "metadata": {
    "scrolled": false
   },
   "outputs": [
    {
     "data": {
      "image/png": "[encoded data removed]",
      "text/plain": [
       "<Figure size 2520x576 with 3 Axes>"
      ]
     },
     "metadata": {
      "needs_background": "light"
     },
     "output_type": "display_data"
    }
   ],
   "source": [
    "goals_minute = goals.groupby(\"time\")['time'].count()\n",
    "\n",
    "plt.figure(figsize=(35, 8))\n",
    "plt.subplot(131)\n",
    "plt.bar(goals_minute.index.values, goals_minute.ravel(),color=(0.2,0.6,0.2,1))\n",
    "plt.xlabel('Minute of goals',fontweight='bold', color = 'orange', fontsize='17')\n",
    "\n",
    "fouls = events[events.event_type == 3]\n",
    "fouls_minute = fouls.groupby(\"time\")['time'].count()\n",
    "\n",
    "plt.subplot(132)\n",
    "plt.bar(fouls_minute.index.values, fouls_minute.ravel(),color=(0.6,0.6,0.2,1))\n",
    "plt.xlabel('Minute of fouls',fontweight='bold', color = 'orange', fontsize='17')\n",
    "\n",
    "cards = events[(events.event_type == 4) | (events.event_type == 5) | (events.event_type == 6)]\n",
    "cards_minute = cards.groupby(\"time\")['time'].count()\n",
    "\n",
    "plt.subplot(133)\n",
    "plt.bar(cards_minute.index.values, cards_minute.ravel(),color=(0.6,0.2,0.2,1))\n",
    "plt.xlabel('Minute of cards',fontweight='bold', color = 'orange', fontsize='17')\n",
    "\n",
    "del fouls\n",
    "del goals_minute\n",
    "del cards_minute\n",
    "del cards\n",
    "del fouls_minute\n",
    "del goals\n",
    "del merge"
   ]
  },
  {
   "cell_type": "markdown",
   "metadata": {},
   "source": [
    "In this section we compare the minutes of the goals, fouls and cards. The spike in 45 and 90 can be explained because some goals happen in the compensation time and are not counted as 90+5 or 95, but as 90. We can see that the frequency of events tends to increased as the game procceds, but not exactly in the cards event. In the card events, there is a decrease after muinute 45. As before a card, a foul has to happen and the fouls remain as a line, whether the refeere is lees likely to give a card right after 45 or the player do not make agressive fouls that result in cards."
   ]
  },
  {
   "cell_type": "markdown",
   "metadata": {},
   "source": [
    "After an analysis over the dataset and an acknowkledge of the distribution, meaning and relations of its features has been done, the group decided to look with more detail into de following predictive problems:\n",
    "* Predict the winning team\n",
    "* Predict the moment of the first goal\n",
    "* Predict whether both teams score\n",
    "* Predict whether there will be more or less than 2.5 goals\n",
    "* Predict whether an attemp will result in a save\n",
    "\n",
    "These problems were choosen because ofthe existence of data and features alligned with the problem we are trying to build a model and predict and because of its meaning. The first 4 problems are classical betting options, where many people bet in these options. The last two problems rely on the prediction of whether an attemp will result in goal or not, also known as Expected Goals Model, or whether an attemp will result in a save or not, based in the previous model, allowing then to further data analysis about players and teams."
   ]
  },
  {
   "cell_type": "markdown",
   "metadata": {},
   "source": [
    "## 3. Problems\n",
    "\n",
    "In this section it will be discussed the approach to each of the problems mentioned previously and an evaluation of the results obtain. There is a different approach to each of these problems given that they predict different features and different data can be extracted from each problem, which will be discussed. Several models were compared in order to find the one that fits better to a given problem."
   ]
  },
  {
   "cell_type": "code",
   "execution_count": 16,
   "metadata": {},
   "outputs": [],
   "source": [
    "#import necessary libraries\n",
    "import pandas as pd\n",
    "import numpy as np\n",
    "\n",
    "from sklearn import preprocessing\n",
    "\n",
    "import sklearn\n",
    "from sklearn.pipeline import make_pipeline\n",
    "from sklearn.model_selection import GridSearchCV\n",
    "from sklearn.model_selection import train_test_split\n",
    "from sklearn.model_selection import learning_curve\n",
    "from sklearn.model_selection import ShuffleSplit\n",
    "from sklearn.linear_model import LogisticRegression\n",
    "from sklearn import tree\n",
    "from sklearn.tree import DecisionTreeClassifier\n",
    "from sklearn.ensemble import RandomForestRegressor\n",
    "from sklearn.ensemble import RandomForestClassifier\n",
    "from sklearn.neural_network import MLPClassifier\n",
    "from sklearn.neighbors import KNeighborsClassifier\n",
    "from sklearn import svm\n",
    "from sklearn.gaussian_process import GaussianProcessClassifier\n",
    "from sklearn.naive_bayes import CategoricalNB\n",
    "from sklearn.discriminant_analysis import QuadraticDiscriminantAnalysis\n",
    "\n",
    "from sklearn.metrics import average_precision_score\n",
    "from sklearn.metrics import roc_auc_score\n",
    "from sklearn.metrics import classification_report,confusion_matrix\n",
    "from sklearn.metrics import cohen_kappa_score\n",
    "from sklearn.metrics import mean_squared_error, r2_score,accuracy_score,recall_score,precision_score, f1_score"
   ]
  },
  {
   "cell_type": "code",
   "execution_count": 17,
   "metadata": {},
   "outputs": [],
   "source": [
    "#definition of useful methods\n",
    "def plot_learning_curve(estimator, title, X, y, axes=None, ylim=None, cv=None,\n",
    "                        n_jobs=None, train_sizes=np.linspace(.1, 1.0, 5)):\n",
    "    if axes is None:\n",
    "        _, axes = plt.subplots(1, 3, figsize=(20, 5))\n",
    "\n",
    "    axes[0].set_title(title)\n",
    "    if ylim is not None:\n",
    "        axes[0].set_ylim(*ylim)\n",
    "    axes[0].set_xlabel(\"Training examples\")\n",
    "    axes[0].set_ylabel(\"Score\")\n",
    "\n",
    "    train_sizes, train_scores, test_scores, fit_times, _ = \\\n",
    "        learning_curve(estimator, X, y, cv=cv, n_jobs=n_jobs,\n",
    "                       train_sizes=train_sizes,\n",
    "                       return_times=True)\n",
    "    train_scores_mean = np.mean(train_scores, axis=1)\n",
    "    train_scores_std = np.std(train_scores, axis=1)\n",
    "    test_scores_mean = np.mean(test_scores, axis=1)\n",
    "    test_scores_std = np.std(test_scores, axis=1)\n",
    "    fit_times_mean = np.mean(fit_times, axis=1)\n",
    "    fit_times_std = np.std(fit_times, axis=1)\n",
    "\n",
    "    # Plot learning curve\n",
    "    axes[0].grid()\n",
    "    axes[0].fill_between(train_sizes, train_scores_mean - train_scores_std,\n",
    "                         train_scores_mean + train_scores_std, alpha=0.1,\n",
    "                         color=\"r\")\n",
    "    axes[0].fill_between(train_sizes, test_scores_mean - test_scores_std,\n",
    "                         test_scores_mean + test_scores_std, alpha=0.1,\n",
    "                         color=\"g\")\n",
    "    axes[0].plot(train_sizes, train_scores_mean, 'o-', color=\"r\",\n",
    "                 label=\"Training score\")\n",
    "    axes[0].plot(train_sizes, test_scores_mean, 'o-', color=\"g\",\n",
    "                 label=\"Cross-validation score\")\n",
    "    axes[0].legend(loc=\"best\")\n",
    "\n",
    "    # Plot n_samples vs fit_times\n",
    "    axes[1].grid()\n",
    "    axes[1].plot(train_sizes, fit_times_mean, 'o-')\n",
    "    axes[1].fill_between(train_sizes, fit_times_mean - fit_times_std,\n",
    "                         fit_times_mean + fit_times_std, alpha=0.1)\n",
    "    axes[1].set_xlabel(\"Training examples\")\n",
    "    axes[1].set_ylabel(\"fit_times\")\n",
    "    axes[1].set_title(\"Scalability of the model\")\n",
    "\n",
    "    # Plot fit_time vs score\n",
    "    axes[2].grid()\n",
    "    axes[2].plot(fit_times_mean, test_scores_mean, 'o-')\n",
    "    axes[2].fill_between(fit_times_mean, test_scores_mean - test_scores_std,\n",
    "                         test_scores_mean + test_scores_std, alpha=0.1)\n",
    "    axes[2].set_xlabel(\"fit_times\")\n",
    "    axes[2].set_ylabel(\"Score\")\n",
    "    axes[2].set_title(\"Performance of the model\")\n",
    "\n",
    "    return plt\n",
    "\n",
    "def checkClf(name,clf):\n",
    "    clf.fit(X_train,y_train)\n",
    "    y_pred = clf.predict(X_test)\n",
    "    print(\"Model name: \" + name)\n",
    "    #print(\"R2 score: {:.4f}\".format(r2_score(y_test, y_pred)))\n",
    "    #print(\"Mean square error: {:.4f}\".format(mean_squared_error(y_test, y_pred)))\n",
    "    #print('Precision: {:.4f}'.format(precision_score(y_test, y_pred, average='micro')))\n",
    "    #print('Recall: {:.4f}'.format(recall_score(y_test, y_pred, average='micro')))\n",
    "    #print('Accuracy: {:.4f}'.format(accuracy_score(y_test, y_pred)))\n",
    "    #auc_roc = roc_auc_score(y_test, y_pred[:,1])\n",
    "    #print('Our MLP classifier obtains an AUC-ROC of {:.4f}.'.format(auc_roc))\n",
    "    print('F-measure: {:.4f}'.format(f1_score(y_test, y_pred, average='micro')))\n",
    "    print('The accuracy of classifying is {:.3f} %'.format(clf.score(X_test, y_test)*100))\n",
    "    print('Confusion Matrix:')\n",
    "    print(confusion_matrix(y_test,y_pred))\n",
    "    print('Report:')\n",
    "    print(classification_report(y_test,y_pred))\n",
    "    print(\"\\n\")"
   ]
  },
  {
   "cell_type": "markdown",
   "metadata": {},
   "source": [
    "### 3.1 Predict the winning team\n",
    "\n",
    "This problem is possibly the most known problem in any sports because it would be very valuable to know who the winner would be in a given match, whether for betting or for investimens, and so on. It is the most bet option because of its simplicity, only three simple options (Win, Draw, Lose) and meaning to thoose who bet. However it's results are very unpredictable and some would argue that they have some randomness associated, there are so many internal and external factors to take into account and even then no predictor would accurtly predict every game. A team that has won a game can, right after, in the next game, in the same stadium, against the same team, loose that game.\n",
    "\n",
    "#### Approach"
   ]
  },
  {
   "cell_type": "markdown",
   "metadata": {},
   "source": [
    "For this problem tha dataset consisted of the games played over the course of 5 years, between 2011/2012 until 2016/2017, of the five major european leagues, suming to a total of 10112 games. \n",
    "There are two necessary input features for this problem, the home team and the away team, in order to be able to predict who will win.\n",
    "The output feature will be in order to the home team, representing the result of the home team, a Win means that the home team won, a Lose means that the home team lost. For this representation the output (Win, Draw,Lose) will be transformed into (1,0,-1), because it will be usefull for future use."
   ]
  },
  {
   "cell_type": "code",
   "execution_count": 18,
   "metadata": {},
   "outputs": [
    {
     "data": {
      "text/html": [
       "<div>\n",
       "<style scoped>\n",
       "    .dataframe tbody tr th:only-of-type {\n",
       "        vertical-align: middle;\n",
       "    }\n",
       "\n",
       "    .dataframe tbody tr th {\n",
       "        vertical-align: top;\n",
       "    }\n",
       "\n",
       "    .dataframe thead th {\n",
       "        text-align: right;\n",
       "    }\n",
       "</style>\n",
       "<table border=\"1\" class=\"dataframe\">\n",
       "  <thead>\n",
       "    <tr style=\"text-align: right;\">\n",
       "      <th></th>\n",
       "      <th>ht</th>\n",
       "      <th>at</th>\n",
       "      <th>fthg</th>\n",
       "      <th>ftag</th>\n",
       "      <th>result</th>\n",
       "    </tr>\n",
       "  </thead>\n",
       "  <tbody>\n",
       "    <tr>\n",
       "      <th>0</th>\n",
       "      <td>Borussia Dortmund</td>\n",
       "      <td>Hamburg SV</td>\n",
       "      <td>3</td>\n",
       "      <td>1</td>\n",
       "      <td>1.0</td>\n",
       "    </tr>\n",
       "    <tr>\n",
       "      <th>1</th>\n",
       "      <td>FC Augsburg</td>\n",
       "      <td>SC Freiburg</td>\n",
       "      <td>2</td>\n",
       "      <td>2</td>\n",
       "      <td>0.0</td>\n",
       "    </tr>\n",
       "    <tr>\n",
       "      <th>2</th>\n",
       "      <td>Werder Bremen</td>\n",
       "      <td>Kaiserslautern</td>\n",
       "      <td>2</td>\n",
       "      <td>0</td>\n",
       "      <td>1.0</td>\n",
       "    </tr>\n",
       "    <tr>\n",
       "      <th>3</th>\n",
       "      <td>Paris Saint-Germain</td>\n",
       "      <td>Lorient</td>\n",
       "      <td>0</td>\n",
       "      <td>1</td>\n",
       "      <td>-1.0</td>\n",
       "    </tr>\n",
       "    <tr>\n",
       "      <th>4</th>\n",
       "      <td>Caen</td>\n",
       "      <td>Valenciennes</td>\n",
       "      <td>1</td>\n",
       "      <td>0</td>\n",
       "      <td>1.0</td>\n",
       "    </tr>\n",
       "  </tbody>\n",
       "</table>\n",
       "</div>"
      ],
      "text/plain": [
       "                    ht              at  fthg  ftag  result\n",
       "0    Borussia Dortmund      Hamburg SV     3     1     1.0\n",
       "1          FC Augsburg     SC Freiburg     2     2     0.0\n",
       "2        Werder Bremen  Kaiserslautern     2     0     1.0\n",
       "3  Paris Saint-Germain         Lorient     0     1    -1.0\n",
       "4                 Caen    Valenciennes     1     0     1.0"
      ]
     },
     "execution_count": 18,
     "metadata": {},
     "output_type": "execute_result"
    }
   ],
   "source": [
    "games = ginf[['ht','at','fthg','ftag']].copy()\n",
    "games['result'] = games['fthg'] - games['ftag']\n",
    "\n",
    "col = 'result'\n",
    "conditions = [games[col] > 0 , games[col] == 0, games[col] < 0]\n",
    "choices = [1 , 0 , -1]\n",
    "games['result'] = np.select(conditions,choices,default=np.nan)\n",
    "games.head()"
   ]
  },
  {
   "cell_type": "markdown",
   "metadata": {},
   "source": [
    "For an initial approach we will only take into account the home team and away team.\n",
    "As we can see the **ht** and **at** features are categorical, so we need to convert them to binary dummies."
   ]
  },
  {
   "cell_type": "code",
   "execution_count": 19,
   "metadata": {
    "scrolled": true
   },
   "outputs": [],
   "source": [
    "games = games[['ht','at','result']]\n",
    "games_dummies = pd.get_dummies(games, columns=['ht','at'])\n",
    "games_dummies.head()\n",
    "del games"
   ]
  },
  {
   "cell_type": "markdown",
   "metadata": {},
   "source": [
    "As we can see we end up to a total of 295 columns as part of the input and one for the output.\n",
    "Next we will split the data into the training one and the test one, so we can train our model."
   ]
  },
  {
   "cell_type": "code",
   "execution_count": 20,
   "metadata": {
    "scrolled": true
   },
   "outputs": [
    {
     "name": "stdout",
     "output_type": "stream",
     "text": [
      "(10112, 295)\n",
      "(10112,)\n"
     ]
    }
   ],
   "source": [
    "X = games_dummies.iloc[:,1:]\n",
    "y = games_dummies.iloc[:,:1].values.ravel()\n",
    "print(X.shape)\n",
    "print(y.shape)\n",
    "X_train, X_test, y_train, y_test = train_test_split(X, y, test_size=0.35, random_state=1,stratify=y)\n",
    "X_train\n",
    "\n",
    "del games_dummies"
   ]
  },
  {
   "cell_type": "markdown",
   "metadata": {},
   "source": [
    "For training and tunning our models we will GridSearchCV, which will conduct an exaustive search over the hiperparameters and options specified, in order to find the best that fit our data."
   ]
  },
  {
   "cell_type": "code",
   "execution_count": 21,
   "metadata": {},
   "outputs": [
    {
     "ename": "KeyboardInterrupt",
     "evalue": "",
     "output_type": "error",
     "traceback": [
      "\u001b[1;31m---------------------------------------------------------------------------\u001b[0m",
      "\u001b[1;31mKeyboardInterrupt\u001b[0m                         Traceback (most recent call last)",
      "\u001b[1;32m<ipython-input-21-a55bddd20c12>\u001b[0m in \u001b[0;36m<module>\u001b[1;34m\u001b[0m\n\u001b[0;32m     12\u001b[0m     \u001b[0mpipeline\u001b[0m \u001b[1;33m=\u001b[0m \u001b[0mmake_pipeline\u001b[0m\u001b[1;33m(\u001b[0m\u001b[0mmodel\u001b[0m\u001b[1;33m)\u001b[0m\u001b[1;33m\u001b[0m\u001b[1;33m\u001b[0m\u001b[0m\n\u001b[0;32m     13\u001b[0m     \u001b[0mclf\u001b[0m \u001b[1;33m=\u001b[0m \u001b[0mGridSearchCV\u001b[0m\u001b[1;33m(\u001b[0m\u001b[0mpipeline\u001b[0m\u001b[1;33m,\u001b[0m \u001b[0mhyper\u001b[0m\u001b[1;33m)\u001b[0m\u001b[1;33m\u001b[0m\u001b[1;33m\u001b[0m\u001b[0m\n\u001b[1;32m---> 14\u001b[1;33m     \u001b[0mclf\u001b[0m\u001b[1;33m.\u001b[0m\u001b[0mfit\u001b[0m\u001b[1;33m(\u001b[0m\u001b[0mX_train\u001b[0m\u001b[1;33m,\u001b[0m\u001b[0my_train\u001b[0m\u001b[1;33m)\u001b[0m\u001b[1;33m\u001b[0m\u001b[1;33m\u001b[0m\u001b[0m\n\u001b[0m\u001b[0;32m     15\u001b[0m     \u001b[0my_pred\u001b[0m \u001b[1;33m=\u001b[0m \u001b[0mclf\u001b[0m\u001b[1;33m.\u001b[0m\u001b[0mpredict\u001b[0m\u001b[1;33m(\u001b[0m\u001b[0mX_test\u001b[0m\u001b[1;33m)\u001b[0m\u001b[1;33m\u001b[0m\u001b[1;33m\u001b[0m\u001b[0m\n\u001b[0;32m     16\u001b[0m     \u001b[0mprint\u001b[0m\u001b[1;33m(\u001b[0m\u001b[1;34m\"Model name: \"\u001b[0m \u001b[1;33m+\u001b[0m \u001b[0mname\u001b[0m\u001b[1;33m)\u001b[0m\u001b[1;33m\u001b[0m\u001b[1;33m\u001b[0m\u001b[0m\n",
      "\u001b[1;32mc:\\users\\gustavo\\appdata\\local\\programs\\python\\python38-32\\lib\\site-packages\\sklearn\\model_selection\\_search.py\u001b[0m in \u001b[0;36mfit\u001b[1;34m(self, X, y, groups, **fit_params)\u001b[0m\n\u001b[0;32m    708\u001b[0m                 \u001b[1;32mreturn\u001b[0m \u001b[0mresults\u001b[0m\u001b[1;33m\u001b[0m\u001b[1;33m\u001b[0m\u001b[0m\n\u001b[0;32m    709\u001b[0m \u001b[1;33m\u001b[0m\u001b[0m\n\u001b[1;32m--> 710\u001b[1;33m             \u001b[0mself\u001b[0m\u001b[1;33m.\u001b[0m\u001b[0m_run_search\u001b[0m\u001b[1;33m(\u001b[0m\u001b[0mevaluate_candidates\u001b[0m\u001b[1;33m)\u001b[0m\u001b[1;33m\u001b[0m\u001b[1;33m\u001b[0m\u001b[0m\n\u001b[0m\u001b[0;32m    711\u001b[0m \u001b[1;33m\u001b[0m\u001b[0m\n\u001b[0;32m    712\u001b[0m         \u001b[1;31m# For multi-metric evaluation, store the best_index_, best_params_ and\u001b[0m\u001b[1;33m\u001b[0m\u001b[1;33m\u001b[0m\u001b[1;33m\u001b[0m\u001b[0m\n",
      "\u001b[1;32mc:\\users\\gustavo\\appdata\\local\\programs\\python\\python38-32\\lib\\site-packages\\sklearn\\model_selection\\_search.py\u001b[0m in \u001b[0;36m_run_search\u001b[1;34m(self, evaluate_candidates)\u001b[0m\n\u001b[0;32m   1149\u001b[0m     \u001b[1;32mdef\u001b[0m \u001b[0m_run_search\u001b[0m\u001b[1;33m(\u001b[0m\u001b[0mself\u001b[0m\u001b[1;33m,\u001b[0m \u001b[0mevaluate_candidates\u001b[0m\u001b[1;33m)\u001b[0m\u001b[1;33m:\u001b[0m\u001b[1;33m\u001b[0m\u001b[1;33m\u001b[0m\u001b[0m\n\u001b[0;32m   1150\u001b[0m         \u001b[1;34m\"\"\"Search all candidates in param_grid\"\"\"\u001b[0m\u001b[1;33m\u001b[0m\u001b[1;33m\u001b[0m\u001b[0m\n\u001b[1;32m-> 1151\u001b[1;33m         \u001b[0mevaluate_candidates\u001b[0m\u001b[1;33m(\u001b[0m\u001b[0mParameterGrid\u001b[0m\u001b[1;33m(\u001b[0m\u001b[0mself\u001b[0m\u001b[1;33m.\u001b[0m\u001b[0mparam_grid\u001b[0m\u001b[1;33m)\u001b[0m\u001b[1;33m)\u001b[0m\u001b[1;33m\u001b[0m\u001b[1;33m\u001b[0m\u001b[0m\n\u001b[0m\u001b[0;32m   1152\u001b[0m \u001b[1;33m\u001b[0m\u001b[0m\n\u001b[0;32m   1153\u001b[0m \u001b[1;33m\u001b[0m\u001b[0m\n",
      "\u001b[1;32mc:\\users\\gustavo\\appdata\\local\\programs\\python\\python38-32\\lib\\site-packages\\sklearn\\model_selection\\_search.py\u001b[0m in \u001b[0;36mevaluate_candidates\u001b[1;34m(candidate_params)\u001b[0m\n\u001b[0;32m    680\u001b[0m                               n_splits, n_candidates, n_candidates * n_splits))\n\u001b[0;32m    681\u001b[0m \u001b[1;33m\u001b[0m\u001b[0m\n\u001b[1;32m--> 682\u001b[1;33m                 out = parallel(delayed(_fit_and_score)(clone(base_estimator),\n\u001b[0m\u001b[0;32m    683\u001b[0m                                                        \u001b[0mX\u001b[0m\u001b[1;33m,\u001b[0m \u001b[0my\u001b[0m\u001b[1;33m,\u001b[0m\u001b[1;33m\u001b[0m\u001b[1;33m\u001b[0m\u001b[0m\n\u001b[0;32m    684\u001b[0m                                                        \u001b[0mtrain\u001b[0m\u001b[1;33m=\u001b[0m\u001b[0mtrain\u001b[0m\u001b[1;33m,\u001b[0m \u001b[0mtest\u001b[0m\u001b[1;33m=\u001b[0m\u001b[0mtest\u001b[0m\u001b[1;33m,\u001b[0m\u001b[1;33m\u001b[0m\u001b[1;33m\u001b[0m\u001b[0m\n",
      "\u001b[1;32mc:\\users\\gustavo\\appdata\\local\\programs\\python\\python38-32\\lib\\site-packages\\joblib\\parallel.py\u001b[0m in \u001b[0;36m__call__\u001b[1;34m(self, iterable)\u001b[0m\n\u001b[0;32m   1002\u001b[0m             \u001b[1;31m# remaining jobs.\u001b[0m\u001b[1;33m\u001b[0m\u001b[1;33m\u001b[0m\u001b[1;33m\u001b[0m\u001b[0m\n\u001b[0;32m   1003\u001b[0m             \u001b[0mself\u001b[0m\u001b[1;33m.\u001b[0m\u001b[0m_iterating\u001b[0m \u001b[1;33m=\u001b[0m \u001b[1;32mFalse\u001b[0m\u001b[1;33m\u001b[0m\u001b[1;33m\u001b[0m\u001b[0m\n\u001b[1;32m-> 1004\u001b[1;33m             \u001b[1;32mif\u001b[0m \u001b[0mself\u001b[0m\u001b[1;33m.\u001b[0m\u001b[0mdispatch_one_batch\u001b[0m\u001b[1;33m(\u001b[0m\u001b[0miterator\u001b[0m\u001b[1;33m)\u001b[0m\u001b[1;33m:\u001b[0m\u001b[1;33m\u001b[0m\u001b[1;33m\u001b[0m\u001b[0m\n\u001b[0m\u001b[0;32m   1005\u001b[0m                 \u001b[0mself\u001b[0m\u001b[1;33m.\u001b[0m\u001b[0m_iterating\u001b[0m \u001b[1;33m=\u001b[0m \u001b[0mself\u001b[0m\u001b[1;33m.\u001b[0m\u001b[0m_original_iterator\u001b[0m \u001b[1;32mis\u001b[0m \u001b[1;32mnot\u001b[0m \u001b[1;32mNone\u001b[0m\u001b[1;33m\u001b[0m\u001b[1;33m\u001b[0m\u001b[0m\n\u001b[0;32m   1006\u001b[0m \u001b[1;33m\u001b[0m\u001b[0m\n",
      "\u001b[1;32mc:\\users\\gustavo\\appdata\\local\\programs\\python\\python38-32\\lib\\site-packages\\joblib\\parallel.py\u001b[0m in \u001b[0;36mdispatch_one_batch\u001b[1;34m(self, iterator)\u001b[0m\n\u001b[0;32m    833\u001b[0m                 \u001b[1;32mreturn\u001b[0m \u001b[1;32mFalse\u001b[0m\u001b[1;33m\u001b[0m\u001b[1;33m\u001b[0m\u001b[0m\n\u001b[0;32m    834\u001b[0m             \u001b[1;32melse\u001b[0m\u001b[1;33m:\u001b[0m\u001b[1;33m\u001b[0m\u001b[1;33m\u001b[0m\u001b[0m\n\u001b[1;32m--> 835\u001b[1;33m                 \u001b[0mself\u001b[0m\u001b[1;33m.\u001b[0m\u001b[0m_dispatch\u001b[0m\u001b[1;33m(\u001b[0m\u001b[0mtasks\u001b[0m\u001b[1;33m)\u001b[0m\u001b[1;33m\u001b[0m\u001b[1;33m\u001b[0m\u001b[0m\n\u001b[0m\u001b[0;32m    836\u001b[0m                 \u001b[1;32mreturn\u001b[0m \u001b[1;32mTrue\u001b[0m\u001b[1;33m\u001b[0m\u001b[1;33m\u001b[0m\u001b[0m\n\u001b[0;32m    837\u001b[0m \u001b[1;33m\u001b[0m\u001b[0m\n",
      "\u001b[1;32mc:\\users\\gustavo\\appdata\\local\\programs\\python\\python38-32\\lib\\site-packages\\joblib\\parallel.py\u001b[0m in \u001b[0;36m_dispatch\u001b[1;34m(self, batch)\u001b[0m\n\u001b[0;32m    752\u001b[0m         \u001b[1;32mwith\u001b[0m \u001b[0mself\u001b[0m\u001b[1;33m.\u001b[0m\u001b[0m_lock\u001b[0m\u001b[1;33m:\u001b[0m\u001b[1;33m\u001b[0m\u001b[1;33m\u001b[0m\u001b[0m\n\u001b[0;32m    753\u001b[0m             \u001b[0mjob_idx\u001b[0m \u001b[1;33m=\u001b[0m \u001b[0mlen\u001b[0m\u001b[1;33m(\u001b[0m\u001b[0mself\u001b[0m\u001b[1;33m.\u001b[0m\u001b[0m_jobs\u001b[0m\u001b[1;33m)\u001b[0m\u001b[1;33m\u001b[0m\u001b[1;33m\u001b[0m\u001b[0m\n\u001b[1;32m--> 754\u001b[1;33m             \u001b[0mjob\u001b[0m \u001b[1;33m=\u001b[0m \u001b[0mself\u001b[0m\u001b[1;33m.\u001b[0m\u001b[0m_backend\u001b[0m\u001b[1;33m.\u001b[0m\u001b[0mapply_async\u001b[0m\u001b[1;33m(\u001b[0m\u001b[0mbatch\u001b[0m\u001b[1;33m,\u001b[0m \u001b[0mcallback\u001b[0m\u001b[1;33m=\u001b[0m\u001b[0mcb\u001b[0m\u001b[1;33m)\u001b[0m\u001b[1;33m\u001b[0m\u001b[1;33m\u001b[0m\u001b[0m\n\u001b[0m\u001b[0;32m    755\u001b[0m             \u001b[1;31m# A job can complete so quickly than its callback is\u001b[0m\u001b[1;33m\u001b[0m\u001b[1;33m\u001b[0m\u001b[1;33m\u001b[0m\u001b[0m\n\u001b[0;32m    756\u001b[0m             \u001b[1;31m# called before we get here, causing self._jobs to\u001b[0m\u001b[1;33m\u001b[0m\u001b[1;33m\u001b[0m\u001b[1;33m\u001b[0m\u001b[0m\n",
      "\u001b[1;32mc:\\users\\gustavo\\appdata\\local\\programs\\python\\python38-32\\lib\\site-packages\\joblib\\_parallel_backends.py\u001b[0m in \u001b[0;36mapply_async\u001b[1;34m(self, func, callback)\u001b[0m\n\u001b[0;32m    207\u001b[0m     \u001b[1;32mdef\u001b[0m \u001b[0mapply_async\u001b[0m\u001b[1;33m(\u001b[0m\u001b[0mself\u001b[0m\u001b[1;33m,\u001b[0m \u001b[0mfunc\u001b[0m\u001b[1;33m,\u001b[0m \u001b[0mcallback\u001b[0m\u001b[1;33m=\u001b[0m\u001b[1;32mNone\u001b[0m\u001b[1;33m)\u001b[0m\u001b[1;33m:\u001b[0m\u001b[1;33m\u001b[0m\u001b[1;33m\u001b[0m\u001b[0m\n\u001b[0;32m    208\u001b[0m         \u001b[1;34m\"\"\"Schedule a func to be run\"\"\"\u001b[0m\u001b[1;33m\u001b[0m\u001b[1;33m\u001b[0m\u001b[0m\n\u001b[1;32m--> 209\u001b[1;33m         \u001b[0mresult\u001b[0m \u001b[1;33m=\u001b[0m \u001b[0mImmediateResult\u001b[0m\u001b[1;33m(\u001b[0m\u001b[0mfunc\u001b[0m\u001b[1;33m)\u001b[0m\u001b[1;33m\u001b[0m\u001b[1;33m\u001b[0m\u001b[0m\n\u001b[0m\u001b[0;32m    210\u001b[0m         \u001b[1;32mif\u001b[0m \u001b[0mcallback\u001b[0m\u001b[1;33m:\u001b[0m\u001b[1;33m\u001b[0m\u001b[1;33m\u001b[0m\u001b[0m\n\u001b[0;32m    211\u001b[0m             \u001b[0mcallback\u001b[0m\u001b[1;33m(\u001b[0m\u001b[0mresult\u001b[0m\u001b[1;33m)\u001b[0m\u001b[1;33m\u001b[0m\u001b[1;33m\u001b[0m\u001b[0m\n",
      "\u001b[1;32mc:\\users\\gustavo\\appdata\\local\\programs\\python\\python38-32\\lib\\site-packages\\joblib\\_parallel_backends.py\u001b[0m in \u001b[0;36m__init__\u001b[1;34m(self, batch)\u001b[0m\n\u001b[0;32m    588\u001b[0m         \u001b[1;31m# Don't delay the application, to avoid keeping the input\u001b[0m\u001b[1;33m\u001b[0m\u001b[1;33m\u001b[0m\u001b[1;33m\u001b[0m\u001b[0m\n\u001b[0;32m    589\u001b[0m         \u001b[1;31m# arguments in memory\u001b[0m\u001b[1;33m\u001b[0m\u001b[1;33m\u001b[0m\u001b[1;33m\u001b[0m\u001b[0m\n\u001b[1;32m--> 590\u001b[1;33m         \u001b[0mself\u001b[0m\u001b[1;33m.\u001b[0m\u001b[0mresults\u001b[0m \u001b[1;33m=\u001b[0m \u001b[0mbatch\u001b[0m\u001b[1;33m(\u001b[0m\u001b[1;33m)\u001b[0m\u001b[1;33m\u001b[0m\u001b[1;33m\u001b[0m\u001b[0m\n\u001b[0m\u001b[0;32m    591\u001b[0m \u001b[1;33m\u001b[0m\u001b[0m\n\u001b[0;32m    592\u001b[0m     \u001b[1;32mdef\u001b[0m \u001b[0mget\u001b[0m\u001b[1;33m(\u001b[0m\u001b[0mself\u001b[0m\u001b[1;33m)\u001b[0m\u001b[1;33m:\u001b[0m\u001b[1;33m\u001b[0m\u001b[1;33m\u001b[0m\u001b[0m\n",
      "\u001b[1;32mc:\\users\\gustavo\\appdata\\local\\programs\\python\\python38-32\\lib\\site-packages\\joblib\\parallel.py\u001b[0m in \u001b[0;36m__call__\u001b[1;34m(self)\u001b[0m\n\u001b[0;32m    253\u001b[0m         \u001b[1;31m# change the default number of processes to -1\u001b[0m\u001b[1;33m\u001b[0m\u001b[1;33m\u001b[0m\u001b[1;33m\u001b[0m\u001b[0m\n\u001b[0;32m    254\u001b[0m         \u001b[1;32mwith\u001b[0m \u001b[0mparallel_backend\u001b[0m\u001b[1;33m(\u001b[0m\u001b[0mself\u001b[0m\u001b[1;33m.\u001b[0m\u001b[0m_backend\u001b[0m\u001b[1;33m,\u001b[0m \u001b[0mn_jobs\u001b[0m\u001b[1;33m=\u001b[0m\u001b[0mself\u001b[0m\u001b[1;33m.\u001b[0m\u001b[0m_n_jobs\u001b[0m\u001b[1;33m)\u001b[0m\u001b[1;33m:\u001b[0m\u001b[1;33m\u001b[0m\u001b[1;33m\u001b[0m\u001b[0m\n\u001b[1;32m--> 255\u001b[1;33m             return [func(*args, **kwargs)\n\u001b[0m\u001b[0;32m    256\u001b[0m                     for func, args, kwargs in self.items]\n\u001b[0;32m    257\u001b[0m \u001b[1;33m\u001b[0m\u001b[0m\n",
      "\u001b[1;32mc:\\users\\gustavo\\appdata\\local\\programs\\python\\python38-32\\lib\\site-packages\\joblib\\parallel.py\u001b[0m in \u001b[0;36m<listcomp>\u001b[1;34m(.0)\u001b[0m\n\u001b[0;32m    253\u001b[0m         \u001b[1;31m# change the default number of processes to -1\u001b[0m\u001b[1;33m\u001b[0m\u001b[1;33m\u001b[0m\u001b[1;33m\u001b[0m\u001b[0m\n\u001b[0;32m    254\u001b[0m         \u001b[1;32mwith\u001b[0m \u001b[0mparallel_backend\u001b[0m\u001b[1;33m(\u001b[0m\u001b[0mself\u001b[0m\u001b[1;33m.\u001b[0m\u001b[0m_backend\u001b[0m\u001b[1;33m,\u001b[0m \u001b[0mn_jobs\u001b[0m\u001b[1;33m=\u001b[0m\u001b[0mself\u001b[0m\u001b[1;33m.\u001b[0m\u001b[0m_n_jobs\u001b[0m\u001b[1;33m)\u001b[0m\u001b[1;33m:\u001b[0m\u001b[1;33m\u001b[0m\u001b[1;33m\u001b[0m\u001b[0m\n\u001b[1;32m--> 255\u001b[1;33m             return [func(*args, **kwargs)\n\u001b[0m\u001b[0;32m    256\u001b[0m                     for func, args, kwargs in self.items]\n\u001b[0;32m    257\u001b[0m \u001b[1;33m\u001b[0m\u001b[0m\n",
      "\u001b[1;32mc:\\users\\gustavo\\appdata\\local\\programs\\python\\python38-32\\lib\\site-packages\\sklearn\\model_selection\\_validation.py\u001b[0m in \u001b[0;36m_fit_and_score\u001b[1;34m(estimator, X, y, scorer, train, test, verbose, parameters, fit_params, return_train_score, return_parameters, return_n_test_samples, return_times, return_estimator, error_score)\u001b[0m\n\u001b[0;32m    542\u001b[0m     \u001b[1;32melse\u001b[0m\u001b[1;33m:\u001b[0m\u001b[1;33m\u001b[0m\u001b[1;33m\u001b[0m\u001b[0m\n\u001b[0;32m    543\u001b[0m         \u001b[0mfit_time\u001b[0m \u001b[1;33m=\u001b[0m \u001b[0mtime\u001b[0m\u001b[1;33m.\u001b[0m\u001b[0mtime\u001b[0m\u001b[1;33m(\u001b[0m\u001b[1;33m)\u001b[0m \u001b[1;33m-\u001b[0m \u001b[0mstart_time\u001b[0m\u001b[1;33m\u001b[0m\u001b[1;33m\u001b[0m\u001b[0m\n\u001b[1;32m--> 544\u001b[1;33m         \u001b[0mtest_scores\u001b[0m \u001b[1;33m=\u001b[0m \u001b[0m_score\u001b[0m\u001b[1;33m(\u001b[0m\u001b[0mestimator\u001b[0m\u001b[1;33m,\u001b[0m \u001b[0mX_test\u001b[0m\u001b[1;33m,\u001b[0m \u001b[0my_test\u001b[0m\u001b[1;33m,\u001b[0m \u001b[0mscorer\u001b[0m\u001b[1;33m)\u001b[0m\u001b[1;33m\u001b[0m\u001b[1;33m\u001b[0m\u001b[0m\n\u001b[0m\u001b[0;32m    545\u001b[0m         \u001b[0mscore_time\u001b[0m \u001b[1;33m=\u001b[0m \u001b[0mtime\u001b[0m\u001b[1;33m.\u001b[0m\u001b[0mtime\u001b[0m\u001b[1;33m(\u001b[0m\u001b[1;33m)\u001b[0m \u001b[1;33m-\u001b[0m \u001b[0mstart_time\u001b[0m \u001b[1;33m-\u001b[0m \u001b[0mfit_time\u001b[0m\u001b[1;33m\u001b[0m\u001b[1;33m\u001b[0m\u001b[0m\n\u001b[0;32m    546\u001b[0m         \u001b[1;32mif\u001b[0m \u001b[0mreturn_train_score\u001b[0m\u001b[1;33m:\u001b[0m\u001b[1;33m\u001b[0m\u001b[1;33m\u001b[0m\u001b[0m\n",
      "\u001b[1;32mc:\\users\\gustavo\\appdata\\local\\programs\\python\\python38-32\\lib\\site-packages\\sklearn\\model_selection\\_validation.py\u001b[0m in \u001b[0;36m_score\u001b[1;34m(estimator, X_test, y_test, scorer)\u001b[0m\n\u001b[0;32m    589\u001b[0m         \u001b[0mscores\u001b[0m \u001b[1;33m=\u001b[0m \u001b[0mscorer\u001b[0m\u001b[1;33m(\u001b[0m\u001b[0mestimator\u001b[0m\u001b[1;33m,\u001b[0m \u001b[0mX_test\u001b[0m\u001b[1;33m)\u001b[0m\u001b[1;33m\u001b[0m\u001b[1;33m\u001b[0m\u001b[0m\n\u001b[0;32m    590\u001b[0m     \u001b[1;32melse\u001b[0m\u001b[1;33m:\u001b[0m\u001b[1;33m\u001b[0m\u001b[1;33m\u001b[0m\u001b[0m\n\u001b[1;32m--> 591\u001b[1;33m         \u001b[0mscores\u001b[0m \u001b[1;33m=\u001b[0m \u001b[0mscorer\u001b[0m\u001b[1;33m(\u001b[0m\u001b[0mestimator\u001b[0m\u001b[1;33m,\u001b[0m \u001b[0mX_test\u001b[0m\u001b[1;33m,\u001b[0m \u001b[0my_test\u001b[0m\u001b[1;33m)\u001b[0m\u001b[1;33m\u001b[0m\u001b[1;33m\u001b[0m\u001b[0m\n\u001b[0m\u001b[0;32m    592\u001b[0m \u001b[1;33m\u001b[0m\u001b[0m\n\u001b[0;32m    593\u001b[0m     error_msg = (\"scoring must return a number, got %s (%s) \"\n",
      "\u001b[1;32mc:\\users\\gustavo\\appdata\\local\\programs\\python\\python38-32\\lib\\site-packages\\sklearn\\metrics\\_scorer.py\u001b[0m in \u001b[0;36m__call__\u001b[1;34m(self, estimator, *args, **kwargs)\u001b[0m\n\u001b[0;32m     87\u001b[0m                                       *args, **kwargs)\n\u001b[0;32m     88\u001b[0m             \u001b[1;32melse\u001b[0m\u001b[1;33m:\u001b[0m\u001b[1;33m\u001b[0m\u001b[1;33m\u001b[0m\u001b[0m\n\u001b[1;32m---> 89\u001b[1;33m                 \u001b[0mscore\u001b[0m \u001b[1;33m=\u001b[0m \u001b[0mscorer\u001b[0m\u001b[1;33m(\u001b[0m\u001b[0mestimator\u001b[0m\u001b[1;33m,\u001b[0m \u001b[1;33m*\u001b[0m\u001b[0margs\u001b[0m\u001b[1;33m,\u001b[0m \u001b[1;33m**\u001b[0m\u001b[0mkwargs\u001b[0m\u001b[1;33m)\u001b[0m\u001b[1;33m\u001b[0m\u001b[1;33m\u001b[0m\u001b[0m\n\u001b[0m\u001b[0;32m     90\u001b[0m             \u001b[0mscores\u001b[0m\u001b[1;33m[\u001b[0m\u001b[0mname\u001b[0m\u001b[1;33m]\u001b[0m \u001b[1;33m=\u001b[0m \u001b[0mscore\u001b[0m\u001b[1;33m\u001b[0m\u001b[1;33m\u001b[0m\u001b[0m\n\u001b[0;32m     91\u001b[0m         \u001b[1;32mreturn\u001b[0m \u001b[0mscores\u001b[0m\u001b[1;33m\u001b[0m\u001b[1;33m\u001b[0m\u001b[0m\n",
      "\u001b[1;32mc:\\users\\gustavo\\appdata\\local\\programs\\python\\python38-32\\lib\\site-packages\\sklearn\\metrics\\_scorer.py\u001b[0m in \u001b[0;36m_passthrough_scorer\u001b[1;34m(estimator, *args, **kwargs)\u001b[0m\n\u001b[0;32m    369\u001b[0m \u001b[1;32mdef\u001b[0m \u001b[0m_passthrough_scorer\u001b[0m\u001b[1;33m(\u001b[0m\u001b[0mestimator\u001b[0m\u001b[1;33m,\u001b[0m \u001b[1;33m*\u001b[0m\u001b[0margs\u001b[0m\u001b[1;33m,\u001b[0m \u001b[1;33m**\u001b[0m\u001b[0mkwargs\u001b[0m\u001b[1;33m)\u001b[0m\u001b[1;33m:\u001b[0m\u001b[1;33m\u001b[0m\u001b[1;33m\u001b[0m\u001b[0m\n\u001b[0;32m    370\u001b[0m     \u001b[1;34m\"\"\"Function that wraps estimator.score\"\"\"\u001b[0m\u001b[1;33m\u001b[0m\u001b[1;33m\u001b[0m\u001b[0m\n\u001b[1;32m--> 371\u001b[1;33m     \u001b[1;32mreturn\u001b[0m \u001b[0mestimator\u001b[0m\u001b[1;33m.\u001b[0m\u001b[0mscore\u001b[0m\u001b[1;33m(\u001b[0m\u001b[1;33m*\u001b[0m\u001b[0margs\u001b[0m\u001b[1;33m,\u001b[0m \u001b[1;33m**\u001b[0m\u001b[0mkwargs\u001b[0m\u001b[1;33m)\u001b[0m\u001b[1;33m\u001b[0m\u001b[1;33m\u001b[0m\u001b[0m\n\u001b[0m\u001b[0;32m    372\u001b[0m \u001b[1;33m\u001b[0m\u001b[0m\n\u001b[0;32m    373\u001b[0m \u001b[1;33m\u001b[0m\u001b[0m\n",
      "\u001b[1;32mc:\\users\\gustavo\\appdata\\local\\programs\\python\\python38-32\\lib\\site-packages\\sklearn\\utils\\metaestimators.py\u001b[0m in \u001b[0;36m<lambda>\u001b[1;34m(*args, **kwargs)\u001b[0m\n\u001b[0;32m    114\u001b[0m \u001b[1;33m\u001b[0m\u001b[0m\n\u001b[0;32m    115\u001b[0m         \u001b[1;31m# lambda, but not partial, allows help() to work with update_wrapper\u001b[0m\u001b[1;33m\u001b[0m\u001b[1;33m\u001b[0m\u001b[1;33m\u001b[0m\u001b[0m\n\u001b[1;32m--> 116\u001b[1;33m         \u001b[0mout\u001b[0m \u001b[1;33m=\u001b[0m \u001b[1;32mlambda\u001b[0m \u001b[1;33m*\u001b[0m\u001b[0margs\u001b[0m\u001b[1;33m,\u001b[0m \u001b[1;33m**\u001b[0m\u001b[0mkwargs\u001b[0m\u001b[1;33m:\u001b[0m \u001b[0mself\u001b[0m\u001b[1;33m.\u001b[0m\u001b[0mfn\u001b[0m\u001b[1;33m(\u001b[0m\u001b[0mobj\u001b[0m\u001b[1;33m,\u001b[0m \u001b[1;33m*\u001b[0m\u001b[0margs\u001b[0m\u001b[1;33m,\u001b[0m \u001b[1;33m**\u001b[0m\u001b[0mkwargs\u001b[0m\u001b[1;33m)\u001b[0m\u001b[1;33m\u001b[0m\u001b[1;33m\u001b[0m\u001b[0m\n\u001b[0m\u001b[0;32m    117\u001b[0m         \u001b[1;31m# update the docstring of the returned function\u001b[0m\u001b[1;33m\u001b[0m\u001b[1;33m\u001b[0m\u001b[1;33m\u001b[0m\u001b[0m\n\u001b[0;32m    118\u001b[0m         \u001b[0mupdate_wrapper\u001b[0m\u001b[1;33m(\u001b[0m\u001b[0mout\u001b[0m\u001b[1;33m,\u001b[0m \u001b[0mself\u001b[0m\u001b[1;33m.\u001b[0m\u001b[0mfn\u001b[0m\u001b[1;33m)\u001b[0m\u001b[1;33m\u001b[0m\u001b[1;33m\u001b[0m\u001b[0m\n",
      "\u001b[1;32mc:\\users\\gustavo\\appdata\\local\\programs\\python\\python38-32\\lib\\site-packages\\sklearn\\pipeline.py\u001b[0m in \u001b[0;36mscore\u001b[1;34m(self, X, y, sample_weight)\u001b[0m\n\u001b[0;32m    617\u001b[0m         \u001b[1;32mif\u001b[0m \u001b[0msample_weight\u001b[0m \u001b[1;32mis\u001b[0m \u001b[1;32mnot\u001b[0m \u001b[1;32mNone\u001b[0m\u001b[1;33m:\u001b[0m\u001b[1;33m\u001b[0m\u001b[1;33m\u001b[0m\u001b[0m\n\u001b[0;32m    618\u001b[0m             \u001b[0mscore_params\u001b[0m\u001b[1;33m[\u001b[0m\u001b[1;34m'sample_weight'\u001b[0m\u001b[1;33m]\u001b[0m \u001b[1;33m=\u001b[0m \u001b[0msample_weight\u001b[0m\u001b[1;33m\u001b[0m\u001b[1;33m\u001b[0m\u001b[0m\n\u001b[1;32m--> 619\u001b[1;33m         \u001b[1;32mreturn\u001b[0m \u001b[0mself\u001b[0m\u001b[1;33m.\u001b[0m\u001b[0msteps\u001b[0m\u001b[1;33m[\u001b[0m\u001b[1;33m-\u001b[0m\u001b[1;36m1\u001b[0m\u001b[1;33m]\u001b[0m\u001b[1;33m[\u001b[0m\u001b[1;33m-\u001b[0m\u001b[1;36m1\u001b[0m\u001b[1;33m]\u001b[0m\u001b[1;33m.\u001b[0m\u001b[0mscore\u001b[0m\u001b[1;33m(\u001b[0m\u001b[0mXt\u001b[0m\u001b[1;33m,\u001b[0m \u001b[0my\u001b[0m\u001b[1;33m,\u001b[0m \u001b[1;33m**\u001b[0m\u001b[0mscore_params\u001b[0m\u001b[1;33m)\u001b[0m\u001b[1;33m\u001b[0m\u001b[1;33m\u001b[0m\u001b[0m\n\u001b[0m\u001b[0;32m    620\u001b[0m \u001b[1;33m\u001b[0m\u001b[0m\n\u001b[0;32m    621\u001b[0m     \u001b[1;33m@\u001b[0m\u001b[0mproperty\u001b[0m\u001b[1;33m\u001b[0m\u001b[1;33m\u001b[0m\u001b[0m\n",
      "\u001b[1;32mc:\\users\\gustavo\\appdata\\local\\programs\\python\\python38-32\\lib\\site-packages\\sklearn\\base.py\u001b[0m in \u001b[0;36mscore\u001b[1;34m(self, X, y, sample_weight)\u001b[0m\n\u001b[0;32m    367\u001b[0m         \"\"\"\n\u001b[0;32m    368\u001b[0m         \u001b[1;32mfrom\u001b[0m \u001b[1;33m.\u001b[0m\u001b[0mmetrics\u001b[0m \u001b[1;32mimport\u001b[0m \u001b[0maccuracy_score\u001b[0m\u001b[1;33m\u001b[0m\u001b[1;33m\u001b[0m\u001b[0m\n\u001b[1;32m--> 369\u001b[1;33m         \u001b[1;32mreturn\u001b[0m \u001b[0maccuracy_score\u001b[0m\u001b[1;33m(\u001b[0m\u001b[0my\u001b[0m\u001b[1;33m,\u001b[0m \u001b[0mself\u001b[0m\u001b[1;33m.\u001b[0m\u001b[0mpredict\u001b[0m\u001b[1;33m(\u001b[0m\u001b[0mX\u001b[0m\u001b[1;33m)\u001b[0m\u001b[1;33m,\u001b[0m \u001b[0msample_weight\u001b[0m\u001b[1;33m=\u001b[0m\u001b[0msample_weight\u001b[0m\u001b[1;33m)\u001b[0m\u001b[1;33m\u001b[0m\u001b[1;33m\u001b[0m\u001b[0m\n\u001b[0m\u001b[0;32m    370\u001b[0m \u001b[1;33m\u001b[0m\u001b[0m\n\u001b[0;32m    371\u001b[0m \u001b[1;33m\u001b[0m\u001b[0m\n",
      "\u001b[1;32mc:\\users\\gustavo\\appdata\\local\\programs\\python\\python38-32\\lib\\site-packages\\sklearn\\neighbors\\_classification.py\u001b[0m in \u001b[0;36mpredict\u001b[1;34m(self, X)\u001b[0m\n\u001b[0;32m    171\u001b[0m         \u001b[0mX\u001b[0m \u001b[1;33m=\u001b[0m \u001b[0mcheck_array\u001b[0m\u001b[1;33m(\u001b[0m\u001b[0mX\u001b[0m\u001b[1;33m,\u001b[0m \u001b[0maccept_sparse\u001b[0m\u001b[1;33m=\u001b[0m\u001b[1;34m'csr'\u001b[0m\u001b[1;33m)\u001b[0m\u001b[1;33m\u001b[0m\u001b[1;33m\u001b[0m\u001b[0m\n\u001b[0;32m    172\u001b[0m \u001b[1;33m\u001b[0m\u001b[0m\n\u001b[1;32m--> 173\u001b[1;33m         \u001b[0mneigh_dist\u001b[0m\u001b[1;33m,\u001b[0m \u001b[0mneigh_ind\u001b[0m \u001b[1;33m=\u001b[0m \u001b[0mself\u001b[0m\u001b[1;33m.\u001b[0m\u001b[0mkneighbors\u001b[0m\u001b[1;33m(\u001b[0m\u001b[0mX\u001b[0m\u001b[1;33m)\u001b[0m\u001b[1;33m\u001b[0m\u001b[1;33m\u001b[0m\u001b[0m\n\u001b[0m\u001b[0;32m    174\u001b[0m         \u001b[0mclasses_\u001b[0m \u001b[1;33m=\u001b[0m \u001b[0mself\u001b[0m\u001b[1;33m.\u001b[0m\u001b[0mclasses_\u001b[0m\u001b[1;33m\u001b[0m\u001b[1;33m\u001b[0m\u001b[0m\n\u001b[0;32m    175\u001b[0m         \u001b[0m_y\u001b[0m \u001b[1;33m=\u001b[0m \u001b[0mself\u001b[0m\u001b[1;33m.\u001b[0m\u001b[0m_y\u001b[0m\u001b[1;33m\u001b[0m\u001b[1;33m\u001b[0m\u001b[0m\n",
      "\u001b[1;32mc:\\users\\gustavo\\appdata\\local\\programs\\python\\python38-32\\lib\\site-packages\\sklearn\\neighbors\\_base.py\u001b[0m in \u001b[0;36mkneighbors\u001b[1;34m(self, X, n_neighbors, return_distance)\u001b[0m\n\u001b[0;32m    659\u001b[0m                 \u001b[0mdelayed_query\u001b[0m \u001b[1;33m=\u001b[0m \u001b[0mdelayed\u001b[0m\u001b[1;33m(\u001b[0m\u001b[0m_tree_query_parallel_helper\u001b[0m\u001b[1;33m)\u001b[0m\u001b[1;33m\u001b[0m\u001b[1;33m\u001b[0m\u001b[0m\n\u001b[0;32m    660\u001b[0m                 \u001b[0mparallel_kwargs\u001b[0m \u001b[1;33m=\u001b[0m \u001b[1;33m{\u001b[0m\u001b[1;34m\"prefer\"\u001b[0m\u001b[1;33m:\u001b[0m \u001b[1;34m\"threads\"\u001b[0m\u001b[1;33m}\u001b[0m\u001b[1;33m\u001b[0m\u001b[1;33m\u001b[0m\u001b[0m\n\u001b[1;32m--> 661\u001b[1;33m             chunked_results = Parallel(n_jobs, **parallel_kwargs)(\n\u001b[0m\u001b[0;32m    662\u001b[0m                 delayed_query(\n\u001b[0;32m    663\u001b[0m                     self._tree, X[s], n_neighbors, return_distance)\n",
      "\u001b[1;32mc:\\users\\gustavo\\appdata\\local\\programs\\python\\python38-32\\lib\\site-packages\\joblib\\parallel.py\u001b[0m in \u001b[0;36m__call__\u001b[1;34m(self, iterable)\u001b[0m\n\u001b[0;32m   1002\u001b[0m             \u001b[1;31m# remaining jobs.\u001b[0m\u001b[1;33m\u001b[0m\u001b[1;33m\u001b[0m\u001b[1;33m\u001b[0m\u001b[0m\n\u001b[0;32m   1003\u001b[0m             \u001b[0mself\u001b[0m\u001b[1;33m.\u001b[0m\u001b[0m_iterating\u001b[0m \u001b[1;33m=\u001b[0m \u001b[1;32mFalse\u001b[0m\u001b[1;33m\u001b[0m\u001b[1;33m\u001b[0m\u001b[0m\n\u001b[1;32m-> 1004\u001b[1;33m             \u001b[1;32mif\u001b[0m \u001b[0mself\u001b[0m\u001b[1;33m.\u001b[0m\u001b[0mdispatch_one_batch\u001b[0m\u001b[1;33m(\u001b[0m\u001b[0miterator\u001b[0m\u001b[1;33m)\u001b[0m\u001b[1;33m:\u001b[0m\u001b[1;33m\u001b[0m\u001b[1;33m\u001b[0m\u001b[0m\n\u001b[0m\u001b[0;32m   1005\u001b[0m                 \u001b[0mself\u001b[0m\u001b[1;33m.\u001b[0m\u001b[0m_iterating\u001b[0m \u001b[1;33m=\u001b[0m \u001b[0mself\u001b[0m\u001b[1;33m.\u001b[0m\u001b[0m_original_iterator\u001b[0m \u001b[1;32mis\u001b[0m \u001b[1;32mnot\u001b[0m \u001b[1;32mNone\u001b[0m\u001b[1;33m\u001b[0m\u001b[1;33m\u001b[0m\u001b[0m\n\u001b[0;32m   1006\u001b[0m \u001b[1;33m\u001b[0m\u001b[0m\n",
      "\u001b[1;32mc:\\users\\gustavo\\appdata\\local\\programs\\python\\python38-32\\lib\\site-packages\\joblib\\parallel.py\u001b[0m in \u001b[0;36mdispatch_one_batch\u001b[1;34m(self, iterator)\u001b[0m\n\u001b[0;32m    833\u001b[0m                 \u001b[1;32mreturn\u001b[0m \u001b[1;32mFalse\u001b[0m\u001b[1;33m\u001b[0m\u001b[1;33m\u001b[0m\u001b[0m\n\u001b[0;32m    834\u001b[0m             \u001b[1;32melse\u001b[0m\u001b[1;33m:\u001b[0m\u001b[1;33m\u001b[0m\u001b[1;33m\u001b[0m\u001b[0m\n\u001b[1;32m--> 835\u001b[1;33m                 \u001b[0mself\u001b[0m\u001b[1;33m.\u001b[0m\u001b[0m_dispatch\u001b[0m\u001b[1;33m(\u001b[0m\u001b[0mtasks\u001b[0m\u001b[1;33m)\u001b[0m\u001b[1;33m\u001b[0m\u001b[1;33m\u001b[0m\u001b[0m\n\u001b[0m\u001b[0;32m    836\u001b[0m                 \u001b[1;32mreturn\u001b[0m \u001b[1;32mTrue\u001b[0m\u001b[1;33m\u001b[0m\u001b[1;33m\u001b[0m\u001b[0m\n\u001b[0;32m    837\u001b[0m \u001b[1;33m\u001b[0m\u001b[0m\n",
      "\u001b[1;32mc:\\users\\gustavo\\appdata\\local\\programs\\python\\python38-32\\lib\\site-packages\\joblib\\parallel.py\u001b[0m in \u001b[0;36m_dispatch\u001b[1;34m(self, batch)\u001b[0m\n\u001b[0;32m    752\u001b[0m         \u001b[1;32mwith\u001b[0m \u001b[0mself\u001b[0m\u001b[1;33m.\u001b[0m\u001b[0m_lock\u001b[0m\u001b[1;33m:\u001b[0m\u001b[1;33m\u001b[0m\u001b[1;33m\u001b[0m\u001b[0m\n\u001b[0;32m    753\u001b[0m             \u001b[0mjob_idx\u001b[0m \u001b[1;33m=\u001b[0m \u001b[0mlen\u001b[0m\u001b[1;33m(\u001b[0m\u001b[0mself\u001b[0m\u001b[1;33m.\u001b[0m\u001b[0m_jobs\u001b[0m\u001b[1;33m)\u001b[0m\u001b[1;33m\u001b[0m\u001b[1;33m\u001b[0m\u001b[0m\n\u001b[1;32m--> 754\u001b[1;33m             \u001b[0mjob\u001b[0m \u001b[1;33m=\u001b[0m \u001b[0mself\u001b[0m\u001b[1;33m.\u001b[0m\u001b[0m_backend\u001b[0m\u001b[1;33m.\u001b[0m\u001b[0mapply_async\u001b[0m\u001b[1;33m(\u001b[0m\u001b[0mbatch\u001b[0m\u001b[1;33m,\u001b[0m \u001b[0mcallback\u001b[0m\u001b[1;33m=\u001b[0m\u001b[0mcb\u001b[0m\u001b[1;33m)\u001b[0m\u001b[1;33m\u001b[0m\u001b[1;33m\u001b[0m\u001b[0m\n\u001b[0m\u001b[0;32m    755\u001b[0m             \u001b[1;31m# A job can complete so quickly than its callback is\u001b[0m\u001b[1;33m\u001b[0m\u001b[1;33m\u001b[0m\u001b[1;33m\u001b[0m\u001b[0m\n\u001b[0;32m    756\u001b[0m             \u001b[1;31m# called before we get here, causing self._jobs to\u001b[0m\u001b[1;33m\u001b[0m\u001b[1;33m\u001b[0m\u001b[1;33m\u001b[0m\u001b[0m\n",
      "\u001b[1;32mc:\\users\\gustavo\\appdata\\local\\programs\\python\\python38-32\\lib\\site-packages\\joblib\\_parallel_backends.py\u001b[0m in \u001b[0;36mapply_async\u001b[1;34m(self, func, callback)\u001b[0m\n\u001b[0;32m    207\u001b[0m     \u001b[1;32mdef\u001b[0m \u001b[0mapply_async\u001b[0m\u001b[1;33m(\u001b[0m\u001b[0mself\u001b[0m\u001b[1;33m,\u001b[0m \u001b[0mfunc\u001b[0m\u001b[1;33m,\u001b[0m \u001b[0mcallback\u001b[0m\u001b[1;33m=\u001b[0m\u001b[1;32mNone\u001b[0m\u001b[1;33m)\u001b[0m\u001b[1;33m:\u001b[0m\u001b[1;33m\u001b[0m\u001b[1;33m\u001b[0m\u001b[0m\n\u001b[0;32m    208\u001b[0m         \u001b[1;34m\"\"\"Schedule a func to be run\"\"\"\u001b[0m\u001b[1;33m\u001b[0m\u001b[1;33m\u001b[0m\u001b[0m\n\u001b[1;32m--> 209\u001b[1;33m         \u001b[0mresult\u001b[0m \u001b[1;33m=\u001b[0m \u001b[0mImmediateResult\u001b[0m\u001b[1;33m(\u001b[0m\u001b[0mfunc\u001b[0m\u001b[1;33m)\u001b[0m\u001b[1;33m\u001b[0m\u001b[1;33m\u001b[0m\u001b[0m\n\u001b[0m\u001b[0;32m    210\u001b[0m         \u001b[1;32mif\u001b[0m \u001b[0mcallback\u001b[0m\u001b[1;33m:\u001b[0m\u001b[1;33m\u001b[0m\u001b[1;33m\u001b[0m\u001b[0m\n\u001b[0;32m    211\u001b[0m             \u001b[0mcallback\u001b[0m\u001b[1;33m(\u001b[0m\u001b[0mresult\u001b[0m\u001b[1;33m)\u001b[0m\u001b[1;33m\u001b[0m\u001b[1;33m\u001b[0m\u001b[0m\n",
      "\u001b[1;32mc:\\users\\gustavo\\appdata\\local\\programs\\python\\python38-32\\lib\\site-packages\\joblib\\_parallel_backends.py\u001b[0m in \u001b[0;36m__init__\u001b[1;34m(self, batch)\u001b[0m\n\u001b[0;32m    588\u001b[0m         \u001b[1;31m# Don't delay the application, to avoid keeping the input\u001b[0m\u001b[1;33m\u001b[0m\u001b[1;33m\u001b[0m\u001b[1;33m\u001b[0m\u001b[0m\n\u001b[0;32m    589\u001b[0m         \u001b[1;31m# arguments in memory\u001b[0m\u001b[1;33m\u001b[0m\u001b[1;33m\u001b[0m\u001b[1;33m\u001b[0m\u001b[0m\n\u001b[1;32m--> 590\u001b[1;33m         \u001b[0mself\u001b[0m\u001b[1;33m.\u001b[0m\u001b[0mresults\u001b[0m \u001b[1;33m=\u001b[0m \u001b[0mbatch\u001b[0m\u001b[1;33m(\u001b[0m\u001b[1;33m)\u001b[0m\u001b[1;33m\u001b[0m\u001b[1;33m\u001b[0m\u001b[0m\n\u001b[0m\u001b[0;32m    591\u001b[0m \u001b[1;33m\u001b[0m\u001b[0m\n\u001b[0;32m    592\u001b[0m     \u001b[1;32mdef\u001b[0m \u001b[0mget\u001b[0m\u001b[1;33m(\u001b[0m\u001b[0mself\u001b[0m\u001b[1;33m)\u001b[0m\u001b[1;33m:\u001b[0m\u001b[1;33m\u001b[0m\u001b[1;33m\u001b[0m\u001b[0m\n",
      "\u001b[1;32mc:\\users\\gustavo\\appdata\\local\\programs\\python\\python38-32\\lib\\site-packages\\joblib\\parallel.py\u001b[0m in \u001b[0;36m__call__\u001b[1;34m(self)\u001b[0m\n\u001b[0;32m    253\u001b[0m         \u001b[1;31m# change the default number of processes to -1\u001b[0m\u001b[1;33m\u001b[0m\u001b[1;33m\u001b[0m\u001b[1;33m\u001b[0m\u001b[0m\n\u001b[0;32m    254\u001b[0m         \u001b[1;32mwith\u001b[0m \u001b[0mparallel_backend\u001b[0m\u001b[1;33m(\u001b[0m\u001b[0mself\u001b[0m\u001b[1;33m.\u001b[0m\u001b[0m_backend\u001b[0m\u001b[1;33m,\u001b[0m \u001b[0mn_jobs\u001b[0m\u001b[1;33m=\u001b[0m\u001b[0mself\u001b[0m\u001b[1;33m.\u001b[0m\u001b[0m_n_jobs\u001b[0m\u001b[1;33m)\u001b[0m\u001b[1;33m:\u001b[0m\u001b[1;33m\u001b[0m\u001b[1;33m\u001b[0m\u001b[0m\n\u001b[1;32m--> 255\u001b[1;33m             return [func(*args, **kwargs)\n\u001b[0m\u001b[0;32m    256\u001b[0m                     for func, args, kwargs in self.items]\n\u001b[0;32m    257\u001b[0m \u001b[1;33m\u001b[0m\u001b[0m\n",
      "\u001b[1;32mc:\\users\\gustavo\\appdata\\local\\programs\\python\\python38-32\\lib\\site-packages\\joblib\\parallel.py\u001b[0m in \u001b[0;36m<listcomp>\u001b[1;34m(.0)\u001b[0m\n\u001b[0;32m    253\u001b[0m         \u001b[1;31m# change the default number of processes to -1\u001b[0m\u001b[1;33m\u001b[0m\u001b[1;33m\u001b[0m\u001b[1;33m\u001b[0m\u001b[0m\n\u001b[0;32m    254\u001b[0m         \u001b[1;32mwith\u001b[0m \u001b[0mparallel_backend\u001b[0m\u001b[1;33m(\u001b[0m\u001b[0mself\u001b[0m\u001b[1;33m.\u001b[0m\u001b[0m_backend\u001b[0m\u001b[1;33m,\u001b[0m \u001b[0mn_jobs\u001b[0m\u001b[1;33m=\u001b[0m\u001b[0mself\u001b[0m\u001b[1;33m.\u001b[0m\u001b[0m_n_jobs\u001b[0m\u001b[1;33m)\u001b[0m\u001b[1;33m:\u001b[0m\u001b[1;33m\u001b[0m\u001b[1;33m\u001b[0m\u001b[0m\n\u001b[1;32m--> 255\u001b[1;33m             return [func(*args, **kwargs)\n\u001b[0m\u001b[0;32m    256\u001b[0m                     for func, args, kwargs in self.items]\n\u001b[0;32m    257\u001b[0m \u001b[1;33m\u001b[0m\u001b[0m\n",
      "\u001b[1;32mc:\\users\\gustavo\\appdata\\local\\programs\\python\\python38-32\\lib\\site-packages\\sklearn\\neighbors\\_base.py\u001b[0m in \u001b[0;36m_tree_query_parallel_helper\u001b[1;34m(tree, *args, **kwargs)\u001b[0m\n\u001b[0;32m    489\u001b[0m     \u001b[0munder\u001b[0m \u001b[0mPyPy\u001b[0m\u001b[1;33m.\u001b[0m\u001b[1;33m\u001b[0m\u001b[1;33m\u001b[0m\u001b[0m\n\u001b[0;32m    490\u001b[0m     \"\"\"\n\u001b[1;32m--> 491\u001b[1;33m     \u001b[1;32mreturn\u001b[0m \u001b[0mtree\u001b[0m\u001b[1;33m.\u001b[0m\u001b[0mquery\u001b[0m\u001b[1;33m(\u001b[0m\u001b[1;33m*\u001b[0m\u001b[0margs\u001b[0m\u001b[1;33m,\u001b[0m \u001b[1;33m**\u001b[0m\u001b[0mkwargs\u001b[0m\u001b[1;33m)\u001b[0m\u001b[1;33m\u001b[0m\u001b[1;33m\u001b[0m\u001b[0m\n\u001b[0m\u001b[0;32m    492\u001b[0m \u001b[1;33m\u001b[0m\u001b[0m\n\u001b[0;32m    493\u001b[0m \u001b[1;33m\u001b[0m\u001b[0m\n",
      "\u001b[1;31mKeyboardInterrupt\u001b[0m: "
     ]
    }
   ],
   "source": [
    "models = []\n",
    "\n",
    "KNNhyperparameters = {'kneighborsclassifier__n_neighbors' : [41,81, 101]}\n",
    "SVMhyperparameters = {'svc__kernel' : ['linear','rbf']}\n",
    "MLPhyperparameters = {'mlpclassifier__solver' : ['adam','sgd'] , 'mlpclassifier__hidden_layer_sizes' : [(30,20,3) , (5,5,5,5,5)]}\n",
    "\n",
    "models.append(('KNN' , KNeighborsClassifier(), KNNhyperparameters))\n",
    "models.append(('SVC' , svm.SVC(), SVMhyperparameters))\n",
    "models.append(('MLP' , MLPClassifier(max_iter = 1000) , MLPhyperparameters ))\n",
    "\n",
    "for name, model, hyper in models:\n",
    "    pipeline = make_pipeline(model)\n",
    "    clf = GridSearchCV(pipeline, hyper)\n",
    "    clf.fit(X_train,y_train)\n",
    "    y_pred = clf.predict(X_test)\n",
    "    print(\"Model name: \" + name)\n",
    "    print(\"R2 score: {:.4f}\".format(r2_score(y_test, y_pred)))\n",
    "    print(\"Mean square error: {:.4f}\".format(mean_squared_error(y_test, y_pred)))\n",
    "    #print('Precision: {:.4f}'.format(precision_score(y_test, y_pred, average='micro')))\n",
    "    #print('Recall: {:.4f}'.format(recall_score(y_test, y_pred, average='micro')))\n",
    "    #print('Accuracy: {:.4f}'.format(accuracy_score(y_test, y_pred)))\n",
    "    print('F-measure: {:.4f}'.format(f1_score(y_test, y_pred, average='micro')))\n",
    "    print('The accuracy of classifying is {:.3f} %'.format(clf.score(X_test, y_test)*100))\n",
    "    print(\"\\n\")\n",
    "    \n",
    "del models"
   ]
  },
  {
   "cell_type": "markdown",
   "metadata": {},
   "source": [
    "The KNN model had the best accuracy, however it is not worth to dig into details because as we can see the previous data has very little features, only the teams that were playing against each other, so maybe with more input data our model can understand the data better and thus make better predictions. One important feature to join is the season, almost any team keeps its formation from 2011/2012 until 2016/2017, there player trades, the player improve or decline and even the coach changes, so adding the season can lead to result improvements. Furthermore, we have acess to the odds for each possible outcome before each match, odds take into account external factors that we don't have access, so it might be profitable to include that into our data set. We also include de performance of each team, suming the total of results (1 for win, 0 for draw and -1 for lo) in the sort term and long term at home and away (3 and 10 games respectively)"
   ]
  },
  {
   "cell_type": "code",
   "execution_count": 83,
   "metadata": {},
   "outputs": [
    {
     "name": "stdout",
     "output_type": "stream",
     "text": [
      "(10112, 161)\n",
      "(10112,)\n"
     ]
    },
    {
     "data": {
      "text/html": [
       "<div>\n",
       "<style scoped>\n",
       "    .dataframe tbody tr th:only-of-type {\n",
       "        vertical-align: middle;\n",
       "    }\n",
       "\n",
       "    .dataframe tbody tr th {\n",
       "        vertical-align: top;\n",
       "    }\n",
       "\n",
       "    .dataframe thead th {\n",
       "        text-align: right;\n",
       "    }\n",
       "</style>\n",
       "<table border=\"1\" class=\"dataframe\">\n",
       "  <thead>\n",
       "    <tr style=\"text-align: right;\">\n",
       "      <th></th>\n",
       "      <th>Borussia Dortmund</th>\n",
       "      <th>Hamburg SV</th>\n",
       "      <th>2012</th>\n",
       "      <th>form1_long</th>\n",
       "      <th>form1_short</th>\n",
       "      <th>form2_long</th>\n",
       "      <th>form2_short</th>\n",
       "      <th>odd_a</th>\n",
       "      <th>odd_d</th>\n",
       "      <th>odd_h</th>\n",
       "      <th>...</th>\n",
       "      <th>FC Ingolstadt 04</th>\n",
       "      <th>Las Palmas</th>\n",
       "      <th>Frosinone</th>\n",
       "      <th>Carpi</th>\n",
       "      <th>2017</th>\n",
       "      <th>Middlesbrough</th>\n",
       "      <th>Alaves</th>\n",
       "      <th>Crotone</th>\n",
       "      <th>Leganes</th>\n",
       "      <th>RB Leipzig</th>\n",
       "    </tr>\n",
       "  </thead>\n",
       "  <tbody>\n",
       "    <tr>\n",
       "      <th>4786</th>\n",
       "      <td>0.0</td>\n",
       "      <td>0.0</td>\n",
       "      <td>0.0</td>\n",
       "      <td>10.0</td>\n",
       "      <td>3.0</td>\n",
       "      <td>4.0</td>\n",
       "      <td>1.0</td>\n",
       "      <td>3.40</td>\n",
       "      <td>3.40</td>\n",
       "      <td>2.49</td>\n",
       "      <td>...</td>\n",
       "      <td>0.0</td>\n",
       "      <td>0.0</td>\n",
       "      <td>0.0</td>\n",
       "      <td>0.0</td>\n",
       "      <td>0.0</td>\n",
       "      <td>0.0</td>\n",
       "      <td>0.0</td>\n",
       "      <td>0.0</td>\n",
       "      <td>0.0</td>\n",
       "      <td>0.0</td>\n",
       "    </tr>\n",
       "    <tr>\n",
       "      <th>4916</th>\n",
       "      <td>0.0</td>\n",
       "      <td>0.0</td>\n",
       "      <td>0.0</td>\n",
       "      <td>1.0</td>\n",
       "      <td>-1.0</td>\n",
       "      <td>-6.0</td>\n",
       "      <td>-2.0</td>\n",
       "      <td>4.22</td>\n",
       "      <td>3.50</td>\n",
       "      <td>2.12</td>\n",
       "      <td>...</td>\n",
       "      <td>0.0</td>\n",
       "      <td>0.0</td>\n",
       "      <td>0.0</td>\n",
       "      <td>0.0</td>\n",
       "      <td>0.0</td>\n",
       "      <td>0.0</td>\n",
       "      <td>0.0</td>\n",
       "      <td>0.0</td>\n",
       "      <td>0.0</td>\n",
       "      <td>0.0</td>\n",
       "    </tr>\n",
       "    <tr>\n",
       "      <th>239</th>\n",
       "      <td>0.0</td>\n",
       "      <td>0.0</td>\n",
       "      <td>1.0</td>\n",
       "      <td>-1.0</td>\n",
       "      <td>-1.0</td>\n",
       "      <td>4.0</td>\n",
       "      <td>4.0</td>\n",
       "      <td>2.24</td>\n",
       "      <td>3.25</td>\n",
       "      <td>4.09</td>\n",
       "      <td>...</td>\n",
       "      <td>0.0</td>\n",
       "      <td>0.0</td>\n",
       "      <td>0.0</td>\n",
       "      <td>0.0</td>\n",
       "      <td>0.0</td>\n",
       "      <td>0.0</td>\n",
       "      <td>0.0</td>\n",
       "      <td>0.0</td>\n",
       "      <td>0.0</td>\n",
       "      <td>0.0</td>\n",
       "    </tr>\n",
       "    <tr>\n",
       "      <th>5152</th>\n",
       "      <td>0.0</td>\n",
       "      <td>1.0</td>\n",
       "      <td>0.0</td>\n",
       "      <td>-7.0</td>\n",
       "      <td>-2.0</td>\n",
       "      <td>-1.0</td>\n",
       "      <td>-2.0</td>\n",
       "      <td>2.25</td>\n",
       "      <td>3.95</td>\n",
       "      <td>3.55</td>\n",
       "      <td>...</td>\n",
       "      <td>0.0</td>\n",
       "      <td>0.0</td>\n",
       "      <td>0.0</td>\n",
       "      <td>0.0</td>\n",
       "      <td>0.0</td>\n",
       "      <td>0.0</td>\n",
       "      <td>0.0</td>\n",
       "      <td>0.0</td>\n",
       "      <td>0.0</td>\n",
       "      <td>0.0</td>\n",
       "    </tr>\n",
       "    <tr>\n",
       "      <th>5204</th>\n",
       "      <td>0.0</td>\n",
       "      <td>0.0</td>\n",
       "      <td>0.0</td>\n",
       "      <td>5.0</td>\n",
       "      <td>4.0</td>\n",
       "      <td>-4.0</td>\n",
       "      <td>-1.0</td>\n",
       "      <td>6.90</td>\n",
       "      <td>4.10</td>\n",
       "      <td>1.66</td>\n",
       "      <td>...</td>\n",
       "      <td>0.0</td>\n",
       "      <td>0.0</td>\n",
       "      <td>0.0</td>\n",
       "      <td>0.0</td>\n",
       "      <td>0.0</td>\n",
       "      <td>0.0</td>\n",
       "      <td>0.0</td>\n",
       "      <td>0.0</td>\n",
       "      <td>0.0</td>\n",
       "      <td>0.0</td>\n",
       "    </tr>\n",
       "    <tr>\n",
       "      <th>...</th>\n",
       "      <td>...</td>\n",
       "      <td>...</td>\n",
       "      <td>...</td>\n",
       "      <td>...</td>\n",
       "      <td>...</td>\n",
       "      <td>...</td>\n",
       "      <td>...</td>\n",
       "      <td>...</td>\n",
       "      <td>...</td>\n",
       "      <td>...</td>\n",
       "      <td>...</td>\n",
       "      <td>...</td>\n",
       "      <td>...</td>\n",
       "      <td>...</td>\n",
       "      <td>...</td>\n",
       "      <td>...</td>\n",
       "      <td>...</td>\n",
       "      <td>...</td>\n",
       "      <td>...</td>\n",
       "      <td>...</td>\n",
       "      <td>...</td>\n",
       "    </tr>\n",
       "    <tr>\n",
       "      <th>4218</th>\n",
       "      <td>0.0</td>\n",
       "      <td>-1.0</td>\n",
       "      <td>0.0</td>\n",
       "      <td>11.0</td>\n",
       "      <td>3.0</td>\n",
       "      <td>-4.0</td>\n",
       "      <td>0.0</td>\n",
       "      <td>5.70</td>\n",
       "      <td>4.40</td>\n",
       "      <td>1.70</td>\n",
       "      <td>...</td>\n",
       "      <td>0.0</td>\n",
       "      <td>0.0</td>\n",
       "      <td>0.0</td>\n",
       "      <td>0.0</td>\n",
       "      <td>0.0</td>\n",
       "      <td>0.0</td>\n",
       "      <td>0.0</td>\n",
       "      <td>0.0</td>\n",
       "      <td>0.0</td>\n",
       "      <td>0.0</td>\n",
       "    </tr>\n",
       "    <tr>\n",
       "      <th>7535</th>\n",
       "      <td>0.0</td>\n",
       "      <td>0.0</td>\n",
       "      <td>0.0</td>\n",
       "      <td>-4.0</td>\n",
       "      <td>1.0</td>\n",
       "      <td>6.0</td>\n",
       "      <td>2.0</td>\n",
       "      <td>2.52</td>\n",
       "      <td>3.42</td>\n",
       "      <td>3.50</td>\n",
       "      <td>...</td>\n",
       "      <td>0.0</td>\n",
       "      <td>0.0</td>\n",
       "      <td>0.0</td>\n",
       "      <td>0.0</td>\n",
       "      <td>0.0</td>\n",
       "      <td>0.0</td>\n",
       "      <td>0.0</td>\n",
       "      <td>0.0</td>\n",
       "      <td>0.0</td>\n",
       "      <td>0.0</td>\n",
       "    </tr>\n",
       "    <tr>\n",
       "      <th>6043</th>\n",
       "      <td>0.0</td>\n",
       "      <td>0.0</td>\n",
       "      <td>0.0</td>\n",
       "      <td>-4.0</td>\n",
       "      <td>-4.0</td>\n",
       "      <td>-5.0</td>\n",
       "      <td>-3.0</td>\n",
       "      <td>5.10</td>\n",
       "      <td>3.48</td>\n",
       "      <td>2.00</td>\n",
       "      <td>...</td>\n",
       "      <td>0.0</td>\n",
       "      <td>0.0</td>\n",
       "      <td>0.0</td>\n",
       "      <td>0.0</td>\n",
       "      <td>0.0</td>\n",
       "      <td>0.0</td>\n",
       "      <td>0.0</td>\n",
       "      <td>0.0</td>\n",
       "      <td>0.0</td>\n",
       "      <td>0.0</td>\n",
       "    </tr>\n",
       "    <tr>\n",
       "      <th>7408</th>\n",
       "      <td>0.0</td>\n",
       "      <td>0.0</td>\n",
       "      <td>0.0</td>\n",
       "      <td>-1.0</td>\n",
       "      <td>-2.0</td>\n",
       "      <td>-7.0</td>\n",
       "      <td>1.0</td>\n",
       "      <td>4.25</td>\n",
       "      <td>3.65</td>\n",
       "      <td>2.08</td>\n",
       "      <td>...</td>\n",
       "      <td>0.0</td>\n",
       "      <td>0.0</td>\n",
       "      <td>0.0</td>\n",
       "      <td>0.0</td>\n",
       "      <td>0.0</td>\n",
       "      <td>0.0</td>\n",
       "      <td>0.0</td>\n",
       "      <td>0.0</td>\n",
       "      <td>0.0</td>\n",
       "      <td>0.0</td>\n",
       "    </tr>\n",
       "    <tr>\n",
       "      <th>9004</th>\n",
       "      <td>0.0</td>\n",
       "      <td>0.0</td>\n",
       "      <td>0.0</td>\n",
       "      <td>-6.0</td>\n",
       "      <td>-1.0</td>\n",
       "      <td>1.0</td>\n",
       "      <td>3.0</td>\n",
       "      <td>6.40</td>\n",
       "      <td>4.40</td>\n",
       "      <td>1.68</td>\n",
       "      <td>...</td>\n",
       "      <td>0.0</td>\n",
       "      <td>-1.0</td>\n",
       "      <td>0.0</td>\n",
       "      <td>0.0</td>\n",
       "      <td>0.0</td>\n",
       "      <td>0.0</td>\n",
       "      <td>0.0</td>\n",
       "      <td>0.0</td>\n",
       "      <td>0.0</td>\n",
       "      <td>0.0</td>\n",
       "    </tr>\n",
       "  </tbody>\n",
       "</table>\n",
       "<p>6572 rows × 161 columns</p>\n",
       "</div>"
      ],
      "text/plain": [
       "      Borussia Dortmund  Hamburg SV  2012  form1_long  form1_short  \\\n",
       "4786                0.0         0.0   0.0        10.0          3.0   \n",
       "4916                0.0         0.0   0.0         1.0         -1.0   \n",
       "239                 0.0         0.0   1.0        -1.0         -1.0   \n",
       "5152                0.0         1.0   0.0        -7.0         -2.0   \n",
       "5204                0.0         0.0   0.0         5.0          4.0   \n",
       "...                 ...         ...   ...         ...          ...   \n",
       "4218                0.0        -1.0   0.0        11.0          3.0   \n",
       "7535                0.0         0.0   0.0        -4.0          1.0   \n",
       "6043                0.0         0.0   0.0        -4.0         -4.0   \n",
       "7408                0.0         0.0   0.0        -1.0         -2.0   \n",
       "9004                0.0         0.0   0.0        -6.0         -1.0   \n",
       "\n",
       "      form2_long  form2_short  odd_a  odd_d  odd_h  ...  FC Ingolstadt 04  \\\n",
       "4786         4.0          1.0   3.40   3.40   2.49  ...               0.0   \n",
       "4916        -6.0         -2.0   4.22   3.50   2.12  ...               0.0   \n",
       "239          4.0          4.0   2.24   3.25   4.09  ...               0.0   \n",
       "5152        -1.0         -2.0   2.25   3.95   3.55  ...               0.0   \n",
       "5204        -4.0         -1.0   6.90   4.10   1.66  ...               0.0   \n",
       "...          ...          ...    ...    ...    ...  ...               ...   \n",
       "4218        -4.0          0.0   5.70   4.40   1.70  ...               0.0   \n",
       "7535         6.0          2.0   2.52   3.42   3.50  ...               0.0   \n",
       "6043        -5.0         -3.0   5.10   3.48   2.00  ...               0.0   \n",
       "7408        -7.0          1.0   4.25   3.65   2.08  ...               0.0   \n",
       "9004         1.0          3.0   6.40   4.40   1.68  ...               0.0   \n",
       "\n",
       "      Las Palmas  Frosinone  Carpi  2017  Middlesbrough  Alaves  Crotone  \\\n",
       "4786         0.0        0.0    0.0   0.0            0.0     0.0      0.0   \n",
       "4916         0.0        0.0    0.0   0.0            0.0     0.0      0.0   \n",
       "239          0.0        0.0    0.0   0.0            0.0     0.0      0.0   \n",
       "5152         0.0        0.0    0.0   0.0            0.0     0.0      0.0   \n",
       "5204         0.0        0.0    0.0   0.0            0.0     0.0      0.0   \n",
       "...          ...        ...    ...   ...            ...     ...      ...   \n",
       "4218         0.0        0.0    0.0   0.0            0.0     0.0      0.0   \n",
       "7535         0.0        0.0    0.0   0.0            0.0     0.0      0.0   \n",
       "6043         0.0        0.0    0.0   0.0            0.0     0.0      0.0   \n",
       "7408         0.0        0.0    0.0   0.0            0.0     0.0      0.0   \n",
       "9004        -1.0        0.0    0.0   0.0            0.0     0.0      0.0   \n",
       "\n",
       "      Leganes  RB Leipzig  \n",
       "4786      0.0         0.0  \n",
       "4916      0.0         0.0  \n",
       "239       0.0         0.0  \n",
       "5152      0.0         0.0  \n",
       "5204      0.0         0.0  \n",
       "...       ...         ...  \n",
       "4218      0.0         0.0  \n",
       "7535      0.0         0.0  \n",
       "6043      0.0         0.0  \n",
       "7408      0.0         0.0  \n",
       "9004      0.0         0.0  \n",
       "\n",
       "[6572 rows x 161 columns]"
      ]
     },
     "execution_count": 83,
     "metadata": {},
     "output_type": "execute_result"
    }
   ],
   "source": [
    "games_2 = ginf[['date','ht','at','fthg','ftag','season','odd_h','odd_d','odd_a']].copy()\n",
    "games_2['result'] = games_2['fthg'] - games_2['ftag']\n",
    "\n",
    "col = 'result'\n",
    "conditions = [games_2[col] > 0 , games_2[col] == 0, games_2[col] < 0]\n",
    "choices = [1 , 0 , -1]\n",
    "games_2['result'] = np.select(conditions,choices,default=np.nan)\n",
    "\n",
    "games_2['form1_short'] = games_2.apply (lambda row: \n",
    "                                      games_2[( ( (games_2['ht'] == row['ht']))\n",
    "                                                 & (games_2['date'] < row['date']))].iloc[-3:]['result'].sum()\n",
    "                                      -\n",
    "                                      games_2[( ( (games_2['at'] == row['ht']))\n",
    "                                                 & (games_2['date'] < row['date']))].iloc[-3:]['result'].sum()\n",
    "                                      , axis=1)\n",
    "games_2['form2_short'] = games_2.apply (lambda row: \n",
    "                                      -games_2[( ( (games_2['at'] == row['at']))\n",
    "                                                 & (games_2['date'] < row['date']))].iloc[-3:]['result'].sum()\n",
    "                                      +\n",
    "                                      games_2[( ( (games_2['ht'] == row['at']))\n",
    "                                                 & (games_2['date'] < row['date']))].iloc[-3:]['result'].sum()\n",
    "                                      , axis=1)\n",
    "games_2['form1_long'] = games_2.apply (lambda row: \n",
    "                                      games_2[( ( (games_2['ht'] == row['ht']))\n",
    "                                                 & (games_2['date'] < row['date']))].iloc[-10:]['result'].sum()\n",
    "                                      -\n",
    "                                      games_2[( ( (games_2['at'] == row['ht']))\n",
    "                                                 & (games_2['date'] < row['date']))].iloc[-10:]['result'].sum()\n",
    "                                      , axis=1)\n",
    "games_2['form2_long'] = games_2.apply (lambda row: \n",
    "                                      -games_2[( ( (games_2['at'] == row['at']))\n",
    "                                                 & (games_2['date'] < row['date']))].iloc[-10:]['result'].sum()\n",
    "                                      +\n",
    "                                      games_2[( ( (games_2['ht'] == row['at']))\n",
    "                                                 & (games_2['date'] < row['date']))].iloc[-10:]['result'].sum()\n",
    "                                      , axis=1)\n",
    "\n",
    "games_dummies_2 = pd.DataFrame();\n",
    "games_dummies_2['result'] = 0\n",
    "for i, j in games_2.iterrows(): \n",
    "    if j['ht'] not in games_dummies_2.columns:\n",
    "        games_dummies_2[j['ht']] = 0\n",
    "    if j['at'] not in games_dummies_2.columns:\n",
    "        games_dummies_2[j['at']] = 0\n",
    "    if j['season'] not in games_dummies_2.columns:\n",
    "        games_dummies_2[j['season']] = 0\n",
    "    games_dummies_2 = games_dummies_2.append({'result': j['result'], j['season']: 1, j['ht'] : 1 , \n",
    "                        j['at']: -1, 'form1_short' : j['form1_short'],'form2_short' : j['form2_short']\n",
    "                       , 'form1_long' : j['form1_long'],'form2_long' : j['form2_long']\n",
    "                       ,'odd_h' : j['odd_h'], 'odd_d' : j['odd_d'] , 'odd_a' : j['odd_a']}, ignore_index=True)\n",
    "\n",
    "\n",
    "games_dummies_2 = games_dummies_2.replace(np.nan, 0)\n",
    "\n",
    "#games_2 = games_2[['ht','at','result','season','odd_h','odd_d','odd_a','form1_short','form2_short','form1_long','form2_long']]\n",
    "#games_dummies_2 = pd.get_dummies(games_2, columns=['ht','at'])\n",
    "X = games_dummies_2.iloc[:,1:]\n",
    "y = games_dummies_2.iloc[:,:1].values.ravel()\n",
    "print(X.shape)\n",
    "print(y.shape)\n",
    "X_train, X_test, y_train, y_test = train_test_split(X, y, test_size=0.35, random_state=1,stratify=y)\n",
    "y\n",
    "\n",
    "del games_dummies_2\n",
    "del games_2\n",
    "X_train"
   ]
  },
  {
   "cell_type": "code",
   "execution_count": null,
   "metadata": {},
   "outputs": [],
   "source": [
    "models = []\n",
    "\n",
    "KNNhyperparameters = {'kneighborsclassifier__n_neighbors' : [41,81, 101]}\n",
    "SVMhyperparameters = {'svc__kernel' : ['linear','rbf']}\n",
    "MLPhyperparameters = {'mlpclassifier__solver' : ['adam','sgd'] , 'mlpclassifier__hidden_layer_sizes' : [(30,20,3) , (5,5,5,5,5)]}\n",
    "\n",
    "models.append(('KNN' , KNeighborsClassifier(), KNNhyperparameters))\n",
    "models.append(('SVC' , svm.SVC(), SVMhyperparameters))\n",
    "models.append(('MLP' , MLPClassifier(max_iter = 800) , MLPhyperparameters ))\n",
    "\n",
    "for name, model, hyper in models:\n",
    "    pipeline = make_pipeline(model)\n",
    "    clf = GridSearchCV(pipeline, hyper)\n",
    "    clf.fit(X_train,y_train)\n",
    "    y_pred = clf.predict(X_test)\n",
    "    print(\"Model name: \" + name)\n",
    "    print(\"R2 score: {:.4f}\".format(r2_score(y_test, y_pred)))\n",
    "    print(\"Mean square error: {:.4f}\".format(mean_squared_error(y_test, y_pred)))\n",
    "    print('Precision: {:.4f}'.format(precision_score(y_test, y_pred, average='micro')))\n",
    "    print('Recall: {:.4f}'.format(recall_score(y_test, y_pred, average='micro')))\n",
    "    print('Accuracy: {:.4f}'.format(accuracy_score(y_test, y_pred)))\n",
    "    print('F-measure: {:.4f}'.format(f1_score(y_test, y_pred, average='micro')))\n",
    "    print('The accuracy of classifying is {:.3f} %'.format(clf.score(X_test, y_test)*100))\n",
    "    print('Confusion Matrix:')\n",
    "    print(confusion_matrix(y_test,y_pred))\n",
    "    print('Report:')\n",
    "    print(classification_report(y_test,y_pred))\n",
    "    print(clf.best_params_)\n",
    "    print(\"\\n\")\n",
    "\n",
    "del models"
   ]
  },
  {
   "cell_type": "markdown",
   "metadata": {},
   "source": [
    "For this next step, even though the Neural Network had a better accuracy it tent to overfit ignoring the least frequent output (draw), and had worse R2 and and square error. So we will choose the Suport Vector Machine and the KNeighbors for further comparision."
   ]
  },
  {
   "cell_type": "code",
   "execution_count": 90,
   "metadata": {
    "scrolled": true
   },
   "outputs": [
    {
     "ename": "KeyboardInterrupt",
     "evalue": "",
     "output_type": "error",
     "traceback": [
      "\u001b[1;31m---------------------------------------------------------------------------\u001b[0m",
      "\u001b[1;31mKeyboardInterrupt\u001b[0m                         Traceback (most recent call last)",
      "\u001b[1;32m<ipython-input-90-82285d7ac343>\u001b[0m in \u001b[0;36m<module>\u001b[1;34m\u001b[0m\n\u001b[0;32m      8\u001b[0m \u001b[1;33m\u001b[0m\u001b[0m\n\u001b[0;32m      9\u001b[0m \u001b[0mestimator1\u001b[0m \u001b[1;33m=\u001b[0m \u001b[0mKNeighborsClassifier\u001b[0m\u001b[1;33m(\u001b[0m\u001b[0mn_neighbors\u001b[0m \u001b[1;33m=\u001b[0m \u001b[1;36m101\u001b[0m\u001b[1;33m)\u001b[0m\u001b[1;33m\u001b[0m\u001b[1;33m\u001b[0m\u001b[0m\n\u001b[1;32m---> 10\u001b[1;33m plot_learning_curve(estimator1, title, X, y, axes=axes[:, 0], ylim=(0.3, 0.7),\n\u001b[0m\u001b[0;32m     11\u001b[0m                     cv=cv, n_jobs=4)\n\u001b[0;32m     12\u001b[0m \u001b[1;33m\u001b[0m\u001b[0m\n",
      "\u001b[1;32m<ipython-input-17-852247fa039f>\u001b[0m in \u001b[0;36mplot_learning_curve\u001b[1;34m(estimator, title, X, y, axes, ylim, cv, n_jobs, train_sizes)\u001b[0m\n\u001b[0;32m     12\u001b[0m \u001b[1;33m\u001b[0m\u001b[0m\n\u001b[0;32m     13\u001b[0m     \u001b[0mtrain_sizes\u001b[0m\u001b[1;33m,\u001b[0m \u001b[0mtrain_scores\u001b[0m\u001b[1;33m,\u001b[0m \u001b[0mtest_scores\u001b[0m\u001b[1;33m,\u001b[0m \u001b[0mfit_times\u001b[0m\u001b[1;33m,\u001b[0m \u001b[0m_\u001b[0m \u001b[1;33m=\u001b[0m\u001b[0;31m \u001b[0m\u001b[0;31m\\\u001b[0m\u001b[1;33m\u001b[0m\u001b[1;33m\u001b[0m\u001b[0m\n\u001b[1;32m---> 14\u001b[1;33m         learning_curve(estimator, X, y, cv=cv, n_jobs=n_jobs,\n\u001b[0m\u001b[0;32m     15\u001b[0m                        \u001b[0mtrain_sizes\u001b[0m\u001b[1;33m=\u001b[0m\u001b[0mtrain_sizes\u001b[0m\u001b[1;33m,\u001b[0m\u001b[1;33m\u001b[0m\u001b[1;33m\u001b[0m\u001b[0m\n\u001b[0;32m     16\u001b[0m                        return_times=True)\n",
      "\u001b[1;32mc:\\users\\gustavo\\appdata\\local\\programs\\python\\python38-32\\lib\\site-packages\\sklearn\\model_selection\\_validation.py\u001b[0m in \u001b[0;36mlearning_curve\u001b[1;34m(estimator, X, y, groups, train_sizes, cv, scoring, exploit_incremental_learning, n_jobs, pre_dispatch, verbose, shuffle, random_state, error_score, return_times)\u001b[0m\n\u001b[0;32m   1250\u001b[0m                 \u001b[0mtrain_test_proportions\u001b[0m\u001b[1;33m.\u001b[0m\u001b[0mappend\u001b[0m\u001b[1;33m(\u001b[0m\u001b[1;33m(\u001b[0m\u001b[0mtrain\u001b[0m\u001b[1;33m[\u001b[0m\u001b[1;33m:\u001b[0m\u001b[0mn_train_samples\u001b[0m\u001b[1;33m]\u001b[0m\u001b[1;33m,\u001b[0m \u001b[0mtest\u001b[0m\u001b[1;33m)\u001b[0m\u001b[1;33m)\u001b[0m\u001b[1;33m\u001b[0m\u001b[1;33m\u001b[0m\u001b[0m\n\u001b[0;32m   1251\u001b[0m \u001b[1;33m\u001b[0m\u001b[0m\n\u001b[1;32m-> 1252\u001b[1;33m         out = parallel(delayed(_fit_and_score)(\n\u001b[0m\u001b[0;32m   1253\u001b[0m             \u001b[0mclone\u001b[0m\u001b[1;33m(\u001b[0m\u001b[0mestimator\u001b[0m\u001b[1;33m)\u001b[0m\u001b[1;33m,\u001b[0m \u001b[0mX\u001b[0m\u001b[1;33m,\u001b[0m \u001b[0my\u001b[0m\u001b[1;33m,\u001b[0m \u001b[0mscorer\u001b[0m\u001b[1;33m,\u001b[0m \u001b[0mtrain\u001b[0m\u001b[1;33m,\u001b[0m \u001b[0mtest\u001b[0m\u001b[1;33m,\u001b[0m \u001b[0mverbose\u001b[0m\u001b[1;33m,\u001b[0m\u001b[1;33m\u001b[0m\u001b[1;33m\u001b[0m\u001b[0m\n\u001b[0;32m   1254\u001b[0m             \u001b[0mparameters\u001b[0m\u001b[1;33m=\u001b[0m\u001b[1;32mNone\u001b[0m\u001b[1;33m,\u001b[0m \u001b[0mfit_params\u001b[0m\u001b[1;33m=\u001b[0m\u001b[1;32mNone\u001b[0m\u001b[1;33m,\u001b[0m \u001b[0mreturn_train_score\u001b[0m\u001b[1;33m=\u001b[0m\u001b[1;32mTrue\u001b[0m\u001b[1;33m,\u001b[0m\u001b[1;33m\u001b[0m\u001b[1;33m\u001b[0m\u001b[0m\n",
      "\u001b[1;32mc:\\users\\gustavo\\appdata\\local\\programs\\python\\python38-32\\lib\\site-packages\\joblib\\parallel.py\u001b[0m in \u001b[0;36m__call__\u001b[1;34m(self, iterable)\u001b[0m\n\u001b[0;32m   1015\u001b[0m \u001b[1;33m\u001b[0m\u001b[0m\n\u001b[0;32m   1016\u001b[0m             \u001b[1;32mwith\u001b[0m \u001b[0mself\u001b[0m\u001b[1;33m.\u001b[0m\u001b[0m_backend\u001b[0m\u001b[1;33m.\u001b[0m\u001b[0mretrieval_context\u001b[0m\u001b[1;33m(\u001b[0m\u001b[1;33m)\u001b[0m\u001b[1;33m:\u001b[0m\u001b[1;33m\u001b[0m\u001b[1;33m\u001b[0m\u001b[0m\n\u001b[1;32m-> 1017\u001b[1;33m                 \u001b[0mself\u001b[0m\u001b[1;33m.\u001b[0m\u001b[0mretrieve\u001b[0m\u001b[1;33m(\u001b[0m\u001b[1;33m)\u001b[0m\u001b[1;33m\u001b[0m\u001b[1;33m\u001b[0m\u001b[0m\n\u001b[0m\u001b[0;32m   1018\u001b[0m             \u001b[1;31m# Make sure that we get a last message telling us we are done\u001b[0m\u001b[1;33m\u001b[0m\u001b[1;33m\u001b[0m\u001b[1;33m\u001b[0m\u001b[0m\n\u001b[0;32m   1019\u001b[0m             \u001b[0melapsed_time\u001b[0m \u001b[1;33m=\u001b[0m \u001b[0mtime\u001b[0m\u001b[1;33m.\u001b[0m\u001b[0mtime\u001b[0m\u001b[1;33m(\u001b[0m\u001b[1;33m)\u001b[0m \u001b[1;33m-\u001b[0m \u001b[0mself\u001b[0m\u001b[1;33m.\u001b[0m\u001b[0m_start_time\u001b[0m\u001b[1;33m\u001b[0m\u001b[1;33m\u001b[0m\u001b[0m\n",
      "\u001b[1;32mc:\\users\\gustavo\\appdata\\local\\programs\\python\\python38-32\\lib\\site-packages\\joblib\\parallel.py\u001b[0m in \u001b[0;36mretrieve\u001b[1;34m(self)\u001b[0m\n\u001b[0;32m    907\u001b[0m             \u001b[1;32mtry\u001b[0m\u001b[1;33m:\u001b[0m\u001b[1;33m\u001b[0m\u001b[1;33m\u001b[0m\u001b[0m\n\u001b[0;32m    908\u001b[0m                 \u001b[1;32mif\u001b[0m \u001b[0mgetattr\u001b[0m\u001b[1;33m(\u001b[0m\u001b[0mself\u001b[0m\u001b[1;33m.\u001b[0m\u001b[0m_backend\u001b[0m\u001b[1;33m,\u001b[0m \u001b[1;34m'supports_timeout'\u001b[0m\u001b[1;33m,\u001b[0m \u001b[1;32mFalse\u001b[0m\u001b[1;33m)\u001b[0m\u001b[1;33m:\u001b[0m\u001b[1;33m\u001b[0m\u001b[1;33m\u001b[0m\u001b[0m\n\u001b[1;32m--> 909\u001b[1;33m                     \u001b[0mself\u001b[0m\u001b[1;33m.\u001b[0m\u001b[0m_output\u001b[0m\u001b[1;33m.\u001b[0m\u001b[0mextend\u001b[0m\u001b[1;33m(\u001b[0m\u001b[0mjob\u001b[0m\u001b[1;33m.\u001b[0m\u001b[0mget\u001b[0m\u001b[1;33m(\u001b[0m\u001b[0mtimeout\u001b[0m\u001b[1;33m=\u001b[0m\u001b[0mself\u001b[0m\u001b[1;33m.\u001b[0m\u001b[0mtimeout\u001b[0m\u001b[1;33m)\u001b[0m\u001b[1;33m)\u001b[0m\u001b[1;33m\u001b[0m\u001b[1;33m\u001b[0m\u001b[0m\n\u001b[0m\u001b[0;32m    910\u001b[0m                 \u001b[1;32melse\u001b[0m\u001b[1;33m:\u001b[0m\u001b[1;33m\u001b[0m\u001b[1;33m\u001b[0m\u001b[0m\n\u001b[0;32m    911\u001b[0m                     \u001b[0mself\u001b[0m\u001b[1;33m.\u001b[0m\u001b[0m_output\u001b[0m\u001b[1;33m.\u001b[0m\u001b[0mextend\u001b[0m\u001b[1;33m(\u001b[0m\u001b[0mjob\u001b[0m\u001b[1;33m.\u001b[0m\u001b[0mget\u001b[0m\u001b[1;33m(\u001b[0m\u001b[1;33m)\u001b[0m\u001b[1;33m)\u001b[0m\u001b[1;33m\u001b[0m\u001b[1;33m\u001b[0m\u001b[0m\n",
      "\u001b[1;32mc:\\users\\gustavo\\appdata\\local\\programs\\python\\python38-32\\lib\\site-packages\\joblib\\_parallel_backends.py\u001b[0m in \u001b[0;36mwrap_future_result\u001b[1;34m(future, timeout)\u001b[0m\n\u001b[0;32m    560\u001b[0m         AsyncResults.get from multiprocessing.\"\"\"\n\u001b[0;32m    561\u001b[0m         \u001b[1;32mtry\u001b[0m\u001b[1;33m:\u001b[0m\u001b[1;33m\u001b[0m\u001b[1;33m\u001b[0m\u001b[0m\n\u001b[1;32m--> 562\u001b[1;33m             \u001b[1;32mreturn\u001b[0m \u001b[0mfuture\u001b[0m\u001b[1;33m.\u001b[0m\u001b[0mresult\u001b[0m\u001b[1;33m(\u001b[0m\u001b[0mtimeout\u001b[0m\u001b[1;33m=\u001b[0m\u001b[0mtimeout\u001b[0m\u001b[1;33m)\u001b[0m\u001b[1;33m\u001b[0m\u001b[1;33m\u001b[0m\u001b[0m\n\u001b[0m\u001b[0;32m    563\u001b[0m         \u001b[1;32mexcept\u001b[0m \u001b[0mLokyTimeoutError\u001b[0m\u001b[1;33m:\u001b[0m\u001b[1;33m\u001b[0m\u001b[1;33m\u001b[0m\u001b[0m\n\u001b[0;32m    564\u001b[0m             \u001b[1;32mraise\u001b[0m \u001b[0mTimeoutError\u001b[0m\u001b[1;33m(\u001b[0m\u001b[1;33m)\u001b[0m\u001b[1;33m\u001b[0m\u001b[1;33m\u001b[0m\u001b[0m\n",
      "\u001b[1;32mc:\\users\\gustavo\\appdata\\local\\programs\\python\\python38-32\\lib\\concurrent\\futures\\_base.py\u001b[0m in \u001b[0;36mresult\u001b[1;34m(self, timeout)\u001b[0m\n\u001b[0;32m    432\u001b[0m                 \u001b[1;32mreturn\u001b[0m \u001b[0mself\u001b[0m\u001b[1;33m.\u001b[0m\u001b[0m__get_result\u001b[0m\u001b[1;33m(\u001b[0m\u001b[1;33m)\u001b[0m\u001b[1;33m\u001b[0m\u001b[1;33m\u001b[0m\u001b[0m\n\u001b[0;32m    433\u001b[0m \u001b[1;33m\u001b[0m\u001b[0m\n\u001b[1;32m--> 434\u001b[1;33m             \u001b[0mself\u001b[0m\u001b[1;33m.\u001b[0m\u001b[0m_condition\u001b[0m\u001b[1;33m.\u001b[0m\u001b[0mwait\u001b[0m\u001b[1;33m(\u001b[0m\u001b[0mtimeout\u001b[0m\u001b[1;33m)\u001b[0m\u001b[1;33m\u001b[0m\u001b[1;33m\u001b[0m\u001b[0m\n\u001b[0m\u001b[0;32m    435\u001b[0m \u001b[1;33m\u001b[0m\u001b[0m\n\u001b[0;32m    436\u001b[0m             \u001b[1;32mif\u001b[0m \u001b[0mself\u001b[0m\u001b[1;33m.\u001b[0m\u001b[0m_state\u001b[0m \u001b[1;32min\u001b[0m \u001b[1;33m[\u001b[0m\u001b[0mCANCELLED\u001b[0m\u001b[1;33m,\u001b[0m \u001b[0mCANCELLED_AND_NOTIFIED\u001b[0m\u001b[1;33m]\u001b[0m\u001b[1;33m:\u001b[0m\u001b[1;33m\u001b[0m\u001b[1;33m\u001b[0m\u001b[0m\n",
      "\u001b[1;32mc:\\users\\gustavo\\appdata\\local\\programs\\python\\python38-32\\lib\\threading.py\u001b[0m in \u001b[0;36mwait\u001b[1;34m(self, timeout)\u001b[0m\n\u001b[0;32m    300\u001b[0m         \u001b[1;32mtry\u001b[0m\u001b[1;33m:\u001b[0m    \u001b[1;31m# restore state no matter what (e.g., KeyboardInterrupt)\u001b[0m\u001b[1;33m\u001b[0m\u001b[1;33m\u001b[0m\u001b[0m\n\u001b[0;32m    301\u001b[0m             \u001b[1;32mif\u001b[0m \u001b[0mtimeout\u001b[0m \u001b[1;32mis\u001b[0m \u001b[1;32mNone\u001b[0m\u001b[1;33m:\u001b[0m\u001b[1;33m\u001b[0m\u001b[1;33m\u001b[0m\u001b[0m\n\u001b[1;32m--> 302\u001b[1;33m                 \u001b[0mwaiter\u001b[0m\u001b[1;33m.\u001b[0m\u001b[0macquire\u001b[0m\u001b[1;33m(\u001b[0m\u001b[1;33m)\u001b[0m\u001b[1;33m\u001b[0m\u001b[1;33m\u001b[0m\u001b[0m\n\u001b[0m\u001b[0;32m    303\u001b[0m                 \u001b[0mgotit\u001b[0m \u001b[1;33m=\u001b[0m \u001b[1;32mTrue\u001b[0m\u001b[1;33m\u001b[0m\u001b[1;33m\u001b[0m\u001b[0m\n\u001b[0;32m    304\u001b[0m             \u001b[1;32melse\u001b[0m\u001b[1;33m:\u001b[0m\u001b[1;33m\u001b[0m\u001b[1;33m\u001b[0m\u001b[0m\n",
      "\u001b[1;31mKeyboardInterrupt\u001b[0m: "
     ]
    },
    {
     "data": {
      "image/png": "[encoded data removed]",
      "text/plain": [
       "<Figure size 720x1080 with 6 Axes>"
      ]
     },
     "metadata": {
      "needs_background": "light"
     },
     "output_type": "display_data"
    }
   ],
   "source": [
    "fig, axes = plt.subplots(3, 2, figsize=(10, 15))\n",
    "\n",
    "\n",
    "title = \"Learning Curves (KNearestNeighbors)\"\n",
    "# Cross validation with 100 iterations to get smoother mean test and train\n",
    "# score curves, each time with 20% data randomly selected as a validation set.\n",
    "cv = ShuffleSplit(n_splits=10, test_size=0.2, random_state=0)\n",
    "\n",
    "estimator1 = KNeighborsClassifier(n_neighbors = 101)\n",
    "plot_learning_curve(estimator1, title, X, y, axes=axes[:, 0], ylim=(0.3, 0.7),\n",
    "                    cv=cv, n_jobs=4)\n",
    "\n",
    "title = r\"Learning Curves (SVM, linear kernel)\"\n",
    "# SVC is more expensive so we do a lower number of CV iterations:\n",
    "cv = ShuffleSplit(n_splits=5, test_size=0.2, random_state=0)\n",
    "estimator2 = svm.SVC(kernel = 'linear',probability=True)\n",
    "plot_learning_curve(estimator2, title, X, y, axes=axes[:, 1], ylim=(0.3, 0.7),\n",
    "                    cv=cv, n_jobs=4)\n",
    "\n",
    "plt.show()"
   ]
  },
  {
   "cell_type": "markdown",
   "metadata": {},
   "source": [
    "As we can see the KNearestNeighbors behaved better in the overall dataset. And the SVN had the abilty to perform better given more data, however fot predicting the winning team we will stick with the KNN model that gave us, previously, a  52,852 % accuracy, which we agree is a decent score, given that the outcome is very random, and it is hard to train the model with data that has inherently noise."
   ]
  },
  {
   "cell_type": "code",
   "execution_count": 91,
   "metadata": {},
   "outputs": [
    {
     "ename": "KeyboardInterrupt",
     "evalue": "",
     "output_type": "error",
     "traceback": [
      "\u001b[1;31m---------------------------------------------------------------------------\u001b[0m",
      "\u001b[1;31mKeyboardInterrupt\u001b[0m                         Traceback (most recent call last)",
      "\u001b[1;32m<ipython-input-91-ea13704a4586>\u001b[0m in \u001b[0;36m<module>\u001b[1;34m\u001b[0m\n\u001b[0;32m      1\u001b[0m \u001b[0mestimator1\u001b[0m\u001b[1;33m.\u001b[0m\u001b[0mfit\u001b[0m\u001b[1;33m(\u001b[0m\u001b[0mX_train\u001b[0m\u001b[1;33m,\u001b[0m\u001b[0my_train\u001b[0m\u001b[1;33m)\u001b[0m\u001b[1;33m\u001b[0m\u001b[1;33m\u001b[0m\u001b[0m\n\u001b[0;32m      2\u001b[0m \u001b[0my_pred1\u001b[0m \u001b[1;33m=\u001b[0m \u001b[0mestimator1\u001b[0m\u001b[1;33m.\u001b[0m\u001b[0mpredict\u001b[0m\u001b[1;33m(\u001b[0m\u001b[0mX_test\u001b[0m\u001b[1;33m)\u001b[0m\u001b[1;33m\u001b[0m\u001b[1;33m\u001b[0m\u001b[0m\n\u001b[1;32m----> 3\u001b[1;33m \u001b[0my_pred1_prob\u001b[0m \u001b[1;33m=\u001b[0m \u001b[0mestimator1\u001b[0m\u001b[1;33m.\u001b[0m\u001b[0mpredict_proba\u001b[0m\u001b[1;33m(\u001b[0m\u001b[0mX_test\u001b[0m\u001b[1;33m)\u001b[0m\u001b[1;33m\u001b[0m\u001b[1;33m\u001b[0m\u001b[0m\n\u001b[0m\u001b[0;32m      4\u001b[0m \u001b[0mdata1\u001b[0m \u001b[1;33m=\u001b[0m \u001b[0mX_test\u001b[0m\u001b[1;33m.\u001b[0m\u001b[0mcopy\u001b[0m\u001b[1;33m(\u001b[0m\u001b[1;33m)\u001b[0m\u001b[1;33m\u001b[0m\u001b[1;33m\u001b[0m\u001b[0m\n\u001b[0;32m      5\u001b[0m \u001b[0mdata1\u001b[0m\u001b[1;33m[\u001b[0m\u001b[1;34m'result_prediction'\u001b[0m\u001b[1;33m]\u001b[0m \u001b[1;33m=\u001b[0m \u001b[0my_pred1\u001b[0m\u001b[1;33m;\u001b[0m\u001b[1;33m\u001b[0m\u001b[1;33m\u001b[0m\u001b[0m\n",
      "\u001b[1;32mc:\\users\\gustavo\\appdata\\local\\programs\\python\\python38-32\\lib\\site-packages\\sklearn\\neighbors\\_classification.py\u001b[0m in \u001b[0;36mpredict_proba\u001b[1;34m(self, X)\u001b[0m\n\u001b[0;32m    215\u001b[0m         \u001b[0mX\u001b[0m \u001b[1;33m=\u001b[0m \u001b[0mcheck_array\u001b[0m\u001b[1;33m(\u001b[0m\u001b[0mX\u001b[0m\u001b[1;33m,\u001b[0m \u001b[0maccept_sparse\u001b[0m\u001b[1;33m=\u001b[0m\u001b[1;34m'csr'\u001b[0m\u001b[1;33m)\u001b[0m\u001b[1;33m\u001b[0m\u001b[1;33m\u001b[0m\u001b[0m\n\u001b[0;32m    216\u001b[0m \u001b[1;33m\u001b[0m\u001b[0m\n\u001b[1;32m--> 217\u001b[1;33m         \u001b[0mneigh_dist\u001b[0m\u001b[1;33m,\u001b[0m \u001b[0mneigh_ind\u001b[0m \u001b[1;33m=\u001b[0m \u001b[0mself\u001b[0m\u001b[1;33m.\u001b[0m\u001b[0mkneighbors\u001b[0m\u001b[1;33m(\u001b[0m\u001b[0mX\u001b[0m\u001b[1;33m)\u001b[0m\u001b[1;33m\u001b[0m\u001b[1;33m\u001b[0m\u001b[0m\n\u001b[0m\u001b[0;32m    218\u001b[0m \u001b[1;33m\u001b[0m\u001b[0m\n\u001b[0;32m    219\u001b[0m         \u001b[0mclasses_\u001b[0m \u001b[1;33m=\u001b[0m \u001b[0mself\u001b[0m\u001b[1;33m.\u001b[0m\u001b[0mclasses_\u001b[0m\u001b[1;33m\u001b[0m\u001b[1;33m\u001b[0m\u001b[0m\n",
      "\u001b[1;32mc:\\users\\gustavo\\appdata\\local\\programs\\python\\python38-32\\lib\\site-packages\\sklearn\\neighbors\\_base.py\u001b[0m in \u001b[0;36mkneighbors\u001b[1;34m(self, X, n_neighbors, return_distance)\u001b[0m\n\u001b[0;32m    659\u001b[0m                 \u001b[0mdelayed_query\u001b[0m \u001b[1;33m=\u001b[0m \u001b[0mdelayed\u001b[0m\u001b[1;33m(\u001b[0m\u001b[0m_tree_query_parallel_helper\u001b[0m\u001b[1;33m)\u001b[0m\u001b[1;33m\u001b[0m\u001b[1;33m\u001b[0m\u001b[0m\n\u001b[0;32m    660\u001b[0m                 \u001b[0mparallel_kwargs\u001b[0m \u001b[1;33m=\u001b[0m \u001b[1;33m{\u001b[0m\u001b[1;34m\"prefer\"\u001b[0m\u001b[1;33m:\u001b[0m \u001b[1;34m\"threads\"\u001b[0m\u001b[1;33m}\u001b[0m\u001b[1;33m\u001b[0m\u001b[1;33m\u001b[0m\u001b[0m\n\u001b[1;32m--> 661\u001b[1;33m             chunked_results = Parallel(n_jobs, **parallel_kwargs)(\n\u001b[0m\u001b[0;32m    662\u001b[0m                 delayed_query(\n\u001b[0;32m    663\u001b[0m                     self._tree, X[s], n_neighbors, return_distance)\n",
      "\u001b[1;32mc:\\users\\gustavo\\appdata\\local\\programs\\python\\python38-32\\lib\\site-packages\\joblib\\parallel.py\u001b[0m in \u001b[0;36m__call__\u001b[1;34m(self, iterable)\u001b[0m\n\u001b[0;32m   1002\u001b[0m             \u001b[1;31m# remaining jobs.\u001b[0m\u001b[1;33m\u001b[0m\u001b[1;33m\u001b[0m\u001b[1;33m\u001b[0m\u001b[0m\n\u001b[0;32m   1003\u001b[0m             \u001b[0mself\u001b[0m\u001b[1;33m.\u001b[0m\u001b[0m_iterating\u001b[0m \u001b[1;33m=\u001b[0m \u001b[1;32mFalse\u001b[0m\u001b[1;33m\u001b[0m\u001b[1;33m\u001b[0m\u001b[0m\n\u001b[1;32m-> 1004\u001b[1;33m             \u001b[1;32mif\u001b[0m \u001b[0mself\u001b[0m\u001b[1;33m.\u001b[0m\u001b[0mdispatch_one_batch\u001b[0m\u001b[1;33m(\u001b[0m\u001b[0miterator\u001b[0m\u001b[1;33m)\u001b[0m\u001b[1;33m:\u001b[0m\u001b[1;33m\u001b[0m\u001b[1;33m\u001b[0m\u001b[0m\n\u001b[0m\u001b[0;32m   1005\u001b[0m                 \u001b[0mself\u001b[0m\u001b[1;33m.\u001b[0m\u001b[0m_iterating\u001b[0m \u001b[1;33m=\u001b[0m \u001b[0mself\u001b[0m\u001b[1;33m.\u001b[0m\u001b[0m_original_iterator\u001b[0m \u001b[1;32mis\u001b[0m \u001b[1;32mnot\u001b[0m \u001b[1;32mNone\u001b[0m\u001b[1;33m\u001b[0m\u001b[1;33m\u001b[0m\u001b[0m\n\u001b[0;32m   1006\u001b[0m \u001b[1;33m\u001b[0m\u001b[0m\n",
      "\u001b[1;32mc:\\users\\gustavo\\appdata\\local\\programs\\python\\python38-32\\lib\\site-packages\\joblib\\parallel.py\u001b[0m in \u001b[0;36mdispatch_one_batch\u001b[1;34m(self, iterator)\u001b[0m\n\u001b[0;32m    833\u001b[0m                 \u001b[1;32mreturn\u001b[0m \u001b[1;32mFalse\u001b[0m\u001b[1;33m\u001b[0m\u001b[1;33m\u001b[0m\u001b[0m\n\u001b[0;32m    834\u001b[0m             \u001b[1;32melse\u001b[0m\u001b[1;33m:\u001b[0m\u001b[1;33m\u001b[0m\u001b[1;33m\u001b[0m\u001b[0m\n\u001b[1;32m--> 835\u001b[1;33m                 \u001b[0mself\u001b[0m\u001b[1;33m.\u001b[0m\u001b[0m_dispatch\u001b[0m\u001b[1;33m(\u001b[0m\u001b[0mtasks\u001b[0m\u001b[1;33m)\u001b[0m\u001b[1;33m\u001b[0m\u001b[1;33m\u001b[0m\u001b[0m\n\u001b[0m\u001b[0;32m    836\u001b[0m                 \u001b[1;32mreturn\u001b[0m \u001b[1;32mTrue\u001b[0m\u001b[1;33m\u001b[0m\u001b[1;33m\u001b[0m\u001b[0m\n\u001b[0;32m    837\u001b[0m \u001b[1;33m\u001b[0m\u001b[0m\n",
      "\u001b[1;32mc:\\users\\gustavo\\appdata\\local\\programs\\python\\python38-32\\lib\\site-packages\\joblib\\parallel.py\u001b[0m in \u001b[0;36m_dispatch\u001b[1;34m(self, batch)\u001b[0m\n\u001b[0;32m    752\u001b[0m         \u001b[1;32mwith\u001b[0m \u001b[0mself\u001b[0m\u001b[1;33m.\u001b[0m\u001b[0m_lock\u001b[0m\u001b[1;33m:\u001b[0m\u001b[1;33m\u001b[0m\u001b[1;33m\u001b[0m\u001b[0m\n\u001b[0;32m    753\u001b[0m             \u001b[0mjob_idx\u001b[0m \u001b[1;33m=\u001b[0m \u001b[0mlen\u001b[0m\u001b[1;33m(\u001b[0m\u001b[0mself\u001b[0m\u001b[1;33m.\u001b[0m\u001b[0m_jobs\u001b[0m\u001b[1;33m)\u001b[0m\u001b[1;33m\u001b[0m\u001b[1;33m\u001b[0m\u001b[0m\n\u001b[1;32m--> 754\u001b[1;33m             \u001b[0mjob\u001b[0m \u001b[1;33m=\u001b[0m \u001b[0mself\u001b[0m\u001b[1;33m.\u001b[0m\u001b[0m_backend\u001b[0m\u001b[1;33m.\u001b[0m\u001b[0mapply_async\u001b[0m\u001b[1;33m(\u001b[0m\u001b[0mbatch\u001b[0m\u001b[1;33m,\u001b[0m \u001b[0mcallback\u001b[0m\u001b[1;33m=\u001b[0m\u001b[0mcb\u001b[0m\u001b[1;33m)\u001b[0m\u001b[1;33m\u001b[0m\u001b[1;33m\u001b[0m\u001b[0m\n\u001b[0m\u001b[0;32m    755\u001b[0m             \u001b[1;31m# A job can complete so quickly than its callback is\u001b[0m\u001b[1;33m\u001b[0m\u001b[1;33m\u001b[0m\u001b[1;33m\u001b[0m\u001b[0m\n\u001b[0;32m    756\u001b[0m             \u001b[1;31m# called before we get here, causing self._jobs to\u001b[0m\u001b[1;33m\u001b[0m\u001b[1;33m\u001b[0m\u001b[1;33m\u001b[0m\u001b[0m\n",
      "\u001b[1;32mc:\\users\\gustavo\\appdata\\local\\programs\\python\\python38-32\\lib\\site-packages\\joblib\\_parallel_backends.py\u001b[0m in \u001b[0;36mapply_async\u001b[1;34m(self, func, callback)\u001b[0m\n\u001b[0;32m    207\u001b[0m     \u001b[1;32mdef\u001b[0m \u001b[0mapply_async\u001b[0m\u001b[1;33m(\u001b[0m\u001b[0mself\u001b[0m\u001b[1;33m,\u001b[0m \u001b[0mfunc\u001b[0m\u001b[1;33m,\u001b[0m \u001b[0mcallback\u001b[0m\u001b[1;33m=\u001b[0m\u001b[1;32mNone\u001b[0m\u001b[1;33m)\u001b[0m\u001b[1;33m:\u001b[0m\u001b[1;33m\u001b[0m\u001b[1;33m\u001b[0m\u001b[0m\n\u001b[0;32m    208\u001b[0m         \u001b[1;34m\"\"\"Schedule a func to be run\"\"\"\u001b[0m\u001b[1;33m\u001b[0m\u001b[1;33m\u001b[0m\u001b[0m\n\u001b[1;32m--> 209\u001b[1;33m         \u001b[0mresult\u001b[0m \u001b[1;33m=\u001b[0m \u001b[0mImmediateResult\u001b[0m\u001b[1;33m(\u001b[0m\u001b[0mfunc\u001b[0m\u001b[1;33m)\u001b[0m\u001b[1;33m\u001b[0m\u001b[1;33m\u001b[0m\u001b[0m\n\u001b[0m\u001b[0;32m    210\u001b[0m         \u001b[1;32mif\u001b[0m \u001b[0mcallback\u001b[0m\u001b[1;33m:\u001b[0m\u001b[1;33m\u001b[0m\u001b[1;33m\u001b[0m\u001b[0m\n\u001b[0;32m    211\u001b[0m             \u001b[0mcallback\u001b[0m\u001b[1;33m(\u001b[0m\u001b[0mresult\u001b[0m\u001b[1;33m)\u001b[0m\u001b[1;33m\u001b[0m\u001b[1;33m\u001b[0m\u001b[0m\n",
      "\u001b[1;32mc:\\users\\gustavo\\appdata\\local\\programs\\python\\python38-32\\lib\\site-packages\\joblib\\_parallel_backends.py\u001b[0m in \u001b[0;36m__init__\u001b[1;34m(self, batch)\u001b[0m\n\u001b[0;32m    588\u001b[0m         \u001b[1;31m# Don't delay the application, to avoid keeping the input\u001b[0m\u001b[1;33m\u001b[0m\u001b[1;33m\u001b[0m\u001b[1;33m\u001b[0m\u001b[0m\n\u001b[0;32m    589\u001b[0m         \u001b[1;31m# arguments in memory\u001b[0m\u001b[1;33m\u001b[0m\u001b[1;33m\u001b[0m\u001b[1;33m\u001b[0m\u001b[0m\n\u001b[1;32m--> 590\u001b[1;33m         \u001b[0mself\u001b[0m\u001b[1;33m.\u001b[0m\u001b[0mresults\u001b[0m \u001b[1;33m=\u001b[0m \u001b[0mbatch\u001b[0m\u001b[1;33m(\u001b[0m\u001b[1;33m)\u001b[0m\u001b[1;33m\u001b[0m\u001b[1;33m\u001b[0m\u001b[0m\n\u001b[0m\u001b[0;32m    591\u001b[0m \u001b[1;33m\u001b[0m\u001b[0m\n\u001b[0;32m    592\u001b[0m     \u001b[1;32mdef\u001b[0m \u001b[0mget\u001b[0m\u001b[1;33m(\u001b[0m\u001b[0mself\u001b[0m\u001b[1;33m)\u001b[0m\u001b[1;33m:\u001b[0m\u001b[1;33m\u001b[0m\u001b[1;33m\u001b[0m\u001b[0m\n",
      "\u001b[1;32mc:\\users\\gustavo\\appdata\\local\\programs\\python\\python38-32\\lib\\site-packages\\joblib\\parallel.py\u001b[0m in \u001b[0;36m__call__\u001b[1;34m(self)\u001b[0m\n\u001b[0;32m    253\u001b[0m         \u001b[1;31m# change the default number of processes to -1\u001b[0m\u001b[1;33m\u001b[0m\u001b[1;33m\u001b[0m\u001b[1;33m\u001b[0m\u001b[0m\n\u001b[0;32m    254\u001b[0m         \u001b[1;32mwith\u001b[0m \u001b[0mparallel_backend\u001b[0m\u001b[1;33m(\u001b[0m\u001b[0mself\u001b[0m\u001b[1;33m.\u001b[0m\u001b[0m_backend\u001b[0m\u001b[1;33m,\u001b[0m \u001b[0mn_jobs\u001b[0m\u001b[1;33m=\u001b[0m\u001b[0mself\u001b[0m\u001b[1;33m.\u001b[0m\u001b[0m_n_jobs\u001b[0m\u001b[1;33m)\u001b[0m\u001b[1;33m:\u001b[0m\u001b[1;33m\u001b[0m\u001b[1;33m\u001b[0m\u001b[0m\n\u001b[1;32m--> 255\u001b[1;33m             return [func(*args, **kwargs)\n\u001b[0m\u001b[0;32m    256\u001b[0m                     for func, args, kwargs in self.items]\n\u001b[0;32m    257\u001b[0m \u001b[1;33m\u001b[0m\u001b[0m\n",
      "\u001b[1;32mc:\\users\\gustavo\\appdata\\local\\programs\\python\\python38-32\\lib\\site-packages\\joblib\\parallel.py\u001b[0m in \u001b[0;36m<listcomp>\u001b[1;34m(.0)\u001b[0m\n\u001b[0;32m    253\u001b[0m         \u001b[1;31m# change the default number of processes to -1\u001b[0m\u001b[1;33m\u001b[0m\u001b[1;33m\u001b[0m\u001b[1;33m\u001b[0m\u001b[0m\n\u001b[0;32m    254\u001b[0m         \u001b[1;32mwith\u001b[0m \u001b[0mparallel_backend\u001b[0m\u001b[1;33m(\u001b[0m\u001b[0mself\u001b[0m\u001b[1;33m.\u001b[0m\u001b[0m_backend\u001b[0m\u001b[1;33m,\u001b[0m \u001b[0mn_jobs\u001b[0m\u001b[1;33m=\u001b[0m\u001b[0mself\u001b[0m\u001b[1;33m.\u001b[0m\u001b[0m_n_jobs\u001b[0m\u001b[1;33m)\u001b[0m\u001b[1;33m:\u001b[0m\u001b[1;33m\u001b[0m\u001b[1;33m\u001b[0m\u001b[0m\n\u001b[1;32m--> 255\u001b[1;33m             return [func(*args, **kwargs)\n\u001b[0m\u001b[0;32m    256\u001b[0m                     for func, args, kwargs in self.items]\n\u001b[0;32m    257\u001b[0m \u001b[1;33m\u001b[0m\u001b[0m\n",
      "\u001b[1;32mc:\\users\\gustavo\\appdata\\local\\programs\\python\\python38-32\\lib\\site-packages\\sklearn\\neighbors\\_base.py\u001b[0m in \u001b[0;36m_tree_query_parallel_helper\u001b[1;34m(tree, *args, **kwargs)\u001b[0m\n\u001b[0;32m    489\u001b[0m     \u001b[0munder\u001b[0m \u001b[0mPyPy\u001b[0m\u001b[1;33m.\u001b[0m\u001b[1;33m\u001b[0m\u001b[1;33m\u001b[0m\u001b[0m\n\u001b[0;32m    490\u001b[0m     \"\"\"\n\u001b[1;32m--> 491\u001b[1;33m     \u001b[1;32mreturn\u001b[0m \u001b[0mtree\u001b[0m\u001b[1;33m.\u001b[0m\u001b[0mquery\u001b[0m\u001b[1;33m(\u001b[0m\u001b[1;33m*\u001b[0m\u001b[0margs\u001b[0m\u001b[1;33m,\u001b[0m \u001b[1;33m**\u001b[0m\u001b[0mkwargs\u001b[0m\u001b[1;33m)\u001b[0m\u001b[1;33m\u001b[0m\u001b[1;33m\u001b[0m\u001b[0m\n\u001b[0m\u001b[0;32m    492\u001b[0m \u001b[1;33m\u001b[0m\u001b[0m\n\u001b[0;32m    493\u001b[0m \u001b[1;33m\u001b[0m\u001b[0m\n",
      "\u001b[1;31mKeyboardInterrupt\u001b[0m: "
     ]
    }
   ],
   "source": [
    "estimator1.fit(X_train,y_train)\n",
    "y_pred1 = estimator1.predict(X_test)\n",
    "y_pred1_prob = estimator1.predict_proba(X_test)\n",
    "data1 = X_test.copy()\n",
    "data1['result_prediction'] = y_pred1;\n",
    "data1['result_prediction_lost'] = pd.DataFrame(y_pred1_prob[0:,0]).iloc[:,0].values\n",
    "data1['result_prediction_draw'] = pd.DataFrame(y_pred1_prob[0:,1]).iloc[:,0].values\n",
    "data1['result_prediction_win'] = pd.DataFrame(y_pred1_prob[0:,2]).iloc[:,0].values\n",
    "data1['actual_result'] = y_test;\n",
    "\n",
    "estimator2.fit(X_train,y_train)\n",
    "y_pred2 = estimator2.predict(X_test)\n",
    "y_pred2_prob = estimator2.predict_proba(X_test)\n",
    "data2 = X_test.copy()\n",
    "data2['result_prediction'] = y_pred2;\n",
    "data2['result_prediction_lost'] = pd.DataFrame(y_pred2_prob[0:,0]).iloc[:,0].values\n",
    "data2['result_prediction_draw'] = pd.DataFrame(y_pred2_prob[0:,1]).iloc[:,0].values\n",
    "data2['result_prediction_win'] = pd.DataFrame(y_pred2_prob[0:,2]).iloc[:,0].values\n",
    "data2['actual_result'] = y_test;"
   ]
  },
  {
   "cell_type": "code",
   "execution_count": 97,
   "metadata": {
    "scrolled": true
   },
   "outputs": [],
   "source": [
    "threshold = 0.57\n",
    "conditions = [((data1['result_prediction'] != data1['actual_result']) & (((data1['result_prediction'] == 1) & (data1['result_prediction_win'] >= threshold)) | ((data1['result_prediction'] == 0) & (data1['result_prediction_draw'] >= threshold))|((data1['result_prediction'] == -1) & (data1['result_prediction_lost'] >= threshold))) ),\n",
    "              (data1['result_prediction'] == -1) & (data1['result_prediction_lost'] < threshold) ,\n",
    "              (data1['result_prediction'] == -1) & (data1['result_prediction_lost'] >= threshold),\n",
    "              (data1['result_prediction'] == 0) & (data1['result_prediction_draw'] < threshold) ,\n",
    "              (data1['result_prediction'] == 0) & (data1['result_prediction_draw'] >= threshold),\n",
    "              (data1['result_prediction'] == 1) & (data1['result_prediction_win'] < threshold) ,\n",
    "              (data1['result_prediction'] == 1) & (data1['result_prediction_win'] >= threshold)]\n",
    "choices = [-1 ,0, -1 + data1['odd_a'] ,0, -1 + data1['odd_d'],0, -1 + data1['odd_h']]\n",
    "data1['balance'] = np.select(conditions,choices,default=np.nan)\n",
    "\n",
    "threshold = 0.4\n",
    "conditions = [((data2['result_prediction'] != data2['actual_result']) & (((data2['result_prediction'] == 1) & (data2['result_prediction_win'] >= threshold)) | ((data2['result_prediction'] == 0) & (data2['result_prediction_draw'] >= threshold))|((data2['result_prediction'] == -1) & (data2['result_prediction_lost'] >= threshold))) ),\n",
    "              (data2['result_prediction'] == -1) & (data2['result_prediction_lost'] < threshold) ,\n",
    "              (data2['result_prediction'] == -1) & (data2['result_prediction_lost'] >= threshold),\n",
    "              (data2['result_prediction'] == 0) & (data2['result_prediction_draw'] < threshold) ,\n",
    "              (data2['result_prediction'] == 0) & (data2['result_prediction_draw'] >= threshold),\n",
    "              (data2['result_prediction'] == 1) & (data2['result_prediction_win'] < threshold) ,\n",
    "              (data2['result_prediction'] == 1) & (data2['result_prediction_win'] >= threshold)]\n",
    "choices = [-1 ,0, -1 + data2['odd_a'] ,0, -1 + data2['odd_d'],0, -1 + data2['odd_h']]\n",
    "data2['balance'] = np.select(conditions,choices,default=np.nan)"
   ]
  },
  {
   "cell_type": "markdown",
   "metadata": {},
   "source": [
    "However no person bets in every single game and selects a few, the ones that the person is most confident about, so for this problem, our predictors choose the games whose prediction it was more than 40% sure for KNN and more than 35 for SVM of the result, leading to the following results."
   ]
  },
  {
   "cell_type": "code",
   "execution_count": 98,
   "metadata": {
    "scrolled": true
   },
   "outputs": [
    {
     "name": "stdout",
     "output_type": "stream",
     "text": [
      "KNN balance: 106.14 €\n",
      "SVM balance: 150.87 €\n"
     ]
    }
   ],
   "source": [
    "print('KNN balance: {:.2f} €'.format(data1['balance'].sum()))\n",
    "print('SVM balance: {:.2f} €'.format(data2['balance'].sum()))"
   ]
  },
  {
   "cell_type": "markdown",
   "metadata": {},
   "source": [
    "### 3.2 Predict the moment of first goal\n",
    "\n",
    "This problem consists of determining the moment of the first goal, which is also a rather random event because nothing but events during the game can help to determine when a goal will happen, like the number of previous attemps, how many players are in the field, but all this occurs during the game and we cannot know before hand, but even if we knew that, it is subject of luck and chance.\n",
    "\n",
    "#### Approach"
   ]
  },
  {
   "cell_type": "markdown",
   "metadata": {},
   "source": [
    "For this problem we will use the home team and the away team because more offensive or better teams are more likely to score sonner agains less defensive or weaker teams, to help clarify that and take into account external factors, the odds each possible outcome of the game (Win, Draw, Lose) will also be added."
   ]
  },
  {
   "cell_type": "code",
   "execution_count": null,
   "metadata": {
    "scrolled": true
   },
   "outputs": [],
   "source": [
    "goals = events[(events.is_goal == 1)]\n",
    "moments = goals.merge(ginf, how=\"left\").groupby(\"id_odsp\").first()[['time','ht','at','side','odd_h','odd_d','odd_a']]\n",
    "moments.head()"
   ]
  },
  {
   "cell_type": "markdown",
   "metadata": {},
   "source": [
    "Next, the time will be divided into 4 categories, the first moment, from the beggining of the game until the end of the minute 24, from the minute 25 to the end of the first half will be the second moment, the third moment will be from the beggining o the second half until the minute 60, and form then on it will be the fourth moment."
   ]
  },
  {
   "cell_type": "code",
   "execution_count": null,
   "metadata": {},
   "outputs": [],
   "source": [
    "col = 'time'\n",
    "conditions = [moments[col] < 15 , moments[col] <=30 , moments[col] <=40 , moments[col] <=60 , moments[col] > 60]\n",
    "choices = [1 , 2 , 3, 4 , 5]\n",
    "moments['time_moment'] = np.select(conditions,choices,default=np.nan)\n",
    "moments = moments[['time_moment','ht','at','odd_h','odd_d','odd_a']]\n",
    "moments"
   ]
  },
  {
   "cell_type": "markdown",
   "metadata": {},
   "source": [
    "Next we will turn our categorical data into binary dummies, so our models can understand them."
   ]
  },
  {
   "cell_type": "code",
   "execution_count": null,
   "metadata": {},
   "outputs": [],
   "source": [
    "\n",
    "moments_dummies_2 = pd.get_dummies(moments, columns=['ht','at'])\n",
    "X = moments_dummies_2.iloc[:,1:]\n",
    "y = moments_dummies_2.iloc[:,:1].values.ravel()\n",
    "print(X.shape)\n",
    "print(y.shape)\n",
    "X_train, X_test, y_train, y_test = train_test_split(X, y, test_size=0.35, random_state=1,stratify=y)\n",
    "\n",
    "del moments_dummies_2\n",
    "del moments"
   ]
  },
  {
   "cell_type": "markdown",
   "metadata": {},
   "source": [
    "In this section several classifiers will be tested with several hyperparameters in order to find the best one. It was not possible to do a training with Grid Search with Cross Validation because of the time complexety associated and the group decided to take more manual approach that gave us the following results."
   ]
  },
  {
   "cell_type": "code",
   "execution_count": null,
   "metadata": {},
   "outputs": [],
   "source": [
    "checkClf('KNN_21',KNeighborsClassifier(n_neighbors=21))\n",
    "checkClf('KNN_25',KNeighborsClassifier(n_neighbors=25))\n",
    "checkClf('KNN_31',KNeighborsClassifier(n_neighbors=31))\n",
    "checkClf('KNN_35',KNeighborsClassifier(n_neighbors=35))\n",
    "checkClf('SVC' , svm.SVC(gamma = 'scale', kernel = 'rbf'))\n",
    "checkClf('RFC_5' , RandomForestClassifier(n_estimators=5))\n",
    "checkClf('RFC_10' , RandomForestClassifier(n_estimators=10))\n",
    "checkClf('RFC_20' , RandomForestClassifier(n_estimators=20))\n",
    "checkClf('MLP' , MLPClassifier(max_iter = 4000,solver='sgd',hidden_layer_sizes=(10,5,5,5,5)))\n",
    "checkClf('CNB' , CategoricalNB())"
   ]
  },
  {
   "cell_type": "markdown",
   "metadata": {},
   "source": [
    "From the previous data we can see that Support Vector Machine had a better accuracy, however it was overfit and and could only predict the most frequent moment, the first one, thus it had a worse f1 score over all the categories, so we choose the KNeighbors with 35 neighbors and the Random Forest with 10 estimators for further comparisons, because they show good f1 measure and do not overfit into one category."
   ]
  },
  {
   "cell_type": "code",
   "execution_count": null,
   "metadata": {},
   "outputs": [],
   "source": [
    "fig, axes = plt.subplots(3, 2, figsize=(10, 15))\n",
    "\n",
    "\n",
    "title = \"Learning Curves (KNeighborsClassifier, n_neighbors=31)\"\n",
    "# Cross validation with 100 iterations to get smoother mean test and train\n",
    "# score curves, each time with 20% data randomly selected as a validation set.\n",
    "cv = ShuffleSplit(n_splits=10, test_size=0.2, random_state=0)\n",
    "\n",
    "estimator = KNeighborsClassifier(n_neighbors=31)\n",
    "plot_learning_curve(estimator, title, X, y, axes=axes[:, 0], ylim=(0.2, 0.4),\n",
    "                    cv=cv, n_jobs=4)\n",
    "\n",
    "title = \"Learning Curves (RandomForesClassifier, estimators = 10)\"\n",
    "# SVC is more expensive so we do a lower number of CV iterations:\n",
    "cv = ShuffleSplit(n_splits=5, test_size=0.2, random_state=0)\n",
    "estimator = RandomForestClassifier(n_estimators=10)\n",
    "plot_learning_curve(estimator, title, X, y, axes=axes[:, 1], ylim=(0.1, 1.01),\n",
    "                    cv=cv, n_jobs=4)\n",
    "\n",
    "plt.show()"
   ]
  },
  {
   "cell_type": "markdown",
   "metadata": {},
   "source": [
    "The Random Forest Classifier rapidly overfits to the training data, existing a huge difference between the training score (very high) and the cross-validation score (rather low), whereas the KNieighbours has a much smaller difference and achieves a higher CV-score, so for this models we will stick with KNeighbors."
   ]
  },
  {
   "cell_type": "markdown",
   "metadata": {},
   "source": [
    "### 3.3 Predict whether both teams score\n",
    "In this problem we will try to predict whether both score at least a goal during the entire game. This event is more likely the more agressive and less defensive the both teams are, leading to higher chances of goals from the both teams. However, a team can score many goals in one game and right in the next do not score at all.\n",
    "#### Approach"
   ]
  },
  {
   "cell_type": "markdown",
   "metadata": {},
   "source": [
    "There are two principal input features, the home team and the away team. To complement this feature we will be adding the odd for both teams to score and for both teams to score, which reflect the previsions of people betting and takes into account external factors. Furthermore, we will add the odd over and odd under 2.5 goals, because when the total of goals in a game is high, is more likely to both teams to score. The problem with this choice of input features is that only about 10% of all game data have the previously mentioned odds informatation, so for the sake of this problem our data will only contain games with full information about the odds of each possible outcome."
   ]
  },
  {
   "cell_type": "code",
   "execution_count": null,
   "metadata": {
    "scrolled": true
   },
   "outputs": [],
   "source": [
    "selected = ginf[ginf.odd_bts.notnull() & ginf.odd_bts_n.notnull()][['fthg','ftag','ht','at','odd_over','odd_under','odd_bts','odd_bts_n']].copy()\n",
    "selected['both_to_score'] = 0;\n",
    "conditions = [selected['fthg'] == 0 , selected['ftag'] == 0 , 1 == 1]\n",
    "choices = ['no','no','yes']\n",
    "selected['both_to_score'] = np.select(conditions,choices,default=np.nan)\n",
    "selected = selected[['both_to_score','ht','at','odd_over','odd_under','odd_bts','odd_bts_n']]\n",
    "selected = pd.get_dummies(selected, columns=['ht','at'])\n",
    "selected.head()"
   ]
  },
  {
   "cell_type": "markdown",
   "metadata": {},
   "source": [
    "Here we split our processed data into training and testing sets with a test size of 35% of the overall data."
   ]
  },
  {
   "cell_type": "code",
   "execution_count": null,
   "metadata": {},
   "outputs": [],
   "source": [
    "X = selected.iloc[:,1:]\n",
    "y = selected.iloc[:,:1]\n",
    "y = np.ravel(y)\n",
    "print(X.shape)\n",
    "print(y.shape)\n",
    "X_train, X_test, y_train, y_test = train_test_split(X, y, test_size=0.35, random_state=1)\n",
    "\n",
    "del selected"
   ]
  },
  {
   "cell_type": "markdown",
   "metadata": {},
   "source": [
    "In this section we will do a Grid Search with Cross Validation in order to exaustably check which model with which hyperparameters adapts better to our dataset."
   ]
  },
  {
   "cell_type": "code",
   "execution_count": null,
   "metadata": {},
   "outputs": [],
   "source": [
    "models = []\n",
    "\n",
    "KNNhyperparameters = {'kneighborsclassifier__n_neighbors' : [15,35,41,69,77,101],\n",
    "                      'kneighborsclassifier__weights' : ['uniform','distance']}\n",
    "SVMhyperparameters = {'svc__kernel' : ['linear','rbf','poly','sigmoid'],\n",
    "                      'svc__gamma' : ['auto','scale'],\n",
    "                      'svc__C':[0.8,0.9,0.99,1.0,1.01,1.1],\n",
    "                      'svc__shrinking':[True, False]}\n",
    "MLPhyperparameters = {'mlpclassifier__solver' : ['adam','sgd'] , \n",
    "                      'mlpclassifier__hidden_layer_sizes' : [(30,20,10,5,2) , (5,5,5,5,5),(20,20),(20,5)]}\n",
    "RFThyperparameters = {'randomforestclassifier__n_estimators' : [5,15,20,35,40,45,60]}\n",
    "GPChyperparameters = {'gaussianprocessclassifier__warm_start' : [True,False] , \n",
    "                      'gaussianprocessclassifier__n_restarts_optimizer' : [0,1,2,4,5] , \n",
    "                      'gaussianprocessclassifier__max_iter_predict' : [50,100,200,400]}\n",
    "\n",
    "models.append(('GPC' , GaussianProcessClassifier() , GPChyperparameters ))\n",
    "models.append(('KNN' , KNeighborsClassifier(), KNNhyperparameters))\n",
    "models.append(('SVC' , svm.SVC(), SVMhyperparameters))\n",
    "models.append(('MLP' , MLPClassifier(max_iter = 4000) , MLPhyperparameters ))\n",
    "models.append(('RFT' , RandomForestClassifier() , RFThyperparameters ))\n",
    "\n",
    "for name, model, hyper in models:\n",
    "    pipeline = make_pipeline(model)\n",
    "    clf = GridSearchCV(pipeline, hyper)\n",
    "    clf.fit(X_train,y_train)\n",
    "    y_pred = clf.predict(X_test)\n",
    "    print(\"Model name: \" + name)\n",
    "    #print(\"R2 score: {:.4f}\".format(r2_score(y_test, y_pred)))\n",
    "    #print(\"Mean square error: {:.4f}\".format(mean_squared_error(y_test, y_pred)))\n",
    "    #print('Precision: {:.4f}'.format(precision_score(y_test, y_pred, average='micro')))\n",
    "    #print('Recall: {:.4f}'.format(recall_score(y_test, y_pred, average='micro')))\n",
    "    #print('Accuracy: {:.4f}'.format(accuracy_score(y_test, y_pred)))\n",
    "    print('F-measure: {:.4f}'.format(f1_score(y_test, y_pred, average='micro')))\n",
    "    acc = clf.score(X_test, y_test)\n",
    "    print('The accuracy of classifying is {:.3f} %'.format(acc*100))\n",
    "    print('Confusion Matrix:')\n",
    "    print(confusion_matrix(y_test,y_pred))\n",
    "    print('Report:')\n",
    "    print(classification_report(y_test,y_pred))\n",
    "    print(clf.best_params_)\n",
    "    print(\"\\n\")\n",
    "    \n",
    "del models"
   ]
  },
  {
   "cell_type": "code",
   "execution_count": null,
   "metadata": {},
   "outputs": [],
   "source": [
    "fig, axes = plt.subplots(3, 2, figsize=(10, 15))\n",
    "\n",
    "estimator1 = KNeighborsClassifier(n_neighbors = 77,weights = 'uniform')\n",
    "estimator2 = svm.SVC(gamma = 'scale', kernel = 'rbf',C = 0.9,shrinking = True,probability=True)\n",
    "\n",
    "title = \"Learning Curves (KNeighborsClassifier)\"\n",
    "# Cross validation with 100 iterations to get smoother mean test and train\n",
    "# score curves, each time with 20% data randomly selected as a validation set.\n",
    "cv = ShuffleSplit(n_splits=100, test_size=0.2, random_state=0)\n",
    "plot_learning_curve(estimator1, title, X, y, axes=axes[:, 0], ylim=(0.4, 0.8),\n",
    "                    cv=cv, n_jobs=4)\n",
    "\n",
    "title = r\"Learning Curves (SVM, rbf kernel)\"\n",
    "# SVC is more expensive so we do a lower number of CV iterations:\n",
    "cv = ShuffleSplit(n_splits=100, test_size=0.2, random_state=0)\n",
    "plot_learning_curve(estimator2, title, X, y, axes=axes[:, 1], ylim=(0.4, 0.8),\n",
    "                    cv=cv, n_jobs=4)\n",
    "\n",
    "\n",
    "plt.show()"
   ]
  },
  {
   "cell_type": "markdown",
   "metadata": {},
   "source": [
    "In this problem we can see that KNeighbors rapidly reach a point where its accuracy no longer gets better, however we can see that Support Vector Machine would beneficiate from more data and even then it achieve a better cross-validation score that the previous model. So for this problem we can achive a accuracy of about 55%, when it comes to predict whether both teams score."
   ]
  },
  {
   "cell_type": "code",
   "execution_count": null,
   "metadata": {
    "scrolled": true
   },
   "outputs": [],
   "source": [
    "estimator1.fit(X_train,y_train)\n",
    "y_pred1 = estimator1.predict(X_test)\n",
    "y_pred1_prob = estimator1.predict_proba(X_test)\n",
    "data1 = X_test.copy()\n",
    "data1['result_prediction'] = y_pred1;\n",
    "data1['result_prediction_no'] = pd.DataFrame(y_pred1_prob[0:,0]).iloc[:,0].values\n",
    "data1['result_prediction_yes'] = pd.DataFrame(y_pred1_prob[0:,1]).iloc[:,0].values\n",
    "data1['actual_result'] = y_test;\n",
    "\n",
    "estimator2.fit(X_train,y_train)\n",
    "y_pred2 = estimator2.predict(X_test)\n",
    "y_pred2_prob = estimator2.predict_proba(X_test)\n",
    "data2 = X_test.copy()\n",
    "data2['result_prediction'] = y_pred2;\n",
    "data2['result_prediction_no'] = pd.DataFrame(y_pred2_prob[0:,0]).iloc[:,0].values\n",
    "data2['result_prediction_yes'] = pd.DataFrame(y_pred2_prob[0:,1]).iloc[:,0].values\n",
    "data2['actual_result'] = y_test;\n",
    "\n",
    "threshold = 0.58\n",
    "conditions = [((data1['result_prediction'] != data1['actual_result']) & (((data1['result_prediction'] == 'yes') & (data1['result_prediction_yes'] >= threshold)|(data1['result_prediction'] == 'no') & (data1['result_prediction_no'] >= threshold)))),\n",
    "              (data1['result_prediction'] == 'yes') & (data1['result_prediction_yes'] < threshold) ,\n",
    "              (data1['result_prediction'] == 'yes') & (data1['result_prediction_yes'] >= threshold),\n",
    "              (data1['result_prediction'] == 'no') & (data1['result_prediction_no'] < threshold) ,\n",
    "              (data1['result_prediction'] == 'no') & (data1['result_prediction_no'] >= threshold)]\n",
    "choices = [-1 ,0, -1 + data1['odd_bts'] ,0, -1 + data1['odd_bts_n']]\n",
    "data1['balance'] = np.select(conditions,choices,default=np.nan)\n",
    "\n",
    "conditions = [((data2['result_prediction'] != data2['actual_result']) & (((data2['result_prediction'] == 'yes') & (data2['result_prediction_yes'] >= threshold)|(data2['result_prediction'] == 'no') & (data2['result_prediction_no'] >= threshold)))),\n",
    "              (data2['result_prediction'] == 'yes') & (data2['result_prediction_yes'] < threshold) ,\n",
    "              (data2['result_prediction'] == 'yes') & (data2['result_prediction_yes'] >= threshold) ,\n",
    "              (data2['result_prediction'] == 'no') & (data2['result_prediction_no'] < threshold) ,\n",
    "              (data2['result_prediction'] == 'no') & (data2['result_prediction_no'] >= threshold)]\n",
    "choices = [-1 ,0, -1 + data1['odd_bts'] ,0, -1 + data1['odd_bts_n']]\n",
    "data2['balance'] = np.select(conditions,choices,default=np.nan)\n"
   ]
  },
  {
   "cell_type": "markdown",
   "metadata": {},
   "source": [
    "However no person bets in every single game and selects a few, the ones that the person is most confident about, so for this problem, our predictors choose the games whose prediction it was more than 45% sure of the result, leading to the following results."
   ]
  },
  {
   "cell_type": "code",
   "execution_count": null,
   "metadata": {
    "scrolled": true
   },
   "outputs": [],
   "source": [
    "print('KNN balance: {:.2f} €'.format(data1['balance'].sum()))\n",
    "print('SVM balance: {:.2f} €'.format(data2['balance'].sum()))\n",
    "\n",
    "del data1\n",
    "del data2"
   ]
  },
  {
   "cell_type": "markdown",
   "metadata": {},
   "source": [
    "### 3.4 Predict the whether there will be more or less than 2.5 goals\n",
    "This problem cosists of predicting whether both teams will score a total of more or less than 2.5 goals.\n",
    "For this problem tha dataset consisted of the games played over the course of 5 years, between 2011/2012 until 2016/2017, of the five major european leagues, suming to a total of 10112 games. \n",
    "#### Approach"
   ]
  },
  {
   "cell_type": "markdown",
   "metadata": {},
   "source": [
    "There are two mandatory input features for this problem, the home team and the away team, so we can estimate how offensive and defensive each team is and thus predict if the total of goals scored will be greater than 2.5 or not. Unlike the previous problem, the season of the game will not be included because it had redundancy to the data and we actually got worse score when the season was included than without it. Two relevant features that would make our model better would be, firstly, the odds of each result, because it takes into account external factors not covered by this dataset, and, secondly, the odds of both teams score, because this taken into account the agreesive/offensive part of each team, the only problem is that only 10% of the games have this information, so for the sake of this problem our data will only contain games with full information about the odds of each possible outcome."
   ]
  },
  {
   "cell_type": "code",
   "execution_count": null,
   "metadata": {},
   "outputs": [],
   "source": [
    "selected = ginf[ginf.odd_over.notnull() & ginf.odd_under.notnull()][['fthg','ftag','ht','at','season','odd_over','odd_under','odd_bts','odd_bts_n']].copy()\n",
    "selected.head()"
   ]
  },
  {
   "cell_type": "markdown",
   "metadata": {},
   "source": [
    "In this next section we will process the data in order create a new column that will contain the information of whether a games result in under or over 2.5 goals. The output will take form of (0,1) corresponding to (**under**, **over**)."
   ]
  },
  {
   "cell_type": "code",
   "execution_count": null,
   "metadata": {},
   "outputs": [],
   "source": [
    "selected['total'] = selected['fthg'] + selected['ftag']\n",
    "\n",
    "col = 'total'\n",
    "conditions = [selected[col] < 2.5 , selected[col] > 2.5]\n",
    "choices = ['0','1']\n",
    "selected['total'] = np.select(conditions,choices,default=np.nan)\n",
    "selected = selected.iloc[:,2:]\n",
    "selected = selected[['total','ht','at','odd_over','odd_under','odd_bts','odd_bts_n']]\n",
    "selected"
   ]
  },
  {
   "cell_type": "markdown",
   "metadata": {},
   "source": [
    "Next, we will transform each categorical data, home team and away team, into binary dummies, so that our models can handle them accuretly."
   ]
  },
  {
   "cell_type": "code",
   "execution_count": null,
   "metadata": {},
   "outputs": [],
   "source": [
    "data = pd.get_dummies(selected,columns=['ht','at'])\n",
    "data"
   ]
  },
  {
   "cell_type": "markdown",
   "metadata": {},
   "source": [
    "After the data has been processed we will then define our training and testing set. The testing set will have a size of 25% of the total dataset."
   ]
  },
  {
   "cell_type": "code",
   "execution_count": null,
   "metadata": {},
   "outputs": [],
   "source": [
    "data = data.replace(np.nan, 0)\n",
    "X = data.iloc[:,1:]\n",
    "y = data.iloc[:,:1]\n",
    "y = np.ravel(y)\n",
    "print(X.shape)\n",
    "print(y.shape)\n",
    "X_train, X_test, y_train, y_test = train_test_split(X, y, test_size=0.25, random_state=1)\n",
    "del selected\n",
    "del data"
   ]
  },
  {
   "cell_type": "markdown",
   "metadata": {},
   "source": [
    "From this we will conduct a research thourgh different models and different hyperparameters of each model using a Grid Search with Cross-Validation in order to see which estimators fit better to our dataset."
   ]
  },
  {
   "cell_type": "code",
   "execution_count": null,
   "metadata": {
    "scrolled": false
   },
   "outputs": [],
   "source": [
    "models = []\n",
    "\n",
    "KNNhyperparameters = {'kneighborsclassifier__n_neighbors' : [41,81, 101]}\n",
    "SVMhyperparameters = {'svc__kernel' : ['linear','rbf','poly','sigmoid'],\n",
    "                      'svc__gamma' : ['auto','scale']}\n",
    "MLPhyperparameters = {'mlpclassifier__solver' : ['adam','sgd'] , \n",
    "                      'mlpclassifier__hidden_layer_sizes' : [(30,20,10,5,2) , (5,5,5,5,5)]}\n",
    "RFThyperparameters = {'randomforestclassifier__n_estimators' : [50,100,200]}\n",
    "GPChyperparameters = {'gaussianprocessclassifier__warm_start' : [True,False] , \n",
    "                      'gaussianprocessclassifier__n_restarts_optimizer' : [0,1,2,4,5] , \n",
    "                      'gaussianprocessclassifier__max_iter_predict' : [50,100,200,400]}\n",
    "\n",
    "models.append(('GPC' , GaussianProcessClassifier() , GPChyperparameters ))\n",
    "models.append(('KNN' , KNeighborsClassifier(), KNNhyperparameters))\n",
    "models.append(('SVC' , svm.SVC(), SVMhyperparameters))\n",
    "models.append(('MLP' , MLPClassifier(max_iter = 4000) , MLPhyperparameters ))\n",
    "models.append(('RFT' , RandomForestClassifier() , RFThyperparameters ))\n",
    "\n",
    "for name, model, hyper in models:\n",
    "    pipeline = make_pipeline(model)\n",
    "    clf = GridSearchCV(pipeline, hyper)\n",
    "    clf.fit(X_train,y_train)\n",
    "    y_pred = clf.predict(X_test)\n",
    "    print(\"Model name: \" + name)\n",
    "    #print(\"R2 score: {:.4f}\".format(r2_score(y_test, y_pred)))\n",
    "    #print(\"Mean square error: {:.4f}\".format(mean_squared_error(y_test, y_pred)))\n",
    "    #print('Precision: {:.4f}'.format(precision_score(y_test, y_pred, average='micro')))\n",
    "    #print('Recall: {:.4f}'.format(recall_score(y_test, y_pred, average='micro')))\n",
    "    #print('Accuracy: {:.4f}'.format(accuracy_score(y_test, y_pred)))\n",
    "    print('F-measure: {:.4f}'.format(f1_score(y_test, y_pred, average='micro')))\n",
    "    acc = clf.score(X_test, y_test)\n",
    "    print('The accuracy of classifying is {:.3f} %'.format(acc*100))\n",
    "    print('Confusion Matrix:')\n",
    "    print(confusion_matrix(y_test,y_pred))\n",
    "    print('Report:')\n",
    "    print(classification_report(y_test,y_pred))\n",
    "    print(clf.best_params_)\n",
    "    print(\"\\n\")\n",
    "    \n",
    "del models"
   ]
  },
  {
   "cell_type": "markdown",
   "metadata": {},
   "source": [
    "From this, we can conclude that Gaussian Process Classifier and Suport Vector Machine classifier have the best results, so we will look with more detail into this two. The both have an accuracy of predicting whether there will be more or less than 2.5 goals with close to 60%."
   ]
  },
  {
   "cell_type": "code",
   "execution_count": null,
   "metadata": {},
   "outputs": [],
   "source": [
    "fig, axes = plt.subplots(3, 2, figsize=(10, 15))\n",
    "\n",
    "estimator1 = GaussianProcessClassifier(max_iter_predict = 50, n_restarts_optimizer = 0, warm_start = True)\n",
    "estimator2 = svm.SVC(gamma = 'scale', kernel = 'rbf',probability=True)\n",
    "\n",
    "title = \"Learning Curves (GaussianProcess)\"\n",
    "# Cross validation with 100 iterations to get smoother mean test and train\n",
    "# score curves, each time with 20% data randomly selected as a validation set.\n",
    "cv = ShuffleSplit(n_splits=10, test_size=0.2, random_state=0)\n",
    "\n",
    "plot_learning_curve(estimator1, title, X, y, axes=axes[:, 0], ylim=(0.5, 1.01),\n",
    "                    cv=cv, n_jobs=4)\n",
    "\n",
    "title = r\"Learning Curves (SVM, linear kernel)\"\n",
    "# SVC is more expensive so we do a lower number of CV iterations:\n",
    "cv = ShuffleSplit(n_splits=5, test_size=0.2, random_state=0)\n",
    "plot_learning_curve(estimator2, title, X, y, axes=axes[:, 1], ylim=(0.5, 1.01),\n",
    "                    cv=cv, n_jobs=4)\n",
    "\n",
    "plt.show()"
   ]
  },
  {
   "cell_type": "markdown",
   "metadata": {},
   "source": [
    "However no person bets in every single game and selects a few, the ones that the person is most confident about, so for this problem, our predictors choose the games whose prediction it was more than 53% sure of the result, leading to the following results."
   ]
  },
  {
   "cell_type": "code",
   "execution_count": null,
   "metadata": {},
   "outputs": [],
   "source": [
    "estimator1.fit(X_train,y_train)\n",
    "y_pred1 = estimator1.predict(X_test)\n",
    "y_pred1_prob = estimator1.predict_proba(X_test)\n",
    "data1 = X_test.copy()\n",
    "data1['result_prediction'] = y_pred1;\n",
    "data1['result_prediction_no'] = pd.DataFrame(y_pred1_prob[0:,0]).iloc[:,0].values\n",
    "data1['result_prediction_yes'] = pd.DataFrame(y_pred1_prob[0:,1]).iloc[:,0].values\n",
    "data1['actual_result'] = y_test;\n",
    "\n",
    "estimator2.fit(X_train,y_train)\n",
    "y_pred2 = estimator2.predict(X_test)\n",
    "y_pred2_prob = estimator2.predict_proba(X_test)\n",
    "data2 = X_test.copy()\n",
    "data2['result_prediction'] = y_pred2;\n",
    "data2['result_prediction_no'] = pd.DataFrame(y_pred2_prob[0:,0]).iloc[:,0].values\n",
    "data2['result_prediction_yes'] = pd.DataFrame(y_pred2_prob[0:,1]).iloc[:,0].values\n",
    "data2['actual_result'] = y_test;\n",
    "\n",
    "threshold = 0.53\n",
    "conditions = [((data1['result_prediction'] != data1['actual_result']) & (((data1['result_prediction'] == '1') & (data1['result_prediction_yes'] >= threshold)|(data1['result_prediction'] == '0') & (data1['result_prediction_no'] >= threshold)))),\n",
    "              (data1['result_prediction'] == '1') & (data1['result_prediction_yes'] < threshold) ,\n",
    "              (data1['result_prediction'] == '1') & (data1['result_prediction_yes'] >= threshold),\n",
    "              (data1['result_prediction'] == '0') & (data1['result_prediction_no'] < threshold) ,\n",
    "              (data1['result_prediction'] == '0') & (data1['result_prediction_no'] >= threshold)]\n",
    "choices = [-1 ,0, -1 + data1['odd_over'] ,0, -1 + data1['odd_under']]\n",
    "data1['balance'] = np.select(conditions,choices,default=np.nan)\n",
    "\n",
    "conditions = [((data2['result_prediction'] != data2['actual_result']) & (((data2['result_prediction'] == '1') & (data2['result_prediction_yes'] >= threshold)|(data2['result_prediction'] == '0') & (data2['result_prediction_no'] >= threshold)))),\n",
    "              (data2['result_prediction'] == '1') & (data2['result_prediction_yes'] < threshold) ,\n",
    "              (data2['result_prediction'] == '1') & (data2['result_prediction_yes'] >= threshold) ,\n",
    "              (data2['result_prediction'] == '0') & (data2['result_prediction_no'] < threshold) ,\n",
    "              (data2['result_prediction'] == '0') & (data2['result_prediction_no'] >= threshold)]\n",
    "choices = [-1 ,0, -1 + data2['odd_over'] ,0, -1 + data2['odd_under']]\n",
    "data2['balance'] = np.select(conditions,choices,default=np.nan)"
   ]
  },
  {
   "cell_type": "code",
   "execution_count": null,
   "metadata": {},
   "outputs": [],
   "source": [
    "print('KNN balance: {:.2f} €'.format(data1['balance'].sum()))\n",
    "print('SVM balance: {:.2f} €'.format(data2['balance'].sum()))\n",
    "del data1\n",
    "del data2\n",
    "del estimator1\n",
    "del estimator2"
   ]
  },
  {
   "cell_type": "markdown",
   "metadata": {},
   "source": [
    "As we can see the Support Vector Machine ended up with the most positive balance, compared to the KNN. So we would pick the SVM to be our predictor"
   ]
  },
  {
   "cell_type": "markdown",
   "metadata": {},
   "source": [
    "### 3.5 Predict whether an attemp will result in a save\n",
    "This problem consists of predciting if a striker's attpempt will result in a goalkeeper save. \n",
    "An important characteristic to evaluate a team is its defense capabilities. In order to evaluate a team's defense, we can, as we do in this problem, predict the result of a shot on target. This way, we are able to find any vulnerabilities that a team's set of goalkeepers may have (location of the striker who shot the ball, its body part that made the shot, location of the goal where the ball was headed, etc), and compare several teams defensive power and liabilities.\n",
    "#### Approach"
   ]
  },
  {
   "cell_type": "markdown",
   "metadata": {},
   "source": [
    "For this problem the dataset consisted of the games played over the course of 5 years, between 2011/2012 until 2016/2017, of the five major european leagues, suming to a total of 10112 games. We consider all of the shots on target of the games, summing up to a total of 50709 shots."
   ]
  },
  {
   "cell_type": "markdown",
   "metadata": {},
   "source": [
    "#### Experimental Evaluation"
   ]
  },
  {
   "cell_type": "code",
   "execution_count": null,
   "metadata": {},
   "outputs": [],
   "source": [
    "shots = events[(events.event_type==1)]\n",
    "shots_on_target = shots[(shots.shot_outcome==1)].copy()\n",
    "shots_on_target['is_save'] = 1 - shots_on_target['is_goal']\n",
    "shots_on_target.head()\n",
    "del ginf\n",
    "del shots"
   ]
  },
  {
   "cell_type": "markdown",
   "metadata": {},
   "source": [
    "For an initial approach, we select all of the shots that are made on goal. We add a new column \"is_save\" that is the opposite of the column \"is_goal\". We add this column so that we can ease the analysis and process of the data."
   ]
  },
  {
   "cell_type": "code",
   "execution_count": null,
   "metadata": {
    "scrolled": true
   },
   "outputs": [],
   "source": [
    "shots_prediction = shots_on_target.iloc[:,[-1,-6,-5,-4,-3, -2]]\n",
    "dummies = pd.get_dummies(shots_prediction, columns=['location', 'bodypart','assist_method', 'situation'])\n",
    "dummies.columns = ['is_save', 'fast_break','loc_centre_box', 'loc_diff_angle_lr', 'diff_angle_left', 'diff_angle_right', 'left_side_box', 'left_side_6ybox', 'right_side_box', 'right_side_6ybox', 'close_range', 'penalty', 'outside_box', 'long_range', 'more_35y', 'more_40y', 'not_recorded', 'right_foot', 'left_foot', 'header', 'no_assist', 'assist_pass', 'assist_cross', 'assist_header', 'assist_through_ball', 'open_play', 'set_piece', 'corner', 'free_kick']\n",
    "dummies.head()\n",
    "del shots_prediction\n",
    "del shots_on_target"
   ]
  },
  {
   "cell_type": "markdown",
   "metadata": {},
   "source": [
    "We get 28 columns as part of the input and we get 1, \"is_save\" for the output.\n",
    "Next we will split the data into the training one and the test one, so we can train our model."
   ]
  },
  {
   "cell_type": "code",
   "execution_count": null,
   "metadata": {},
   "outputs": [],
   "source": [
    "X = dummies.iloc[:,1:]\n",
    "y = dummies.iloc[:,0]\n",
    "print(X.shape)\n",
    "print(y.shape)\n",
    "X_train, X_test, y_train, y_test = train_test_split(X, y, test_size=0.35, random_state=1)\n",
    "del dummies\n",
    "X_train"
   ]
  },
  {
   "cell_type": "code",
   "execution_count": null,
   "metadata": {},
   "outputs": [],
   "source": [
    "def checkClf(name,clf):\n",
    "    clf.fit(X_train,y_train)\n",
    "    y_pred = clf.predict_proba(X_test)\n",
    "    print(\"Model name: \" + name)\n",
    "    #print(\"R2 score: {:.4f}\".format(r2_score(y_test, y_pred)))\n",
    "    #print(\"Mean square error: {:.4f}\".format(mean_squared_error(y_test, y_pred)))\n",
    "    #print('Precision: {:.4f}'.format(precision_score(y_test, y_pred, average='micro')))\n",
    "    #print('Recall: {:.4f}'.format(recall_score(y_test, y_pred, average='micro')))\n",
    "    #print('Accuracy: {:.4f}'.format(accuracy_score(y_test, y_pred)))\n",
    "    predict = clf.predict(X_test)\n",
    "    auc_roc = roc_auc_score(y_test, y_pred[:,1])\n",
    "    print('Our MLP classifier obtains an AUC-ROC of {:.4f}.'.format(auc_roc))\n",
    "    #print('F-measure: {:.4f}'.format(f1_score(y_test, y_pred.round(), average='micro')))\n",
    "    print('The accuracy of classifying is {:.3f} %'.format(clf.score(X_test, y_test)*100))\n",
    "    print('Confusion Matrix:')\n",
    "    #print(confusion_matrix(y_test,y_pred))\n",
    "    print(confusion_matrix(y_test,predict))\n",
    "    print('Report:')\n",
    "    #print(classification_report(y_test,y_pred))\n",
    "    print(classification_report(y_test,predict))\n",
    "    print(\"\\n\")\n",
    "checkClf('KNN',KNeighborsClassifier(n_neighbors=91, algorithm='auto',weights='uniform'))\n",
    "checkClf('SVC' , svm.SVC(kernel='linear', probability=True))\n",
    "checkClf('RFC' , RandomForestClassifier(n_estimators=200))\n",
    "checkClf('MLP' , MLPClassifier(max_iter = 4000,solver='sgd'))"
   ]
  },
  {
   "cell_type": "markdown",
   "metadata": {},
   "source": [
    "The SVC model has, slightly, the best accuracy of the tested models. However, its AUC-ROC is the worst among them. Because of the balance between accuracy and AUC-ROC, we chose the RandomForestClassifier has the best algorithm to use."
   ]
  },
  {
   "cell_type": "code",
   "execution_count": null,
   "metadata": {},
   "outputs": [],
   "source": [
    "### 3.5.1 Predicting the gap between expected saves and predicted saves"
   ]
  },
  {
   "cell_type": "code",
   "execution_count": null,
   "metadata": {},
   "outputs": [],
   "source": [
    "clf = RandomForestClassifier(n_estimators=200)\n",
    "clf.fit(X_test, y_test)\n",
    "\n",
    "y_pred = clf.predict_proba(X_test)\n",
    "\n",
    "predictions = X_test.copy()\n",
    "predictions['true_saves'] = y_test\n",
    "predictions['expected_saves'] = y_pred[:,1]\n",
    "predictions['difference'] = predictions['expected_saves'] - predictions['true_saves']\n",
    "predictions = predictions.iloc[:,28:31]\n",
    "\n",
    "ypred2 = clf.predict_proba(X_train)\n",
    "predictions_train = X_train.copy()\n",
    "predictions_train['true_saves'] = y_train\n",
    "predictions_train['expected_saves'] = ypred2[:,1]\n",
    "predictions_train['difference'] = predictions_train['expected_saves'] - predictions_train['true_saves']\n",
    "predictions_train = predictions_train.iloc[:,28:31]\n",
    "all_predictions = pd.concat([predictions, predictions_train], axis=0)\n",
    "events2 = pd.concat([events, all_predictions], axis=1)\n",
    "shots2 = events2[events2.event_type==1]"
   ]
  },
  {
   "cell_type": "code",
   "execution_count": null,
   "metadata": {},
   "outputs": [],
   "source": [
    "xG_Teams = shots2[['opponent', 'event_type', 'true_saves', 'expected_saves', 'difference']].groupby('opponent').sum()\n",
    "xG_Teams.columns = ['n_shots', 'saves_made', 'expected_saves', 'difference']\n",
    "xG_Teams.sort_values(['difference', 'saves_made'])"
   ]
  },
  {
   "cell_type": "markdown",
   "metadata": {},
   "source": [
    "Teams with the biggest gap between the predicted saves and the expected saves (both negative and positive gaps), showing where our model has the biggest discrepancies."
   ]
  },
  {
   "cell_type": "markdown",
   "metadata": {},
   "source": [
    "### 3.5.2 Predicting the teams with more/less expected saves"
   ]
  },
  {
   "cell_type": "code",
   "execution_count": null,
   "metadata": {},
   "outputs": [],
   "source": [
    "xG_Teams.sort_values(['expected_saves'], ascending=False)"
   ]
  },
  {
   "cell_type": "markdown",
   "metadata": {},
   "source": [
    "This helps to understand which team has more goalkeeper interventions, but doesn't necessarily mean that the team has the best defense. The number of expected saves heavily depends on the number of games played by that team. Using a ratio, we are able to see more clearly each teams' defense capability."
   ]
  },
  {
   "cell_type": "markdown",
   "metadata": {},
   "source": [
    "### 3.5.3 Predicting the teams' ratio of expected saves per shots on target"
   ]
  },
  {
   "cell_type": "code",
   "execution_count": null,
   "metadata": {},
   "outputs": [],
   "source": [
    "xG_Teams['xG_per_shot_ratio'] = xG_Teams['expected_saves'] / xG_Teams['n_shots']\n",
    "xG_Teams[xG_Teams.n_shots>150].sort_values(['xG_per_shot_ratio', 'saves_made'])"
   ]
  },
  {
   "cell_type": "markdown",
   "metadata": {},
   "source": [
    "Thist determines an average probability of a save being made to a shot on target (the number of shots must be bigger than 150 to have significant data). This is one of the most significant analysis made into evaluating the defensive power of a team."
   ]
  },
  {
   "cell_type": "markdown",
   "metadata": {},
   "source": [
    "### 3.5.4 Predicting the teams' ratio of expected saves per shots on target outside the area"
   ]
  },
  {
   "cell_type": "code",
   "execution_count": null,
   "metadata": {},
   "outputs": [],
   "source": [
    "outside_area = events2[(events2.event_type==1) & (events2.location==15)]\n",
    "oA_Teams = outside_area[['opponent', 'event_type', 'true_saves', 'expected_saves', 'difference']].groupby('opponent').sum()\n",
    "oA_Teams.columns = ['n_shots', 'saves_made', 'expected_saves', 'difference']\n",
    "oA_Teams['ratio'] = oA_Teams['expected_saves'] / oA_Teams['n_shots']\n",
    "oA_Teams.sort_values(['ratio'])"
   ]
  },
  {
   "cell_type": "markdown",
   "metadata": {},
   "source": [
    "This prediction is highly valuable because it can help finding out some team's defensive liablilties, such as the most vulnerable shot areas. In this case, we use the shots made outside the area because it is a pretty common place to shoot. "
   ]
  },
  {
   "cell_type": "markdown",
   "metadata": {},
   "source": [
    "## 4. Conclusion"
   ]
  },
  {
   "cell_type": "markdown",
   "metadata": {},
   "source": [
    "Football is unpredictable. And with that unpredictability comes the toughness of creating models that can predict its events' outcome with high accuracy. Also, dataset used was a little bit incomplete, we needed it to be more in-depth or use different datasets (more complete) to achieve better results.\n",
    "With this being said, we are satisfied with the results obtained in this environment, especially in the case of Expected Saves (3.5). This model allowed us to predict with great accuracy one of the most important parts when it comes to evaluating a team, its goalkeepers (and defense consequently).\n",
    "We were also capable of verifying the impact that distinct models and algorithms used have in the performance of the previsions made.\n",
    "In short, we believe that the project was concluded with success, accomplishing all the goals (just in like in football) and surpassing all obstacles."
   ]
  },
  {
   "cell_type": "markdown",
   "metadata": {},
   "source": [
    "## References"
   ]
  },
  {
   "cell_type": "markdown",
   "metadata": {},
   "source": [
    "Alin Secareanu, Football Events, [https://www.kaggle.com/secareanualin/football-events]. Accessed on 25/05/2020 <br>\n",
    "Gabriel Manfredi, Expected Goals & Player Analysis, [https://www.kaggle.com/gabrielmanfredi/expected-goals-player-analysis]. Accessed on 24/05/2020 <br>\n",
    "Notes from the Theoretical Classes of Inteligência Artifical. Accessed on 25/05/2020 <br>\n"
   ]
  },
  {
   "cell_type": "code",
   "execution_count": null,
   "metadata": {},
   "outputs": [],
   "source": []
  }
 ],
 "metadata": {
  "kernelspec": {
   "display_name": "Python 3",
   "language": "python",
   "name": "python3"
  },
  "language_info": {
   "codemirror_mode": {
    "name": "ipython",
    "version": 3
   },
   "file_extension": ".py",
   "mimetype": "text/x-python",
   "name": "python",
   "nbconvert_exporter": "python",
   "pygments_lexer": "ipython3",
   "version": "3.8.2"
  }
 },
 "nbformat": 4,
 "nbformat_minor": 4
}
