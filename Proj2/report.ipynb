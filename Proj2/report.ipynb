{
 "cells": [
  {
   "cell_type": "markdown",
   "metadata": {},
   "source": [
    "# Machine Learning - Football Events\n",
    "### Project 2\n",
    "\n",
    "#### Authors : \n",
    "* Gustavo Torres, up201706473@fe.up.pt\n",
    "* Joaquim Rodrigues, up201704844@fe.up.pt\n",
    "* Miguel Rosa\n"
   ]
  },
  {
   "cell_type": "markdown",
   "metadata": {},
   "source": [
    "## Abstract\n",
    "\n",
    "This project aims to build predictive machine learning models, with focus on classifiers and apply them to a football dataset, with the use of supervised learning. Machine learning consist in the capability of machines recognize certain patterns in the data with being previously programmed. Predictive models allow to predict the certaing features about the data given an input. Football is a rather random competition where a team can win a match and right after lose against the exact same team in the same conditions. Combining the two of this is this project's objective, combine predictive machine learning models with the randomness of football and it's events, to be able to predict several features of football games and events.\n",
    "\n"
   ]
  },
  {
   "cell_type": "markdown",
   "metadata": {},
   "source": [
    "## 1. Introduction\n",
    "\n",
    "In the context of curricular unit IART, Inteligncia Artificial, of MIEIC, Mestrado Integrado em Informática e Computação, our group were asked to make a project about Machine Learning, being able to choose from several options  where we would like to focus on. The group decision was to work on a classification problem using supervised learning, where the goals is to learn and classify/predict several features about the data, given input features. There was suggestions about the dataset we could work on, and we choose to work in a dataset about football games and its events.\n",
    "\n",
    "Supervised learning is a major branch of machine learning algorithms, possibly the most used as of the writing of this paper, where the model learns by example and from there it can predict, based on previous seen data, the output of new data. During the training the models is fed with input data and its associated output, learning and identifying complex patterns in the data and to what output it maps to, so it can predict unseen data.\n",
    "\n",
    "Supervised learning can be divided into 2 categories: classification and regression. This paper focus majorly in classification where the models tries to correctly identify to which class/category the data maps to. One of the most used approches to classification consists od binary data, whether a feature is true or not, for example, whether a shoot is goal or not. In this paper, several classifier models are used, with particular emphasis on K-Nearest Neighbors, Suport Vector Machines, Random Forest Classifiers and Neural Networks. In regression the models tries to map the feature in a continuos space, and can be used to predict quantities or used in statistics.\n",
    "\n",
    "The dataset choosen is about football because it is a theme our group is interested on and would make our analysis more meaningful. Football is possibly the most popular sport around the world and like many sports, it is inherently random, its result are very unpredictable and so its events, which make the sport so interesting to so many around the world, nevertheless it is the sport the most people bet on.\n",
    "\n",
    "Firstly, an exploratory dataset analysis, including class distribuion, values range and class analysis, was made in order to know the information avaialble and get familiar with the data we would work on and to identify possible problems where we could apply supervised learning and predict features from the dataset.\n",
    "\n",
    "After the problems have been choosen, a data preprocessing was made in order to select meaning and useful features for the problem we were trying to predict, from handling NULL values, standardizing data and even creating new tables to hold new processed information (data transform). Now it was possible to train our classifier models and compare its result against the test data, using several metrics and erros.\n",
    "\n",
    "Finally graphs and tables were made to support the results and compare the models.\n"
   ]
  },
  {
   "cell_type": "markdown",
   "metadata": {},
   "source": [
    "## 2. Dataset\n",
    "\n",
    "The dataset choosen is about football games and its events, and can be accesed [here](https://www.kaggle.com/secareanualin/football-events). It is hard to find a good database about football games and event, containg so many and so detailed information. The information was parsed using a regex from the description of the event resulting in a total 18 features about each game and 22 about each event. Some features are dependent on other features so they only have a value associated dependeding on the value of other features, for exemple, the shot_outcome only has a value when the event_type is an attemp (value  = 1), otherwise it is NULL.\n",
    "\n",
    "The dataset consisting of a total of 10112 games and 941009 events, during 5 years, from the season 2011/2012 to 2016/2017 of the 5 major european leagues, England, Spain, France, Germany, Italy.\n",
    "\n",
    "There are two files, one with each of the available games, and other one with each of the major events of the previous games. Each game has a unique identifier that is shared with each event of that game, making it possible to map an event to a game and even joing data as needed."
   ]
  },
  {
   "cell_type": "code",
   "execution_count": 1,
   "metadata": {},
   "outputs": [],
   "source": [
    "import numpy as np\n",
    "import pandas as pd\n",
    "\n",
    "import seaborn as sns\n",
    "import matplotlib.pyplot as plt\n",
    "%matplotlib inline\n",
    "\n",
    "#load data from files\n",
    "events = pd.read_csv('./data/' + 'events.csv')\n",
    "ginf = pd.read_csv('./data/' + 'ginf.csv')"
   ]
  },
  {
   "cell_type": "code",
   "execution_count": 2,
   "metadata": {},
   "outputs": [
    {
     "name": "stdout",
     "output_type": "stream",
     "text": [
      "<class 'pandas.core.frame.DataFrame'>\n",
      "RangeIndex: 941009 entries, 0 to 941008\n",
      "Data columns (total 22 columns):\n",
      " #   Column         Non-Null Count   Dtype  \n",
      "---  ------         --------------   -----  \n",
      " 0   id_odsp        941009 non-null  object \n",
      " 1   id_event       941009 non-null  object \n",
      " 2   sort_order     941009 non-null  int64  \n",
      " 3   time           941009 non-null  int64  \n",
      " 4   text           941009 non-null  object \n",
      " 5   event_type     941009 non-null  int64  \n",
      " 6   event_type2    214293 non-null  float64\n",
      " 7   side           941009 non-null  int64  \n",
      " 8   event_team     941009 non-null  object \n",
      " 9   opponent       941009 non-null  object \n",
      " 10  player         880009 non-null  object \n",
      " 11  player2        291310 non-null  object \n",
      " 12  player_in      51715 non-null   object \n",
      " 13  player_out     51738 non-null   object \n",
      " 14  shot_place     227459 non-null  float64\n",
      " 15  shot_outcome   228498 non-null  float64\n",
      " 16  is_goal        941009 non-null  int64  \n",
      " 17  location       467067 non-null  float64\n",
      " 18  bodypart       229185 non-null  float64\n",
      " 19  assist_method  941009 non-null  int64  \n",
      " 20  situation      229137 non-null  float64\n",
      " 21  fast_break     941009 non-null  int64  \n",
      "dtypes: float64(6), int64(7), object(9)\n",
      "memory usage: 125.6+ MB\n"
     ]
    }
   ],
   "source": [
    "events.info()"
   ]
  },
  {
   "cell_type": "code",
   "execution_count": 3,
   "metadata": {},
   "outputs": [
    {
     "name": "stdout",
     "output_type": "stream",
     "text": [
      "<class 'pandas.core.frame.DataFrame'>\n",
      "RangeIndex: 10112 entries, 0 to 10111\n",
      "Data columns (total 18 columns):\n",
      " #   Column     Non-Null Count  Dtype  \n",
      "---  ------     --------------  -----  \n",
      " 0   id_odsp    10112 non-null  object \n",
      " 1   link_odsp  10112 non-null  object \n",
      " 2   adv_stats  10112 non-null  bool   \n",
      " 3   date       10112 non-null  object \n",
      " 4   league     10112 non-null  object \n",
      " 5   season     10112 non-null  int64  \n",
      " 6   country    10112 non-null  object \n",
      " 7   ht         10112 non-null  object \n",
      " 8   at         10112 non-null  object \n",
      " 9   fthg       10112 non-null  int64  \n",
      " 10  ftag       10112 non-null  int64  \n",
      " 11  odd_h      10112 non-null  float64\n",
      " 12  odd_d      10112 non-null  float64\n",
      " 13  odd_a      10112 non-null  float64\n",
      " 14  odd_over   977 non-null    float64\n",
      " 15  odd_under  977 non-null    float64\n",
      " 16  odd_bts    977 non-null    float64\n",
      " 17  odd_bts_n  977 non-null    float64\n",
      "dtypes: bool(1), float64(7), int64(3), object(7)\n",
      "memory usage: 1.1+ MB\n"
     ]
    }
   ],
   "source": [
    "ginf.info()"
   ]
  },
  {
   "cell_type": "code",
   "execution_count": 4,
   "metadata": {},
   "outputs": [],
   "source": [
    "## Utility function to plot bar plots with similar configuration\n",
    "def plot_barplot(data, x_ticks, x_labels, y_labels, title, color='muted', num=10, figsize=8):\n",
    "    ## Set standard style as whitegrid (this also could be customized via param)\n",
    "    sns.set_style(\"whitegrid\")\n",
    "    ## Set a figure with custom figsize\n",
    "    plt.figure(figsize=(num, figsize))\n",
    "    ## Plottin data\n",
    "    ax = sns.barplot(x = [j for j in range(0, len(data))], y=data.values, palette=color)\n",
    "    ## Setting ticks extracted from data indexes\n",
    "    ax.set_xticks([j for j in range(0, len(data))])\n",
    "    ## Set labels of the chart\n",
    "    ax.set_xticklabels(x_ticks, rotation=45)\n",
    "    ax.set(xlabel = x_labels, ylabel = y_labels, title = title)\n",
    "    ax.plot();\n",
    "    plt.tight_layout()"
   ]
  },
  {
   "cell_type": "code",
   "execution_count": 5,
   "metadata": {},
   "outputs": [
    {
     "data": {
      "image/png": "[encoded data removed]",
      "text/plain": [
       "<Figure size 2880x288 with 2 Axes>"
      ]
     },
     "metadata": {
      "needs_background": "light"
     },
     "output_type": "display_data"
    }
   ],
   "source": [
    "## Shot place goals\n",
    "g_shot_place = pd.Series(['Bottom left corner','Bottom right corner','Centre of the goal','Top left corner','Top right corner'], index=[[item for item in range(1, 6)]])\n",
    "## Shot place not goals\n",
    "ng_shot_place = pd.Series(['Bottom left corner','Bottom right corner','Centre of the goal','Top centre of the goal','Top left corner','Top right corner'], index=[[item for item in range(1, 7)]])\n",
    "\n",
    "on_target_attemps = events[(events.event_type == 1) & (events.shot_outcome == 1)]\n",
    "goal_shot_places = on_target_attemps[(on_target_attemps.is_goal == 1)].iloc[:,[-8]].groupby('shot_place')['shot_place'].count()\n",
    "not_goal_shot_places = on_target_attemps[(on_target_attemps.is_goal == 0)].iloc[:,[-8]].groupby('shot_place')['shot_place'].count()\n",
    "\n",
    "plt.figure(figsize=(40, 4))\n",
    "plt.subplot(131)\n",
    "plt.bar(g_shot_place, goal_shot_places.ravel(),color=(0.2,0.6,0.2,1))\n",
    "plt.xlabel('Place of goal',fontweight='bold', color = 'orange', fontsize='17')\n",
    "plt.subplot(132)\n",
    "plt.bar(ng_shot_place, not_goal_shot_places.ravel(),color=(0.6,0.2,0.2,1))\n",
    "plt.xlabel('Place of missed goal',fontweight='bold', color = 'orange', fontsize='17')\n",
    "del g_shot_place\n",
    "del ng_shot_place"
   ]
  },
  {
   "cell_type": "code",
   "execution_count": 6,
   "metadata": {},
   "outputs": [
    {
     "data": {
      "image/png": "[encoded data removed]",
      "text/plain": [
       "<Figure size 1440x288 with 3 Axes>"
      ]
     },
     "metadata": {
      "needs_background": "light"
     },
     "output_type": "display_data"
    }
   ],
   "source": [
    "bodypart = pd.Series(['Right foot','Left foot','Head'], index=[[item for item in range(1, 4)]])\n",
    "goal_bodypart = on_target_attemps[(on_target_attemps.is_goal == 1)].iloc[:,[-4]].groupby('bodypart')['bodypart'].count()\n",
    "not_goal_bodypart = on_target_attemps[(on_target_attemps.is_goal == 0)].iloc[:,[-4]].groupby('bodypart')['bodypart'].count()\n",
    "goal_bodypart/not_goal_bodypart\n",
    "\n",
    "plt.figure(figsize=(20, 4))\n",
    "plt.subplot(131)\n",
    "plt.bar(bodypart, goal_bodypart.ravel(),color=(0.2,0.6,0.2,1))\n",
    "plt.xlabel('Body part goal',fontweight='bold', color = 'orange', fontsize='17')\n",
    "plt.subplot(132)\n",
    "plt.bar(bodypart, not_goal_bodypart.ravel(),color=(0.6,0.2,0.2,1))\n",
    "plt.xlabel('Body part miss',fontweight='bold', color = 'orange', fontsize='17')\n",
    "plt.subplot(133)\n",
    "plt.bar(bodypart, (goal_bodypart/not_goal_bodypart).ravel(),color=(0.2,0.2,0.6,1))\n",
    "plt.xlabel('Body part goal/miss ration',fontweight='bold', color = 'orange', fontsize='17')\n",
    "del goal_bodypart\n",
    "del not_goal_bodypart"
   ]
  },
  {
   "cell_type": "code",
   "execution_count": 7,
   "metadata": {
    "scrolled": true
   },
   "outputs": [],
   "source": [
    "leagues = pd.Series(['Bundesliga' , 'Premier League' , 'League 1', ' Serie A' , 'La Liga'], index=[[item for item in range(1, 6)]])\n",
    "merge = events.merge(ginf, how=\"left\");\n",
    "fouls_per_league = merge[(merge.event_type == 3)].groupby('league')['league'].count()\n",
    "cards_per_league = merge[(merge.event_type == 4) |(merge.event_type == 5) | (merge.event_type == 6)].groupby('league')['league'].count()\n",
    "games_per_league = ginf.groupby('league')['league'].count()\n",
    "fouls_per_game_per_league = fouls_per_league/games_per_league\n",
    "cards_per_game_per_league = cards_per_league/games_per_league\n"
   ]
  },
  {
   "cell_type": "code",
   "execution_count": 8,
   "metadata": {
    "scrolled": true
   },
   "outputs": [
    {
     "data": {
      "image/png": "[encoded data removed]",
      "text/plain": [
       "<Figure size 432x288 with 1 Axes>"
      ]
     },
     "metadata": {
      "needs_background": "light"
     },
     "output_type": "display_data"
    }
   ],
   "source": [
    "\n",
    "x = np.arange(len(leagues))  # the label locations\n",
    "width = 0.35  # the width of the bars\n",
    "\n",
    "fig, ax = plt.subplots()\n",
    "rects1 = ax.bar(x - width/2, fouls_per_game_per_league, width , label='Fouls per game')\n",
    "rects2 = ax.bar(x + width/2, cards_per_game_per_league, width, label='Cards per game')\n",
    "\n",
    "# Add some text for labels, title and custom x-axis tick labels, etc.\n",
    "ax.set_ylabel('Frequency')\n",
    "ax.set_title('Number of cards and fouls per leagues')\n",
    "ax.set_xticks(x)\n",
    "ax.set_xticklabels(leagues)\n",
    "ax.legend()\n",
    "\n",
    "def autolabel(rects):\n",
    "    \"\"\"Attach a text label above each bar in *rects*, displaying its height.\"\"\"\n",
    "    for rect in rects:\n",
    "        height = round(rect.get_height(),2)\n",
    "        ax.annotate('{}'.format(height),\n",
    "                    xy=(rect.get_x() + rect.get_width() / 2, height),\n",
    "                    xytext=(0, 3),  # 3 points vertical offset\n",
    "                    textcoords=\"offset points\",\n",
    "                    ha='center', va='bottom')\n",
    "autolabel(rects1)\n",
    "autolabel(rects2)\n",
    "\n",
    "fig.tight_layout()\n",
    "\n",
    "plt.show()\n",
    "#delete\n",
    "del fouls_per_game_per_league\n",
    "del cards_per_game_per_league"
   ]
  },
  {
   "cell_type": "code",
   "execution_count": 9,
   "metadata": {
    "scrolled": true
   },
   "outputs": [
    {
     "name": "stdout",
     "output_type": "stream",
     "text": [
      "[0 1 2 3 4]\n"
     ]
    },
    {
     "data": {
      "image/png": "[encoded data removed]",
      "text/plain": [
       "<Figure size 432x288 with 1 Axes>"
      ]
     },
     "metadata": {
      "needs_background": "light"
     },
     "output_type": "display_data"
    }
   ],
   "source": [
    "seasons = ['2012' , '2013' , '2014' , '2015' , '2016' , '2017'];\n",
    "\n",
    "upsets = ginf[((ginf.fthg > ginf.ftag) & (ginf.odd_h/ginf.odd_a > 1.8)) | ((ginf.fthg < ginf.ftag) & (ginf.odd_a/ginf.odd_h > 1.8))]\n",
    "\n",
    "x = np.arange(len(leagues))  # the label locations\n",
    "print(x)\n",
    "width = 0.55  # the width of the bars\n",
    "\n",
    "fig, ax = plt.subplots()\n",
    "\n",
    "i = 0\n",
    "for season in seasons:\n",
    "    upsets_per_season_per_league = upsets[upsets.season == int(season)].groupby('league')['league'].count()\n",
    "    rects = ax.bar(x - width/2 + i*width/len(season) , upsets_per_season_per_league, width / len(season), label=season)\n",
    "    autolabel(rects)\n",
    "    i = i + 1\n",
    "    \n",
    "    \n",
    "ax.set_ylabel('Frequency')\n",
    "ax.set_title('Number of upsets per league per year')\n",
    "ax.set_xticks(x)\n",
    "ax.set_xticklabels(leagues)\n",
    "ax.legend()\n",
    "\n",
    "fig.tight_layout()\n",
    "\n",
    "plt.show()\n",
    "del upsets"
   ]
  },
  {
   "cell_type": "code",
   "execution_count": 10,
   "metadata": {
    "scrolled": false
   },
   "outputs": [
    {
     "data": {
      "text/plain": [
       "Text(0.5, 0, 'Average gouls per game')"
      ]
     },
     "execution_count": 10,
     "metadata": {},
     "output_type": "execute_result"
    },
    {
     "data": {
      "image/png": "[encoded data removed]",
      "text/plain": [
       "<Figure size 2880x432 with 2 Axes>"
      ]
     },
     "metadata": {
      "needs_background": "light"
     },
     "output_type": "display_data"
    }
   ],
   "source": [
    "ginf_extra = ginf.copy()\n",
    "ginf_extra['dif'] = ginf_extra['fthg'] - ginf_extra['ftag']\n",
    "ginf_extra['total'] = ginf_extra['fthg'] + ginf_extra['ftag']\n",
    "\n",
    "conditions = [ginf_extra['dif'] > 0 , ginf_extra['dif'] == 0, ginf_extra['dif'] < 0]\n",
    "choices = [1 , 0 , -1]\n",
    "ginf_extra['result'] = np.select(conditions,choices,default=np.nan)\n",
    "homeResult = ginf_extra.groupby('result')['result'].count()\n",
    "\n",
    "gouls_per_league_per_game = ginf_extra[['total','league']].groupby('league')['total'].sum()/games_per_league\n",
    "\n",
    "results = ['Lose' , 'Draw' , 'Win']\n",
    "\n",
    "plt.figure(figsize=(40, 6))\n",
    "plt.subplot(131)\n",
    "plt.bar(results, homeResult.ravel(),color=(0.2,0.6,0.2,1))\n",
    "plt.xlabel('Result of the home team',fontweight='bold', color = 'orange', fontsize='17')\n",
    "plt.subplot(132)\n",
    "plt.bar(leagues, gouls_per_league_per_game.ravel(),color=(0.2,0.6,0.2,1))\n",
    "plt.xlabel('Average gouls per game',fontweight='bold', color = 'orange', fontsize='17')\n",
    "\n"
   ]
  },
  {
   "cell_type": "code",
   "execution_count": 11,
   "metadata": {
    "scrolled": false
   },
   "outputs": [],
   "source": [
    "shots = events[events.event_type == 1]"
   ]
  },
  {
   "cell_type": "code",
   "execution_count": 12,
   "metadata": {
    "scrolled": true
   },
   "outputs": [],
   "source": [
    "most_offensive_player = shots.groupby('player')['player'].count().sort_values(ascending = False)\n",
    "most_effective_player = (shots[shots.is_goal == 1].groupby('player')['player'].count().where(lambda x : x>20).dropna()/most_offensive_player).dropna().sort_values(ascending = False)"
   ]
  },
  {
   "cell_type": "code",
   "execution_count": 13,
   "metadata": {},
   "outputs": [
    {
     "data": {
      "text/plain": [
       "player\n",
       "gonzalo rodriguez      0.305556\n",
       "bas dost               0.262774\n",
       "dario cvitanich        0.258621\n",
       "javier hernandez       0.250000\n",
       "miroslav klose         0.248780\n",
       "                         ...   \n",
       "philippe coutinho      0.073892\n",
       "lorenzo insigne        0.071066\n",
       "pedro leon             0.069307\n",
       "radja nainggolan       0.055556\n",
       "alessandro diamanti    0.054404\n",
       "Name: player, Length: 291, dtype: float64"
      ]
     },
     "execution_count": 13,
     "metadata": {},
     "output_type": "execute_result"
    }
   ],
   "source": [
    "most_effective_player"
   ]
  },
  {
   "cell_type": "markdown",
   "metadata": {},
   "source": [
    "After an analysis over the dataset and an acknowkledge of the distribution, meaning and relations of its features has been done, the group decided to look with more detail into de following predictive problems:\n",
    "* Predict the winning team\n",
    "* Predict the moment of the first goal\n",
    "* Predict whether both teams score\n",
    "* Predict whether there will be more or less than 2.5 goals\n",
    "* Predict whether an attemp will result in a goal\n",
    "* Predict whether an attemp will result in a save\n",
    "\n",
    "These problems were choosen because ofthe existence of data and features alligned with the problem we are trying to build a model and predict and because of its meaning. The first 4 problems are classical betting options, where many people bet in these options. The last two problems rely on the prediction of whether an attemp will result in goal or not, also known as Expected Goals Model, or whether an attemp will result in a save or not, based in the previous model, allowing then to further data analysis about players and teams."
   ]
  },
  {
   "cell_type": "markdown",
   "metadata": {},
   "source": [
    "## 3. Problems\n",
    "\n",
    "In this section it will be discussed the approach to each of the problems mentioned previously and an evaluation of the results obtain. There is a different approach to each of these problems given that they predict different features and different data can be extracted from each problem, which will be discussed. Several models were compared in order to find the one that fits better to a given problem."
   ]
  },
  {
   "cell_type": "code",
   "execution_count": 14,
   "metadata": {},
   "outputs": [],
   "source": [
    "#import necessary libraries\n",
    "import pandas as pd\n",
    "import numpy as np\n",
    "\n",
    "from sklearn import preprocessing\n",
    "\n",
    "import sklearn\n",
    "from sklearn.pipeline import make_pipeline\n",
    "from sklearn.model_selection import GridSearchCV\n",
    "from sklearn.model_selection import train_test_split\n",
    "from sklearn.model_selection import learning_curve\n",
    "from sklearn.model_selection import ShuffleSplit\n",
    "from sklearn.linear_model import LogisticRegression\n",
    "from sklearn import tree\n",
    "from sklearn.tree import DecisionTreeClassifier\n",
    "from sklearn.ensemble import RandomForestRegressor\n",
    "from sklearn.ensemble import RandomForestClassifier\n",
    "from sklearn.neural_network import MLPClassifier\n",
    "from sklearn.neighbors import KNeighborsClassifier\n",
    "from sklearn import svm\n",
    "\n",
    "from sklearn.metrics import average_precision_score\n",
    "from sklearn.metrics import roc_auc_score\n",
    "from sklearn.metrics import classification_report,confusion_matrix\n",
    "from sklearn.metrics import cohen_kappa_score\n",
    "from sklearn.metrics import mean_squared_error, r2_score,accuracy_score,recall_score,precision_score, f1_score"
   ]
  },
  {
   "cell_type": "code",
   "execution_count": 15,
   "metadata": {},
   "outputs": [],
   "source": [
    "#definition of useful methods\n",
    "def plot_learning_curve(estimator, title, X, y, axes=None, ylim=None, cv=None,\n",
    "                        n_jobs=None, train_sizes=np.linspace(.1, 1.0, 5)):\n",
    "    if axes is None:\n",
    "        _, axes = plt.subplots(1, 3, figsize=(20, 5))\n",
    "\n",
    "    axes[0].set_title(title)\n",
    "    if ylim is not None:\n",
    "        axes[0].set_ylim(*ylim)\n",
    "    axes[0].set_xlabel(\"Training examples\")\n",
    "    axes[0].set_ylabel(\"Score\")\n",
    "\n",
    "    train_sizes, train_scores, test_scores, fit_times, _ = \\\n",
    "        learning_curve(estimator, X, y, cv=cv, n_jobs=n_jobs,\n",
    "                       train_sizes=train_sizes,\n",
    "                       return_times=True)\n",
    "    train_scores_mean = np.mean(train_scores, axis=1)\n",
    "    train_scores_std = np.std(train_scores, axis=1)\n",
    "    test_scores_mean = np.mean(test_scores, axis=1)\n",
    "    test_scores_std = np.std(test_scores, axis=1)\n",
    "    fit_times_mean = np.mean(fit_times, axis=1)\n",
    "    fit_times_std = np.std(fit_times, axis=1)\n",
    "\n",
    "    # Plot learning curve\n",
    "    axes[0].grid()\n",
    "    axes[0].fill_between(train_sizes, train_scores_mean - train_scores_std,\n",
    "                         train_scores_mean + train_scores_std, alpha=0.1,\n",
    "                         color=\"r\")\n",
    "    axes[0].fill_between(train_sizes, test_scores_mean - test_scores_std,\n",
    "                         test_scores_mean + test_scores_std, alpha=0.1,\n",
    "                         color=\"g\")\n",
    "    axes[0].plot(train_sizes, train_scores_mean, 'o-', color=\"r\",\n",
    "                 label=\"Training score\")\n",
    "    axes[0].plot(train_sizes, test_scores_mean, 'o-', color=\"g\",\n",
    "                 label=\"Cross-validation score\")\n",
    "    axes[0].legend(loc=\"best\")\n",
    "\n",
    "    # Plot n_samples vs fit_times\n",
    "    axes[1].grid()\n",
    "    axes[1].plot(train_sizes, fit_times_mean, 'o-')\n",
    "    axes[1].fill_between(train_sizes, fit_times_mean - fit_times_std,\n",
    "                         fit_times_mean + fit_times_std, alpha=0.1)\n",
    "    axes[1].set_xlabel(\"Training examples\")\n",
    "    axes[1].set_ylabel(\"fit_times\")\n",
    "    axes[1].set_title(\"Scalability of the model\")\n",
    "\n",
    "    # Plot fit_time vs score\n",
    "    axes[2].grid()\n",
    "    axes[2].plot(fit_times_mean, test_scores_mean, 'o-')\n",
    "    axes[2].fill_between(fit_times_mean, test_scores_mean - test_scores_std,\n",
    "                         test_scores_mean + test_scores_std, alpha=0.1)\n",
    "    axes[2].set_xlabel(\"fit_times\")\n",
    "    axes[2].set_ylabel(\"Score\")\n",
    "    axes[2].set_title(\"Performance of the model\")\n",
    "\n",
    "    return plt"
   ]
  },
  {
   "cell_type": "markdown",
   "metadata": {},
   "source": [
    "### 3.1 Predict the winning team\n",
    "\n",
    "This problem is possibly the most known problem in any sports because it would be very valuable to know who the winner would be in a given match, whether for betting or for investimens, and so on. It is the most bet option because of its simplicity, only three simple options (Win, Draw, Lose) and meaning to thoose who bet. However it's results are very unpredictable and some would argue that they have some randomness associated, there are so many internal and external factors to take into account and even then no predictor would accurtly predict every game. A team that has won a game can, right after, in the next game, in the same stadium, against the same team, loose that game.\n",
    "\n",
    "#### Approach"
   ]
  },
  {
   "cell_type": "markdown",
   "metadata": {},
   "source": [
    "For this problem tha dataset consisted of the games played over the course of 5 years, between 2011/2012 until 2016/2017, of the five major european leagues, suming to a total of 10112 games. \n",
    "There are two necessary input features for this problem, the home team and the away team, in order to be able to predict who will win.\n",
    "The output feature will be in order to the home team, representing the result of the home team, a Win means that the home team won, a Lose means that the home team lost. For this representation the output (Win, Draw,Lose) will be transformed into (1,0,-1), because it will be usefull for future use."
   ]
  },
  {
   "cell_type": "code",
   "execution_count": 16,
   "metadata": {},
   "outputs": [
    {
     "data": {
      "text/html": [
       "<div>\n",
       "<style scoped>\n",
       "    .dataframe tbody tr th:only-of-type {\n",
       "        vertical-align: middle;\n",
       "    }\n",
       "\n",
       "    .dataframe tbody tr th {\n",
       "        vertical-align: top;\n",
       "    }\n",
       "\n",
       "    .dataframe thead th {\n",
       "        text-align: right;\n",
       "    }\n",
       "</style>\n",
       "<table border=\"1\" class=\"dataframe\">\n",
       "  <thead>\n",
       "    <tr style=\"text-align: right;\">\n",
       "      <th></th>\n",
       "      <th>ht</th>\n",
       "      <th>at</th>\n",
       "      <th>fthg</th>\n",
       "      <th>ftag</th>\n",
       "      <th>result</th>\n",
       "    </tr>\n",
       "  </thead>\n",
       "  <tbody>\n",
       "    <tr>\n",
       "      <th>0</th>\n",
       "      <td>Borussia Dortmund</td>\n",
       "      <td>Hamburg SV</td>\n",
       "      <td>3</td>\n",
       "      <td>1</td>\n",
       "      <td>1.0</td>\n",
       "    </tr>\n",
       "    <tr>\n",
       "      <th>1</th>\n",
       "      <td>FC Augsburg</td>\n",
       "      <td>SC Freiburg</td>\n",
       "      <td>2</td>\n",
       "      <td>2</td>\n",
       "      <td>0.0</td>\n",
       "    </tr>\n",
       "    <tr>\n",
       "      <th>2</th>\n",
       "      <td>Werder Bremen</td>\n",
       "      <td>Kaiserslautern</td>\n",
       "      <td>2</td>\n",
       "      <td>0</td>\n",
       "      <td>1.0</td>\n",
       "    </tr>\n",
       "    <tr>\n",
       "      <th>3</th>\n",
       "      <td>Paris Saint-Germain</td>\n",
       "      <td>Lorient</td>\n",
       "      <td>0</td>\n",
       "      <td>1</td>\n",
       "      <td>-1.0</td>\n",
       "    </tr>\n",
       "    <tr>\n",
       "      <th>4</th>\n",
       "      <td>Caen</td>\n",
       "      <td>Valenciennes</td>\n",
       "      <td>1</td>\n",
       "      <td>0</td>\n",
       "      <td>1.0</td>\n",
       "    </tr>\n",
       "  </tbody>\n",
       "</table>\n",
       "</div>"
      ],
      "text/plain": [
       "                    ht              at  fthg  ftag  result\n",
       "0    Borussia Dortmund      Hamburg SV     3     1     1.0\n",
       "1          FC Augsburg     SC Freiburg     2     2     0.0\n",
       "2        Werder Bremen  Kaiserslautern     2     0     1.0\n",
       "3  Paris Saint-Germain         Lorient     0     1    -1.0\n",
       "4                 Caen    Valenciennes     1     0     1.0"
      ]
     },
     "execution_count": 16,
     "metadata": {},
     "output_type": "execute_result"
    }
   ],
   "source": [
    "games = ginf[['ht','at','fthg','ftag']].copy()\n",
    "games['result'] = games['fthg'] - games['ftag']\n",
    "\n",
    "col = 'result'\n",
    "conditions = [games[col] > 0 , games[col] == 0, games[col] < 0]\n",
    "choices = [1 , 0 , -1]\n",
    "games['result'] = np.select(conditions,choices,default=np.nan)\n",
    "games.head()"
   ]
  },
  {
   "cell_type": "markdown",
   "metadata": {},
   "source": [
    "For an initial approach we will only take into account the home team and away team.\n",
    "As we can see the **ht** and **at** features are categorical, so we need to convert them to binary dummies."
   ]
  },
  {
   "cell_type": "code",
   "execution_count": 17,
   "metadata": {
    "scrolled": true
   },
   "outputs": [
    {
     "data": {
      "text/html": [
       "<div>\n",
       "<style scoped>\n",
       "    .dataframe tbody tr th:only-of-type {\n",
       "        vertical-align: middle;\n",
       "    }\n",
       "\n",
       "    .dataframe tbody tr th {\n",
       "        vertical-align: top;\n",
       "    }\n",
       "\n",
       "    .dataframe thead th {\n",
       "        text-align: right;\n",
       "    }\n",
       "</style>\n",
       "<table border=\"1\" class=\"dataframe\">\n",
       "  <thead>\n",
       "    <tr style=\"text-align: right;\">\n",
       "      <th></th>\n",
       "      <th>result</th>\n",
       "      <th>ht_AC Ajaccio</th>\n",
       "      <th>ht_AC Milan</th>\n",
       "      <th>ht_AJ Auxerre</th>\n",
       "      <th>ht_AS Monaco</th>\n",
       "      <th>ht_AS Nancy Lorraine</th>\n",
       "      <th>ht_AS Roma</th>\n",
       "      <th>ht_Alaves</th>\n",
       "      <th>ht_Almeria</th>\n",
       "      <th>ht_Angers</th>\n",
       "      <th>...</th>\n",
       "      <th>at_Valenciennes</th>\n",
       "      <th>at_VfB Stuttgart</th>\n",
       "      <th>at_VfL Wolfsburg</th>\n",
       "      <th>at_Villarreal</th>\n",
       "      <th>at_Watford</th>\n",
       "      <th>at_Werder Bremen</th>\n",
       "      <th>at_West Brom</th>\n",
       "      <th>at_West Ham</th>\n",
       "      <th>at_Wigan</th>\n",
       "      <th>at_Wolves</th>\n",
       "    </tr>\n",
       "  </thead>\n",
       "  <tbody>\n",
       "    <tr>\n",
       "      <th>0</th>\n",
       "      <td>1.0</td>\n",
       "      <td>0</td>\n",
       "      <td>0</td>\n",
       "      <td>0</td>\n",
       "      <td>0</td>\n",
       "      <td>0</td>\n",
       "      <td>0</td>\n",
       "      <td>0</td>\n",
       "      <td>0</td>\n",
       "      <td>0</td>\n",
       "      <td>...</td>\n",
       "      <td>0</td>\n",
       "      <td>0</td>\n",
       "      <td>0</td>\n",
       "      <td>0</td>\n",
       "      <td>0</td>\n",
       "      <td>0</td>\n",
       "      <td>0</td>\n",
       "      <td>0</td>\n",
       "      <td>0</td>\n",
       "      <td>0</td>\n",
       "    </tr>\n",
       "    <tr>\n",
       "      <th>1</th>\n",
       "      <td>0.0</td>\n",
       "      <td>0</td>\n",
       "      <td>0</td>\n",
       "      <td>0</td>\n",
       "      <td>0</td>\n",
       "      <td>0</td>\n",
       "      <td>0</td>\n",
       "      <td>0</td>\n",
       "      <td>0</td>\n",
       "      <td>0</td>\n",
       "      <td>...</td>\n",
       "      <td>0</td>\n",
       "      <td>0</td>\n",
       "      <td>0</td>\n",
       "      <td>0</td>\n",
       "      <td>0</td>\n",
       "      <td>0</td>\n",
       "      <td>0</td>\n",
       "      <td>0</td>\n",
       "      <td>0</td>\n",
       "      <td>0</td>\n",
       "    </tr>\n",
       "    <tr>\n",
       "      <th>2</th>\n",
       "      <td>1.0</td>\n",
       "      <td>0</td>\n",
       "      <td>0</td>\n",
       "      <td>0</td>\n",
       "      <td>0</td>\n",
       "      <td>0</td>\n",
       "      <td>0</td>\n",
       "      <td>0</td>\n",
       "      <td>0</td>\n",
       "      <td>0</td>\n",
       "      <td>...</td>\n",
       "      <td>0</td>\n",
       "      <td>0</td>\n",
       "      <td>0</td>\n",
       "      <td>0</td>\n",
       "      <td>0</td>\n",
       "      <td>0</td>\n",
       "      <td>0</td>\n",
       "      <td>0</td>\n",
       "      <td>0</td>\n",
       "      <td>0</td>\n",
       "    </tr>\n",
       "    <tr>\n",
       "      <th>3</th>\n",
       "      <td>-1.0</td>\n",
       "      <td>0</td>\n",
       "      <td>0</td>\n",
       "      <td>0</td>\n",
       "      <td>0</td>\n",
       "      <td>0</td>\n",
       "      <td>0</td>\n",
       "      <td>0</td>\n",
       "      <td>0</td>\n",
       "      <td>0</td>\n",
       "      <td>...</td>\n",
       "      <td>0</td>\n",
       "      <td>0</td>\n",
       "      <td>0</td>\n",
       "      <td>0</td>\n",
       "      <td>0</td>\n",
       "      <td>0</td>\n",
       "      <td>0</td>\n",
       "      <td>0</td>\n",
       "      <td>0</td>\n",
       "      <td>0</td>\n",
       "    </tr>\n",
       "    <tr>\n",
       "      <th>4</th>\n",
       "      <td>1.0</td>\n",
       "      <td>0</td>\n",
       "      <td>0</td>\n",
       "      <td>0</td>\n",
       "      <td>0</td>\n",
       "      <td>0</td>\n",
       "      <td>0</td>\n",
       "      <td>0</td>\n",
       "      <td>0</td>\n",
       "      <td>0</td>\n",
       "      <td>...</td>\n",
       "      <td>1</td>\n",
       "      <td>0</td>\n",
       "      <td>0</td>\n",
       "      <td>0</td>\n",
       "      <td>0</td>\n",
       "      <td>0</td>\n",
       "      <td>0</td>\n",
       "      <td>0</td>\n",
       "      <td>0</td>\n",
       "      <td>0</td>\n",
       "    </tr>\n",
       "  </tbody>\n",
       "</table>\n",
       "<p>5 rows × 296 columns</p>\n",
       "</div>"
      ],
      "text/plain": [
       "   result  ht_AC Ajaccio  ht_AC Milan  ht_AJ Auxerre  ht_AS Monaco  \\\n",
       "0     1.0              0            0              0             0   \n",
       "1     0.0              0            0              0             0   \n",
       "2     1.0              0            0              0             0   \n",
       "3    -1.0              0            0              0             0   \n",
       "4     1.0              0            0              0             0   \n",
       "\n",
       "   ht_AS Nancy Lorraine  ht_AS Roma  ht_Alaves  ht_Almeria  ht_Angers  ...  \\\n",
       "0                     0           0          0           0          0  ...   \n",
       "1                     0           0          0           0          0  ...   \n",
       "2                     0           0          0           0          0  ...   \n",
       "3                     0           0          0           0          0  ...   \n",
       "4                     0           0          0           0          0  ...   \n",
       "\n",
       "   at_Valenciennes  at_VfB Stuttgart  at_VfL Wolfsburg  at_Villarreal  \\\n",
       "0                0                 0                 0              0   \n",
       "1                0                 0                 0              0   \n",
       "2                0                 0                 0              0   \n",
       "3                0                 0                 0              0   \n",
       "4                1                 0                 0              0   \n",
       "\n",
       "   at_Watford  at_Werder Bremen  at_West Brom  at_West Ham  at_Wigan  \\\n",
       "0           0                 0             0            0         0   \n",
       "1           0                 0             0            0         0   \n",
       "2           0                 0             0            0         0   \n",
       "3           0                 0             0            0         0   \n",
       "4           0                 0             0            0         0   \n",
       "\n",
       "   at_Wolves  \n",
       "0          0  \n",
       "1          0  \n",
       "2          0  \n",
       "3          0  \n",
       "4          0  \n",
       "\n",
       "[5 rows x 296 columns]"
      ]
     },
     "execution_count": 17,
     "metadata": {},
     "output_type": "execute_result"
    }
   ],
   "source": [
    "games = games[['ht','at','result']]\n",
    "games_dummies = pd.get_dummies(games, columns=['ht','at'])\n",
    "games_dummies.head()"
   ]
  },
  {
   "cell_type": "markdown",
   "metadata": {},
   "source": [
    "As we can see we end up to a total of 295 columns as part of the input and one for the output.\n",
    "Next we will split the data into the training one and the test one, so we can train our model."
   ]
  },
  {
   "cell_type": "code",
   "execution_count": 18,
   "metadata": {
    "scrolled": true
   },
   "outputs": [
    {
     "name": "stdout",
     "output_type": "stream",
     "text": [
      "(10112, 295)\n",
      "(10112,)\n"
     ]
    },
    {
     "data": {
      "text/html": [
       "<div>\n",
       "<style scoped>\n",
       "    .dataframe tbody tr th:only-of-type {\n",
       "        vertical-align: middle;\n",
       "    }\n",
       "\n",
       "    .dataframe tbody tr th {\n",
       "        vertical-align: top;\n",
       "    }\n",
       "\n",
       "    .dataframe thead th {\n",
       "        text-align: right;\n",
       "    }\n",
       "</style>\n",
       "<table border=\"1\" class=\"dataframe\">\n",
       "  <thead>\n",
       "    <tr style=\"text-align: right;\">\n",
       "      <th></th>\n",
       "      <th>ht_AC Ajaccio</th>\n",
       "      <th>ht_AC Milan</th>\n",
       "      <th>ht_AJ Auxerre</th>\n",
       "      <th>ht_AS Monaco</th>\n",
       "      <th>ht_AS Nancy Lorraine</th>\n",
       "      <th>ht_AS Roma</th>\n",
       "      <th>ht_Alaves</th>\n",
       "      <th>ht_Almeria</th>\n",
       "      <th>ht_Angers</th>\n",
       "      <th>ht_Arsenal</th>\n",
       "      <th>...</th>\n",
       "      <th>at_Valenciennes</th>\n",
       "      <th>at_VfB Stuttgart</th>\n",
       "      <th>at_VfL Wolfsburg</th>\n",
       "      <th>at_Villarreal</th>\n",
       "      <th>at_Watford</th>\n",
       "      <th>at_Werder Bremen</th>\n",
       "      <th>at_West Brom</th>\n",
       "      <th>at_West Ham</th>\n",
       "      <th>at_Wigan</th>\n",
       "      <th>at_Wolves</th>\n",
       "    </tr>\n",
       "  </thead>\n",
       "  <tbody>\n",
       "    <tr>\n",
       "      <th>4786</th>\n",
       "      <td>0</td>\n",
       "      <td>0</td>\n",
       "      <td>0</td>\n",
       "      <td>0</td>\n",
       "      <td>0</td>\n",
       "      <td>0</td>\n",
       "      <td>0</td>\n",
       "      <td>0</td>\n",
       "      <td>0</td>\n",
       "      <td>1</td>\n",
       "      <td>...</td>\n",
       "      <td>0</td>\n",
       "      <td>0</td>\n",
       "      <td>0</td>\n",
       "      <td>0</td>\n",
       "      <td>0</td>\n",
       "      <td>0</td>\n",
       "      <td>0</td>\n",
       "      <td>0</td>\n",
       "      <td>0</td>\n",
       "      <td>0</td>\n",
       "    </tr>\n",
       "    <tr>\n",
       "      <th>4916</th>\n",
       "      <td>0</td>\n",
       "      <td>0</td>\n",
       "      <td>0</td>\n",
       "      <td>0</td>\n",
       "      <td>0</td>\n",
       "      <td>0</td>\n",
       "      <td>0</td>\n",
       "      <td>0</td>\n",
       "      <td>0</td>\n",
       "      <td>0</td>\n",
       "      <td>...</td>\n",
       "      <td>0</td>\n",
       "      <td>0</td>\n",
       "      <td>0</td>\n",
       "      <td>0</td>\n",
       "      <td>0</td>\n",
       "      <td>0</td>\n",
       "      <td>0</td>\n",
       "      <td>0</td>\n",
       "      <td>0</td>\n",
       "      <td>0</td>\n",
       "    </tr>\n",
       "    <tr>\n",
       "      <th>239</th>\n",
       "      <td>0</td>\n",
       "      <td>0</td>\n",
       "      <td>0</td>\n",
       "      <td>0</td>\n",
       "      <td>0</td>\n",
       "      <td>0</td>\n",
       "      <td>0</td>\n",
       "      <td>0</td>\n",
       "      <td>0</td>\n",
       "      <td>0</td>\n",
       "      <td>...</td>\n",
       "      <td>0</td>\n",
       "      <td>0</td>\n",
       "      <td>0</td>\n",
       "      <td>0</td>\n",
       "      <td>0</td>\n",
       "      <td>0</td>\n",
       "      <td>0</td>\n",
       "      <td>0</td>\n",
       "      <td>0</td>\n",
       "      <td>0</td>\n",
       "    </tr>\n",
       "    <tr>\n",
       "      <th>5152</th>\n",
       "      <td>0</td>\n",
       "      <td>0</td>\n",
       "      <td>0</td>\n",
       "      <td>0</td>\n",
       "      <td>0</td>\n",
       "      <td>0</td>\n",
       "      <td>0</td>\n",
       "      <td>0</td>\n",
       "      <td>0</td>\n",
       "      <td>0</td>\n",
       "      <td>...</td>\n",
       "      <td>0</td>\n",
       "      <td>0</td>\n",
       "      <td>0</td>\n",
       "      <td>0</td>\n",
       "      <td>0</td>\n",
       "      <td>0</td>\n",
       "      <td>0</td>\n",
       "      <td>0</td>\n",
       "      <td>0</td>\n",
       "      <td>0</td>\n",
       "    </tr>\n",
       "    <tr>\n",
       "      <th>5204</th>\n",
       "      <td>0</td>\n",
       "      <td>0</td>\n",
       "      <td>0</td>\n",
       "      <td>0</td>\n",
       "      <td>0</td>\n",
       "      <td>0</td>\n",
       "      <td>0</td>\n",
       "      <td>0</td>\n",
       "      <td>0</td>\n",
       "      <td>0</td>\n",
       "      <td>...</td>\n",
       "      <td>1</td>\n",
       "      <td>0</td>\n",
       "      <td>0</td>\n",
       "      <td>0</td>\n",
       "      <td>0</td>\n",
       "      <td>0</td>\n",
       "      <td>0</td>\n",
       "      <td>0</td>\n",
       "      <td>0</td>\n",
       "      <td>0</td>\n",
       "    </tr>\n",
       "    <tr>\n",
       "      <th>...</th>\n",
       "      <td>...</td>\n",
       "      <td>...</td>\n",
       "      <td>...</td>\n",
       "      <td>...</td>\n",
       "      <td>...</td>\n",
       "      <td>...</td>\n",
       "      <td>...</td>\n",
       "      <td>...</td>\n",
       "      <td>...</td>\n",
       "      <td>...</td>\n",
       "      <td>...</td>\n",
       "      <td>...</td>\n",
       "      <td>...</td>\n",
       "      <td>...</td>\n",
       "      <td>...</td>\n",
       "      <td>...</td>\n",
       "      <td>...</td>\n",
       "      <td>...</td>\n",
       "      <td>...</td>\n",
       "      <td>...</td>\n",
       "      <td>...</td>\n",
       "    </tr>\n",
       "    <tr>\n",
       "      <th>4218</th>\n",
       "      <td>0</td>\n",
       "      <td>0</td>\n",
       "      <td>0</td>\n",
       "      <td>0</td>\n",
       "      <td>0</td>\n",
       "      <td>0</td>\n",
       "      <td>0</td>\n",
       "      <td>0</td>\n",
       "      <td>0</td>\n",
       "      <td>0</td>\n",
       "      <td>...</td>\n",
       "      <td>0</td>\n",
       "      <td>0</td>\n",
       "      <td>0</td>\n",
       "      <td>0</td>\n",
       "      <td>0</td>\n",
       "      <td>0</td>\n",
       "      <td>0</td>\n",
       "      <td>0</td>\n",
       "      <td>0</td>\n",
       "      <td>0</td>\n",
       "    </tr>\n",
       "    <tr>\n",
       "      <th>7535</th>\n",
       "      <td>0</td>\n",
       "      <td>0</td>\n",
       "      <td>0</td>\n",
       "      <td>0</td>\n",
       "      <td>0</td>\n",
       "      <td>0</td>\n",
       "      <td>0</td>\n",
       "      <td>0</td>\n",
       "      <td>0</td>\n",
       "      <td>0</td>\n",
       "      <td>...</td>\n",
       "      <td>0</td>\n",
       "      <td>0</td>\n",
       "      <td>0</td>\n",
       "      <td>0</td>\n",
       "      <td>0</td>\n",
       "      <td>0</td>\n",
       "      <td>0</td>\n",
       "      <td>0</td>\n",
       "      <td>0</td>\n",
       "      <td>0</td>\n",
       "    </tr>\n",
       "    <tr>\n",
       "      <th>6043</th>\n",
       "      <td>0</td>\n",
       "      <td>0</td>\n",
       "      <td>0</td>\n",
       "      <td>0</td>\n",
       "      <td>0</td>\n",
       "      <td>0</td>\n",
       "      <td>0</td>\n",
       "      <td>0</td>\n",
       "      <td>0</td>\n",
       "      <td>0</td>\n",
       "      <td>...</td>\n",
       "      <td>0</td>\n",
       "      <td>0</td>\n",
       "      <td>0</td>\n",
       "      <td>0</td>\n",
       "      <td>0</td>\n",
       "      <td>0</td>\n",
       "      <td>0</td>\n",
       "      <td>0</td>\n",
       "      <td>0</td>\n",
       "      <td>0</td>\n",
       "    </tr>\n",
       "    <tr>\n",
       "      <th>7408</th>\n",
       "      <td>0</td>\n",
       "      <td>0</td>\n",
       "      <td>0</td>\n",
       "      <td>0</td>\n",
       "      <td>0</td>\n",
       "      <td>0</td>\n",
       "      <td>0</td>\n",
       "      <td>0</td>\n",
       "      <td>0</td>\n",
       "      <td>0</td>\n",
       "      <td>...</td>\n",
       "      <td>0</td>\n",
       "      <td>0</td>\n",
       "      <td>0</td>\n",
       "      <td>0</td>\n",
       "      <td>0</td>\n",
       "      <td>0</td>\n",
       "      <td>0</td>\n",
       "      <td>0</td>\n",
       "      <td>0</td>\n",
       "      <td>0</td>\n",
       "    </tr>\n",
       "    <tr>\n",
       "      <th>9004</th>\n",
       "      <td>0</td>\n",
       "      <td>0</td>\n",
       "      <td>0</td>\n",
       "      <td>0</td>\n",
       "      <td>0</td>\n",
       "      <td>0</td>\n",
       "      <td>0</td>\n",
       "      <td>0</td>\n",
       "      <td>0</td>\n",
       "      <td>0</td>\n",
       "      <td>...</td>\n",
       "      <td>0</td>\n",
       "      <td>0</td>\n",
       "      <td>0</td>\n",
       "      <td>0</td>\n",
       "      <td>0</td>\n",
       "      <td>0</td>\n",
       "      <td>0</td>\n",
       "      <td>0</td>\n",
       "      <td>0</td>\n",
       "      <td>0</td>\n",
       "    </tr>\n",
       "  </tbody>\n",
       "</table>\n",
       "<p>6572 rows × 295 columns</p>\n",
       "</div>"
      ],
      "text/plain": [
       "      ht_AC Ajaccio  ht_AC Milan  ht_AJ Auxerre  ht_AS Monaco  \\\n",
       "4786              0            0              0             0   \n",
       "4916              0            0              0             0   \n",
       "239               0            0              0             0   \n",
       "5152              0            0              0             0   \n",
       "5204              0            0              0             0   \n",
       "...             ...          ...            ...           ...   \n",
       "4218              0            0              0             0   \n",
       "7535              0            0              0             0   \n",
       "6043              0            0              0             0   \n",
       "7408              0            0              0             0   \n",
       "9004              0            0              0             0   \n",
       "\n",
       "      ht_AS Nancy Lorraine  ht_AS Roma  ht_Alaves  ht_Almeria  ht_Angers  \\\n",
       "4786                     0           0          0           0          0   \n",
       "4916                     0           0          0           0          0   \n",
       "239                      0           0          0           0          0   \n",
       "5152                     0           0          0           0          0   \n",
       "5204                     0           0          0           0          0   \n",
       "...                    ...         ...        ...         ...        ...   \n",
       "4218                     0           0          0           0          0   \n",
       "7535                     0           0          0           0          0   \n",
       "6043                     0           0          0           0          0   \n",
       "7408                     0           0          0           0          0   \n",
       "9004                     0           0          0           0          0   \n",
       "\n",
       "      ht_Arsenal  ...  at_Valenciennes  at_VfB Stuttgart  at_VfL Wolfsburg  \\\n",
       "4786           1  ...                0                 0                 0   \n",
       "4916           0  ...                0                 0                 0   \n",
       "239            0  ...                0                 0                 0   \n",
       "5152           0  ...                0                 0                 0   \n",
       "5204           0  ...                1                 0                 0   \n",
       "...          ...  ...              ...               ...               ...   \n",
       "4218           0  ...                0                 0                 0   \n",
       "7535           0  ...                0                 0                 0   \n",
       "6043           0  ...                0                 0                 0   \n",
       "7408           0  ...                0                 0                 0   \n",
       "9004           0  ...                0                 0                 0   \n",
       "\n",
       "      at_Villarreal  at_Watford  at_Werder Bremen  at_West Brom  at_West Ham  \\\n",
       "4786              0           0                 0             0            0   \n",
       "4916              0           0                 0             0            0   \n",
       "239               0           0                 0             0            0   \n",
       "5152              0           0                 0             0            0   \n",
       "5204              0           0                 0             0            0   \n",
       "...             ...         ...               ...           ...          ...   \n",
       "4218              0           0                 0             0            0   \n",
       "7535              0           0                 0             0            0   \n",
       "6043              0           0                 0             0            0   \n",
       "7408              0           0                 0             0            0   \n",
       "9004              0           0                 0             0            0   \n",
       "\n",
       "      at_Wigan  at_Wolves  \n",
       "4786         0          0  \n",
       "4916         0          0  \n",
       "239          0          0  \n",
       "5152         0          0  \n",
       "5204         0          0  \n",
       "...        ...        ...  \n",
       "4218         0          0  \n",
       "7535         0          0  \n",
       "6043         0          0  \n",
       "7408         0          0  \n",
       "9004         0          0  \n",
       "\n",
       "[6572 rows x 295 columns]"
      ]
     },
     "execution_count": 18,
     "metadata": {},
     "output_type": "execute_result"
    }
   ],
   "source": [
    "X = games_dummies.iloc[:,1:]\n",
    "y = games_dummies.iloc[:,:1].values.ravel()\n",
    "print(X.shape)\n",
    "print(y.shape)\n",
    "X_train, X_test, y_train, y_test = train_test_split(X, y, test_size=0.35, random_state=1,stratify=y)\n",
    "X_train"
   ]
  },
  {
   "cell_type": "markdown",
   "metadata": {},
   "source": [
    "For training and tunning our models we will GridSearchCV, which will conduct an exaustive search over the hiperparameters and options specified, in order to find the best that fit our data."
   ]
  },
  {
   "cell_type": "code",
   "execution_count": 19,
   "metadata": {},
   "outputs": [
    {
     "name": "stdout",
     "output_type": "stream",
     "text": [
      "Model name: KNN\n",
      "R2 score: -0.6567\n",
      "Mean square error: 1.1850\n",
      "F-measure: 0.5090\n",
      "The accuracy of classifying is 50.904 %\n",
      "\n",
      "\n",
      "Model name: SVC\n",
      "R2 score: -0.6002\n",
      "Mean square error: 1.1446\n",
      "F-measure: 0.4986\n",
      "The accuracy of classifying is 49.859 %\n",
      "\n",
      "\n"
     ]
    },
    {
     "name": "stderr",
     "output_type": "stream",
     "text": [
      "c:\\users\\gustavo\\appdata\\local\\programs\\python\\python38-32\\lib\\site-packages\\sklearn\\neural_network\\_multilayer_perceptron.py:568: ConvergenceWarning: Stochastic Optimizer: Maximum iterations (1000) reached and the optimization hasn't converged yet.\n",
      "  warnings.warn(\n"
     ]
    },
    {
     "name": "stdout",
     "output_type": "stream",
     "text": [
      "Model name: MLP\n",
      "R2 score: -0.7282\n",
      "Mean square error: 1.2362\n",
      "F-measure: 0.4944\n",
      "The accuracy of classifying is 49.435 %\n",
      "\n",
      "\n"
     ]
    }
   ],
   "source": [
    "models = []\n",
    "\n",
    "KNNhyperparameters = {'kneighborsclassifier__n_neighbors' : [41,81, 101]}\n",
    "SVMhyperparameters = {'svc__kernel' : ['linear','rbf']}\n",
    "MLPhyperparameters = {'mlpclassifier__solver' : ['adam','sgd'] , 'mlpclassifier__hidden_layer_sizes' : [(30,20,3) , (5,5,5,5,5)]}\n",
    "\n",
    "models.append(('KNN' , KNeighborsClassifier(), KNNhyperparameters))\n",
    "models.append(('SVC' , svm.SVC(), SVMhyperparameters))\n",
    "models.append(('MLP' , MLPClassifier(max_iter = 1000) , MLPhyperparameters ))\n",
    "\n",
    "for name, model, hyper in models:\n",
    "    pipeline = make_pipeline(model)\n",
    "    clf = GridSearchCV(pipeline, hyper)\n",
    "    clf.fit(X_train,y_train)\n",
    "    y_pred = clf.predict(X_test)\n",
    "    print(\"Model name: \" + name)\n",
    "    print(\"R2 score: {:.4f}\".format(r2_score(y_test, y_pred)))\n",
    "    print(\"Mean square error: {:.4f}\".format(mean_squared_error(y_test, y_pred)))\n",
    "    #print('Precision: {:.4f}'.format(precision_score(y_test, y_pred, average='micro')))\n",
    "    #print('Recall: {:.4f}'.format(recall_score(y_test, y_pred, average='micro')))\n",
    "    #print('Accuracy: {:.4f}'.format(accuracy_score(y_test, y_pred)))\n",
    "    print('F-measure: {:.4f}'.format(f1_score(y_test, y_pred, average='micro')))\n",
    "    print('The accuracy of classifying is {:.3f} %'.format(clf.score(X_test, y_test)*100))\n",
    "    print(\"\\n\")"
   ]
  },
  {
   "cell_type": "markdown",
   "metadata": {},
   "source": [
    "The KNN model had the best accuracy, however it is not worth to dig into details because as we can see the previous data has very little features, only the teams that were playing against each other, so maybe with more input data our model can understand the data better and thus make better predictions. One important feature to join is the season, almost any team keeps its formation from 2011/2012 until 2016/2017, there player trades, the player improve or decline and even the coach changes, so adding the season can lead to result improvements. Furthermore, we have acess to the odds for each possible outcome before each match, odds take into account external factors that we don't have access, so it might be profitable to include that into our data set."
   ]
  },
  {
   "cell_type": "code",
   "execution_count": 20,
   "metadata": {},
   "outputs": [
    {
     "name": "stdout",
     "output_type": "stream",
     "text": [
      "(10112, 299)\n",
      "(10112,)\n"
     ]
    },
    {
     "data": {
      "text/plain": [
       "array([1., 0., 1., ..., 1., 0., 1.])"
      ]
     },
     "execution_count": 20,
     "metadata": {},
     "output_type": "execute_result"
    }
   ],
   "source": [
    "games_2 = ginf[['ht','at','fthg','ftag','season','odd_h','odd_d','odd_a']].copy()\n",
    "games_2['result'] = games_2['fthg'] - games_2['ftag']\n",
    "\n",
    "col = 'result'\n",
    "conditions = [games_2[col] > 0 , games_2[col] == 0, games_2[col] < 0]\n",
    "choices = [1 , 0 , -1]\n",
    "games_2['result'] = np.select(conditions,choices,default=np.nan)\n",
    "\n",
    "games_2 = games_2[['ht','at','result','season','odd_h','odd_d','odd_a']]\n",
    "games_dummies_2 = pd.get_dummies(games_2, columns=['ht','at'])\n",
    "X = games_dummies_2.iloc[:,1:]\n",
    "y = games_dummies_2.iloc[:,:1].values.ravel()\n",
    "print(X.shape)\n",
    "print(y.shape)\n",
    "X_train, X_test, y_train, y_test = train_test_split(X, y, test_size=0.35, random_state=1,stratify=y)\n",
    "y"
   ]
  },
  {
   "cell_type": "code",
   "execution_count": 21,
   "metadata": {},
   "outputs": [
    {
     "name": "stdout",
     "output_type": "stream",
     "text": [
      "Model name: KNN\n",
      "R2 score: -0.5291\n",
      "Mean square error: 1.0938\n",
      "Precision: 0.5282\n",
      "Recall: 0.5282\n",
      "Accuracy: 0.5282\n",
      "F-measure: 0.5282\n",
      "The accuracy of classifying is 52.825 %\n",
      "Confusion Matrix:\n",
      "[[ 475   42  495]\n",
      " [ 219   58  624]\n",
      " [ 239   51 1337]]\n",
      "Report:\n",
      "              precision    recall  f1-score   support\n",
      "\n",
      "        -1.0       0.51      0.47      0.49      1012\n",
      "         0.0       0.38      0.06      0.11       901\n",
      "         1.0       0.54      0.82      0.65      1627\n",
      "\n",
      "    accuracy                           0.53      3540\n",
      "   macro avg       0.48      0.45      0.42      3540\n",
      "weighted avg       0.49      0.53      0.47      3540\n",
      "\n",
      "{'kneighborsclassifier__n_neighbors': 101}\n",
      "\n",
      "\n",
      "Model name: SVC\n",
      "R2 score: -0.5208\n",
      "Mean square error: 1.0879\n",
      "Precision: 0.5105\n",
      "Recall: 0.5105\n",
      "Accuracy: 0.5105\n",
      "F-measure: 0.5105\n",
      "The accuracy of classifying is 51.045 %\n",
      "Confusion Matrix:\n",
      "[[ 455   97  460]\n",
      " [ 230   89  582]\n",
      " [ 246  118 1263]]\n",
      "Report:\n",
      "              precision    recall  f1-score   support\n",
      "\n",
      "        -1.0       0.49      0.45      0.47      1012\n",
      "         0.0       0.29      0.10      0.15       901\n",
      "         1.0       0.55      0.78      0.64      1627\n",
      "\n",
      "    accuracy                           0.51      3540\n",
      "   macro avg       0.44      0.44      0.42      3540\n",
      "weighted avg       0.47      0.51      0.47      3540\n",
      "\n",
      "{'svc__kernel': 'linear'}\n",
      "\n",
      "\n",
      "Model name: MLP\n",
      "R2 score: -0.9545\n",
      "Mean square error: 1.3980\n",
      "Precision: 0.4596\n",
      "Recall: 0.4596\n",
      "Accuracy: 0.4596\n",
      "F-measure: 0.4596\n",
      "The accuracy of classifying is 45.960 %\n",
      "Confusion Matrix:\n",
      "[[   0    0 1012]\n",
      " [   0    0  901]\n",
      " [   0    0 1627]]\n",
      "Report:\n",
      "              precision    recall  f1-score   support\n",
      "\n",
      "        -1.0       0.00      0.00      0.00      1012\n",
      "         0.0       0.00      0.00      0.00       901\n",
      "         1.0       0.46      1.00      0.63      1627\n",
      "\n",
      "    accuracy                           0.46      3540\n",
      "   macro avg       0.15      0.33      0.21      3540\n",
      "weighted avg       0.21      0.46      0.29      3540\n",
      "\n",
      "{'mlpclassifier__hidden_layer_sizes': (30, 20, 3), 'mlpclassifier__solver': 'adam'}\n",
      "\n",
      "\n"
     ]
    },
    {
     "name": "stderr",
     "output_type": "stream",
     "text": [
      "c:\\users\\gustavo\\appdata\\local\\programs\\python\\python38-32\\lib\\site-packages\\sklearn\\metrics\\_classification.py:1272: UndefinedMetricWarning: Precision and F-score are ill-defined and being set to 0.0 in labels with no predicted samples. Use `zero_division` parameter to control this behavior.\n",
      "  _warn_prf(average, modifier, msg_start, len(result))\n"
     ]
    }
   ],
   "source": [
    "models = []\n",
    "\n",
    "KNNhyperparameters = {'kneighborsclassifier__n_neighbors' : [41,81, 101]}\n",
    "SVMhyperparameters = {'svc__kernel' : ['linear','rbf']}\n",
    "MLPhyperparameters = {'mlpclassifier__solver' : ['adam','sgd'] , 'mlpclassifier__hidden_layer_sizes' : [(30,20,3) , (5,5,5,5,5)]}\n",
    "\n",
    "models.append(('KNN' , KNeighborsClassifier(), KNNhyperparameters))\n",
    "models.append(('SVC' , svm.SVC(), SVMhyperparameters))\n",
    "models.append(('MLP' , MLPClassifier(max_iter = 800) , MLPhyperparameters ))\n",
    "\n",
    "for name, model, hyper in models:\n",
    "    pipeline = make_pipeline(model)\n",
    "    clf = GridSearchCV(pipeline, hyper)\n",
    "    clf.fit(X_train,y_train)\n",
    "    y_pred = clf.predict(X_test)\n",
    "    print(\"Model name: \" + name)\n",
    "    print(\"R2 score: {:.4f}\".format(r2_score(y_test, y_pred)))\n",
    "    print(\"Mean square error: {:.4f}\".format(mean_squared_error(y_test, y_pred)))\n",
    "    print('Precision: {:.4f}'.format(precision_score(y_test, y_pred, average='micro')))\n",
    "    print('Recall: {:.4f}'.format(recall_score(y_test, y_pred, average='micro')))\n",
    "    print('Accuracy: {:.4f}'.format(accuracy_score(y_test, y_pred)))\n",
    "    print('F-measure: {:.4f}'.format(f1_score(y_test, y_pred, average='micro')))\n",
    "    print('The accuracy of classifying is {:.3f} %'.format(clf.score(X_test, y_test)*100))\n",
    "    print('Confusion Matrix:')\n",
    "    print(confusion_matrix(y_test,y_pred))\n",
    "    print('Report:')\n",
    "    print(classification_report(y_test,y_pred))\n",
    "    print(clf.best_params_)\n",
    "    print(\"\\n\")"
   ]
  },
  {
   "cell_type": "code",
   "execution_count": 22,
   "metadata": {},
   "outputs": [
    {
     "data": {
      "image/png": "[encoded data removed]",
      "text/plain": [
       "<Figure size 720x1080 with 6 Axes>"
      ]
     },
     "metadata": {
      "needs_background": "light"
     },
     "output_type": "display_data"
    }
   ],
   "source": [
    "fig, axes = plt.subplots(3, 2, figsize=(10, 15))\n",
    "\n",
    "\n",
    "title = \"Learning Curves (KNearestNeighbors)\"\n",
    "# Cross validation with 100 iterations to get smoother mean test and train\n",
    "# score curves, each time with 20% data randomly selected as a validation set.\n",
    "cv = ShuffleSplit(n_splits=10, test_size=0.2, random_state=0)\n",
    "\n",
    "estimator = KNeighborsClassifier(n_neighbors = 101)\n",
    "plot_learning_curve(estimator, title, X, y, axes=axes[:, 0], ylim=(0.3, 0.7),\n",
    "                    cv=cv, n_jobs=4)\n",
    "\n",
    "title = r\"Learning Curves (SVM, linear kernel)\"\n",
    "# SVC is more expensive so we do a lower number of CV iterations:\n",
    "cv = ShuffleSplit(n_splits=5, test_size=0.2, random_state=0)\n",
    "estimator = svm.SVC(kernel = 'linear')\n",
    "plot_learning_curve(estimator, title, X, y, axes=axes[:, 1], ylim=(0.3, 0.7),\n",
    "                    cv=cv, n_jobs=4)\n",
    "\n",
    "plt.show()"
   ]
  },
  {
   "cell_type": "markdown",
   "metadata": {},
   "source": [
    "As we can see the KNearestNeighbors behaved better in the overall dataset."
   ]
  },
  {
   "cell_type": "markdown",
   "metadata": {},
   "source": [
    "### 3.2 Predict the moment of first goal\n",
    "\n",
    "This problem consists of determining the moment of the first goal, which is also a rather random event because nothing but events during the game can help to determine when a goal will happen but even that is subject of luck and chance.\n",
    "\n",
    "#### Approach"
   ]
  },
  {
   "cell_type": "code",
   "execution_count": null,
   "metadata": {},
   "outputs": [],
   "source": []
  },
  {
   "cell_type": "markdown",
   "metadata": {},
   "source": [
    "#### Experimental Evaluation"
   ]
  },
  {
   "cell_type": "code",
   "execution_count": null,
   "metadata": {},
   "outputs": [],
   "source": []
  },
  {
   "cell_type": "markdown",
   "metadata": {},
   "source": [
    "### 3.3 Predict whether both teams score\n",
    "#### Approach"
   ]
  },
  {
   "cell_type": "code",
   "execution_count": null,
   "metadata": {},
   "outputs": [],
   "source": []
  },
  {
   "cell_type": "markdown",
   "metadata": {},
   "source": [
    "### 3.4 Predict the whether there will be more or less than 2.5 goals\n",
    "#### Approach"
   ]
  },
  {
   "cell_type": "code",
   "execution_count": null,
   "metadata": {},
   "outputs": [],
   "source": []
  },
  {
   "cell_type": "markdown",
   "metadata": {},
   "source": [
    "#### Experimental Evaluation"
   ]
  },
  {
   "cell_type": "code",
   "execution_count": null,
   "metadata": {},
   "outputs": [],
   "source": []
  },
  {
   "cell_type": "markdown",
   "metadata": {},
   "source": [
    "### 3.5 Predict whether an attemp will result in a goal\n",
    "#### Approach"
   ]
  },
  {
   "cell_type": "markdown",
   "metadata": {},
   "source": [
    "#### Experimental Evaluation"
   ]
  },
  {
   "cell_type": "markdown",
   "metadata": {},
   "source": [
    "### 3.6 Predict whether an attemp will result in a save\n",
    "#### Approach"
   ]
  },
  {
   "cell_type": "markdown",
   "metadata": {},
   "source": [
    "#### Experimental Evaluation"
   ]
  },
  {
   "cell_type": "markdown",
   "metadata": {},
   "source": [
    "## 4. Conclusion"
   ]
  },
  {
   "cell_type": "markdown",
   "metadata": {},
   "source": [
    "## References"
   ]
  },
  {
   "cell_type": "code",
   "execution_count": null,
   "metadata": {},
   "outputs": [],
   "source": []
  }
 ],
 "metadata": {
  "kernelspec": {
   "display_name": "Python 3",
   "language": "python",
   "name": "python3"
  },
  "language_info": {
   "codemirror_mode": {
    "name": "ipython",
    "version": 3
   },
   "file_extension": ".py",
   "mimetype": "text/x-python",
   "name": "python",
   "nbconvert_exporter": "python",
   "pygments_lexer": "ipython3",
   "version": "3.8.2"
  }
 },
 "nbformat": 4,
 "nbformat_minor": 4
}
